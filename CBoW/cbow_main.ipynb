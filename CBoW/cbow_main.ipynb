{
 "cells": [
  {
   "cell_type": "markdown",
   "metadata": {},
   "source": [
    "# Continuous Bag-of-Words\n",
    "The CBoW model has been implemented to run through command line with the following flags used in the run below: \n",
    "* *-train* and *-val* is the path to the training and validation data, respectively. \n",
    "* *-d* needs a string denoting the direction of the text window, which can be 'before', 'after' or 'both' for the models $p\\left(y_t|y_{t-c}\\right)$, $p\\left(y_t|y_{t+c}\\right)$ and $p\\left(y_t|y_{t-c}^{t+c}\\right)$, respectively. \n",
    "* *-pad* will store True and enable padding to be used in the model. \n",
    "* *-ws* is an integer and sets the window size, $c$. \n",
    "* *-embed* is an integer that sets the number of embedding dimensions. \n",
    "* *-b* is an integer that sets the batch size. \n",
    "* *-lr* needs a float and sets the learning rate for the model. \n",
    "* *-e* is an integer and sets the number of iterations or epochs for the model to run. \n",
    "* *-f* requires a string that will be used as postfix for all output files. \n",
    "\n",
    "Additional option flags include: \n",
    "* *-r* is the path to a saved checkpoint of the model, which enables resuming training. \n",
    "* *-test* is the path to the test data and this flag activates the test run of the model. This requires that *-r* has also been set. \n",
    "* *-tsne*, stores True and enables making a t-SNE visualization of the tested model. This requires both *-r* and *-test* have been set. "
   ]
  },
  {
   "cell_type": "code",
   "execution_count": 5,
   "metadata": {},
   "outputs": [
    {
     "name": "stdout",
     "output_type": "stream",
     "text": [
      "# Loading corpus...\n",
      "\tDone\n",
      "\n",
      "# Building vocabulary...\n",
      "\tDone\n",
      "\n",
      "# Making context pairs...\n",
      "\tDone\n",
      "\n",
      "63785764\n",
      "['padding', 'A'] M\n",
      "['M', 'N'] A\n",
      "['A', 'E'] N\n",
      "['N', 'V'] E\n",
      "['E', 'I'] V\n",
      "['V', 'L'] I\n",
      "['I', 'L'] L\n",
      "['L', 'D'] L\n",
      "['L', 'F'] D\n",
      "['D', 'W'] F\n",
      "# Converting words to indices...\n",
      "(63785764, 2)\n",
      "\tDone\n",
      "\n",
      "# Loading corpus...\n",
      "\tDone\n",
      "\n",
      "# Making context pairs...\n",
      "^C\n"
     ]
    }
   ],
   "source": [
    "# Run CBoW model through command line\n",
    "!python scripts/CBoW_no_order_aa.py -train '../data/proteins.train.txt' -val '../data/proteins.train.txt' -d 'both' -pad -ws 1 -b 256 -f 'both_25_lr001_em2' -lr 0.001 -e 20 -embed 2\n",
    "\n"
   ]
  },
  {
   "cell_type": "markdown",
   "metadata": {},
   "source": [
    "The program above will output some output files. These are: \n",
    "* "
   ]
  }
 ],
 "metadata": {
  "kernelspec": {
   "display_name": "Python 3",
   "language": "python",
   "name": "python3"
  },
  "language_info": {
   "codemirror_mode": {
    "name": "ipython",
    "version": 3
   },
   "file_extension": ".py",
   "mimetype": "text/x-python",
   "name": "python",
   "nbconvert_exporter": "python",
   "pygments_lexer": "ipython3",
   "version": "3.6.5"
  }
 },
 "nbformat": 4,
 "nbformat_minor": 2
}
