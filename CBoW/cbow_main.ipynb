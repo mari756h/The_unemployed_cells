{
 "cells": [
  {
   "cell_type": "markdown",
   "metadata": {},
   "source": [
    "# Continuous Bag-of-Words"
   ]
  },
  {
   "cell_type": "markdown",
   "metadata": {},
   "source": [
    "## Training CBoW\n",
    "The CBoW model has been implemented to run through command line with the following flags used in the run below: \n",
    "* *-train* and *-val* is the path to the training and validation data, respectively. \n",
    "* *-d* needs a string denoting the direction of the text window, which can be 'before', 'after' or 'both' for the models $p\\left(y_t|y_{t-c}\\right)$, $p\\left(y_t|y_{t+c}\\right)$ and $p\\left(y_t|y_{t-c}^{t+c}\\right)$, respectively. \n",
    "* *-pad* will store True and enable padding to be used in the model. \n",
    "* *-ws* is an integer and sets the window size, $c$. \n",
    "* *-embed* is an integer that sets the number of embedding dimensions. \n",
    "* *-b* is an integer that sets the batch size. \n",
    "* *-lr* needs a float and sets the learning rate for the model. \n",
    "* *-e* is an integer and sets the number of iterations or epochs for the model to run. \n",
    "* *-f* requires a string that will be used as postfix for all output files. \n",
    "\n",
    "Additional option flags include: \n",
    "* *-r* is the path to a saved checkpoint of the model, which enables resuming training. \n",
    "* *-test* is the path to the test data and this flag activates the test run of the model. This requires that *-r* has also been set. \n",
    "* *-tsne*, stores True and enables making a t-SNE visualization of the tested model. This requires both *-r* and *-test* have been set. "
   ]
  },
  {
   "cell_type": "code",
   "execution_count": 1,
   "metadata": {},
   "outputs": [],
   "source": [
    "# Set flags\n",
    "tr = '../data/proteins.train.txt'\n",
    "v = '../data/proteins.train.txt'\n",
    "fn = 'both_1_lr001_em2'"
   ]
  },
  {
   "cell_type": "code",
   "execution_count": 2,
   "metadata": {},
   "outputs": [
    {
     "name": "stdout",
     "output_type": "stream",
     "text": [
      "# Loading corpus...\n",
      "\tDone\n",
      "\n",
      "# Building vocabulary...\n",
      "^C\n",
      "Traceback (most recent call last):\n",
      "  File \"scripts/CBoW_no_order_aa.py\", line 413, in <module>\n",
      "    main(args)      # Main program \n",
      "  File \"scripts/CBoW_no_order_aa.py\", line 64, in main\n",
      "    train_data.count_corpus(padding=pad)\n",
      "  File \"/Users/Marianne/Documents/GitHub/The_unemployed_cells/CBoW/scripts/functions.py\", line 39, in count_corpus\n",
      "    unique, counts = np.unique(np.array([item for sublist in self.corpus for item in sublist]), return_counts=True)\n",
      "KeyboardInterrupt\n"
     ]
    }
   ],
   "source": [
    "# Run CBoW model through command line\n",
    "!python scripts/CBoW_aa.py -train $tr -val $v -d 'both' -pad -ws 5 -b 256 -f $fn -lr 0.001 -e 1 -embed 2\n"
   ]
  },
  {
   "cell_type": "markdown",
   "metadata": {},
   "source": [
    "The program above will output the following files: \n",
    "* Checkpoints containing model details that can be loaded for testing or if training is resmed with *-r*. These are stored as .pt files. \n",
    "* Log files with epoch, loss, perplexity and accuracy. \n",
    "* The performance plot for the current number of epochs if traning is not interrupted prematurely."
   ]
  },
  {
   "cell_type": "markdown",
   "metadata": {},
   "source": [
    "## Visualizing training"
   ]
  },
  {
   "cell_type": "code",
   "execution_count": null,
   "metadata": {},
   "outputs": [],
   "source": []
  },
  {
   "cell_type": "code",
   "execution_count": null,
   "metadata": {},
   "outputs": [],
   "source": []
  },
  {
   "cell_type": "code",
   "execution_count": null,
   "metadata": {},
   "outputs": [],
   "source": []
  },
  {
   "cell_type": "markdown",
   "metadata": {},
   "source": [
    "## Testing best model\n",
    "When testing a model the flags *-r* and *-test* are needed to load in selected checkpoint and test data. "
   ]
  },
  {
   "cell_type": "code",
   "execution_count": null,
   "metadata": {},
   "outputs": [],
   "source": [
    "# Set flags\n",
    "res = '../data/check50_both_5_lr001_em2.pt'\n",
    "te = '../data/proteins.test.txt'"
   ]
  },
  {
   "cell_type": "code",
   "execution_count": null,
   "metadata": {},
   "outputs": [],
   "source": [
    "# Run CBoW test through command line\n",
    "!python scripts/CBoW_aa.py -train $tr -val $v -d 'both' -pad -ws 5 -b 256 -f $fn -lr 0.001 -e 1 -embed 2 -r $res -test $te\n"
   ]
  },
  {
   "cell_type": "code",
   "execution_count": null,
   "metadata": {},
   "outputs": [],
   "source": []
  }
 ],
 "metadata": {
  "kernelspec": {
   "display_name": "Python 3",
   "language": "python",
   "name": "python3"
  },
  "language_info": {
   "codemirror_mode": {
    "name": "ipython",
    "version": 3
   },
   "file_extension": ".py",
   "mimetype": "text/x-python",
   "name": "python",
   "nbconvert_exporter": "python",
   "pygments_lexer": "ipython3",
   "version": "3.6.5"
  }
 },
 "nbformat": 4,
 "nbformat_minor": 2
}
