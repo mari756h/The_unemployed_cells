{
 "cells": [
  {
   "cell_type": "code",
   "execution_count": 1,
   "metadata": {},
   "outputs": [],
   "source": [
    "# Import packages\n",
    "import matplotlib.pyplot as plt\n",
    "import numpy as np\n",
    "import sys\n",
    "import os\n",
    "import pandas as pd"
   ]
  },
  {
   "cell_type": "markdown",
   "metadata": {},
   "source": [
    "# Data visualization"
   ]
  },
  {
   "cell_type": "markdown",
   "metadata": {},
   "source": [
    "## Get sequence lengths"
   ]
  },
  {
   "cell_type": "code",
   "execution_count": 2,
   "metadata": {},
   "outputs": [
    {
     "name": "stdout",
     "output_type": "stream",
     "text": [
      "# TRAINING SET\n",
      "Minimum: 21\n",
      "Maximum: 71981\n",
      "Mean: 1005.1242793485548\n",
      "Median: 693.0\n"
     ]
    }
   ],
   "source": [
    "# Training \n",
    "train = []\n",
    "with open('data/proteins.train.txt', 'r') as f: \n",
    "    for line in f: \n",
    "        train.append(len(line[:-1]))\n",
    "\n",
    "# Print stats \n",
    "print('# TRAINING SET')\n",
    "print('Minimum:', min(train))\n",
    "print('Maximum:', max(train))\n",
    "print('Mean:', np.mean(train))\n",
    "print('Median:', np.median(train))\n",
    "#print('Percentiles:', np.percentile(train, [0, 25, 50, 75, 100]))"
   ]
  },
  {
   "cell_type": "code",
   "execution_count": 3,
   "metadata": {},
   "outputs": [
    {
     "name": "stdout",
     "output_type": "stream",
     "text": [
      "# VALIDATION SET\n",
      "Minimum: 21\n",
      "Maximum: 58303\n",
      "Mean: 963.4025790852307\n",
      "Median: 663.0\n"
     ]
    }
   ],
   "source": [
    "# Validation\n",
    "valid = []\n",
    "with open('data/proteins.val.txt', 'r') as f: \n",
    "    for line in f: \n",
    "        valid.append(len(line[:-1]))\n",
    "\n",
    "# Print stats \n",
    "print('# VALIDATION SET')\n",
    "print('Minimum:', min(valid))\n",
    "print('Maximum:', max(valid))\n",
    "print('Mean:', np.mean(valid))\n",
    "print('Median:', np.median(valid))"
   ]
  },
  {
   "cell_type": "code",
   "execution_count": 4,
   "metadata": {},
   "outputs": [
    {
     "name": "stdout",
     "output_type": "stream",
     "text": [
      "# TEST SET\n",
      "Minimum: 21\n",
      "Maximum: 29013\n",
      "Mean: 963.9613078744521\n",
      "Median: 671.0\n"
     ]
    }
   ],
   "source": [
    "# Test\n",
    "test = []\n",
    "with open('data/proteins.test.txt', 'r') as f: \n",
    "    for line in f: \n",
    "        test.append(len(line[:-1]))\n",
    "\n",
    "# Print stats \n",
    "print('# TEST SET')\n",
    "print('Minimum:', min(test))\n",
    "print('Maximum:', max(test))\n",
    "print('Mean:', np.mean(test))\n",
    "print('Median:', np.median(test))"
   ]
  },
  {
   "cell_type": "code",
   "execution_count": 5,
   "metadata": {},
   "outputs": [],
   "source": [
    "# The median and mean of all sets are below 1000 and close to 1000, respectively. \n",
    "# Therefore, only those with length 1000 and below are plotted. \n",
    "\n",
    "\n"
   ]
  },
  {
   "cell_type": "markdown",
   "metadata": {},
   "source": [
    "## Plot sequence lengths"
   ]
  },
  {
   "cell_type": "code",
   "execution_count": 6,
   "metadata": {},
   "outputs": [
    {
     "data": {
      "text/plain": [
       "<matplotlib.text.Text at 0x118f2eef0>"
      ]
     },
     "execution_count": 6,
     "metadata": {},
     "output_type": "execute_result"
    },
    {
     "data": {
      "image/png": "[encoded data removed]",
      "text/plain": [
       "<matplotlib.figure.Figure at 0x1183eda90>"
      ]
     },
     "metadata": {
      "needs_background": "light"
     },
     "output_type": "display_data"
    }
   ],
   "source": [
    "# Set up figure\n",
    "#fig = plt.figure()\n",
    "plt.hist([train, valid, test])\n",
    "plt.xlabel('Sequence length')\n",
    "plt.ylabel('Count')"
   ]
  },
  {
   "cell_type": "markdown",
   "metadata": {},
   "source": [
    "# Visualize performances"
   ]
  },
  {
   "cell_type": "code",
   "execution_count": 8,
   "metadata": {},
   "outputs": [],
   "source": [
    "wkdir = '/Users/Marianne/Dropbox (Personlig)/DTU/9. semester/02456_Deep_learning/project/results/'"
   ]
  },
  {
   "cell_type": "code",
   "execution_count": 11,
   "metadata": {},
   "outputs": [
    {
     "data": {
      "text/html": [
       "<div>\n",
       "<style scoped>\n",
       "    .dataframe tbody tr th:only-of-type {\n",
       "        vertical-align: middle;\n",
       "    }\n",
       "\n",
       "    .dataframe tbody tr th {\n",
       "        vertical-align: top;\n",
       "    }\n",
       "\n",
       "    .dataframe thead th {\n",
       "        text-align: right;\n",
       "    }\n",
       "</style>\n",
       "<table border=\"1\" class=\"dataframe\">\n",
       "  <thead>\n",
       "    <tr style=\"text-align: right;\">\n",
       "      <th></th>\n",
       "      <th>model</th>\n",
       "      <th>direction</th>\n",
       "      <th>window_size</th>\n",
       "      <th>embedding_dimension</th>\n",
       "      <th>perplexity</th>\n",
       "      <th>accuracy</th>\n",
       "    </tr>\n",
       "  </thead>\n",
       "  <tbody>\n",
       "    <tr>\n",
       "      <th>0</th>\n",
       "      <td>CBoW (Uniform)</td>\n",
       "      <td>-</td>\n",
       "      <td>-</td>\n",
       "      <td>-</td>\n",
       "      <td>NaN</td>\n",
       "      <td>NaN</td>\n",
       "    </tr>\n",
       "    <tr>\n",
       "      <th>1</th>\n",
       "      <td>CBoW</td>\n",
       "      <td>before</td>\n",
       "      <td>1</td>\n",
       "      <td>2</td>\n",
       "      <td>18.041133</td>\n",
       "      <td>9.4163</td>\n",
       "    </tr>\n",
       "    <tr>\n",
       "      <th>2</th>\n",
       "      <td>CBoW</td>\n",
       "      <td>before</td>\n",
       "      <td>5</td>\n",
       "      <td>2</td>\n",
       "      <td>17.910000</td>\n",
       "      <td>9.8100</td>\n",
       "    </tr>\n",
       "    <tr>\n",
       "      <th>3</th>\n",
       "      <td>CBoW</td>\n",
       "      <td>before</td>\n",
       "      <td>10</td>\n",
       "      <td>2</td>\n",
       "      <td>17.870000</td>\n",
       "      <td>9.8900</td>\n",
       "    </tr>\n",
       "    <tr>\n",
       "      <th>4</th>\n",
       "      <td>CBoW</td>\n",
       "      <td>before</td>\n",
       "      <td>20</td>\n",
       "      <td>2</td>\n",
       "      <td>17.872976</td>\n",
       "      <td>9.9141</td>\n",
       "    </tr>\n",
       "  </tbody>\n",
       "</table>\n",
       "</div>"
      ],
      "text/plain": [
       "            model direction window_size embedding_dimension  perplexity  \\\n",
       "0  CBoW (Uniform)         -           -                   -         NaN   \n",
       "1            CBoW    before           1                   2   18.041133   \n",
       "2            CBoW    before           5                   2   17.910000   \n",
       "3            CBoW    before          10                   2   17.870000   \n",
       "4            CBoW    before          20                   2   17.872976   \n",
       "\n",
       "   accuracy  \n",
       "0       NaN  \n",
       "1    9.4163  \n",
       "2    9.8100  \n",
       "3    9.8900  \n",
       "4    9.9141  "
      ]
     },
     "execution_count": 11,
     "metadata": {},
     "output_type": "execute_result"
    }
   ],
   "source": [
    "# Load performances\n",
    "performance = pd.read_csv(wkdir+'model_performances.csv', sep=';')\n",
    "performance.head()"
   ]
  },
  {
   "cell_type": "code",
   "execution_count": 14,
   "metadata": {},
   "outputs": [
    {
     "name": "stdout",
     "output_type": "stream",
     "text": [
      "  model direction window_size embedding_dimension  perplexity  accuracy\n",
      "1  CBoW    before           1                   2   18.041133    9.4163\n",
      "2  CBoW    before           5                   2   17.910000    9.8100\n",
      "3  CBoW    before          10                   2   17.870000    9.8900\n",
      "4  CBoW    before          20                   2   17.872976    9.9141\n",
      "  model direction window_size embedding_dimension  perplexity  accuracy\n",
      "5  CBoW     after           1                   2   18.000508     9.750\n",
      "6  CBoW     after           5                   2   17.940000     9.810\n",
      "7  CBoW     after          10                   2   17.890000     9.930\n",
      "8  CBoW     after          20                   2   17.866107     9.983\n",
      "   model direction window_size embedding_dimension  perplexity  accuracy\n",
      "9   CBoW      both           1                   2   17.989137    9.7214\n",
      "10  CBoW      both           5                   2   17.800000   10.0600\n",
      "11  CBoW      both          10                   2   17.740000   10.1600\n",
      "12  CBoW      both          20                   2   17.729718   10.2755\n"
     ]
    }
   ],
   "source": [
    "c_pre = performance.loc[performance.direction == 'before']\n",
    "c_post = performance.loc[performance.direction == 'after']\n",
    "c_both = performance.loc[performance.direction == 'both']\n",
    "print(c_pre.head())\n",
    "print(c_post.head())\n",
    "print(c_both.head())"
   ]
  },
  {
   "cell_type": "markdown",
   "metadata": {},
   "source": [
    "## Plot accuracy"
   ]
  },
  {
   "cell_type": "code",
   "execution_count": 21,
   "metadata": {},
   "outputs": [
    {
     "data": {
      "text/html": [
       "<div>\n",
       "<style scoped>\n",
       "    .dataframe tbody tr th:only-of-type {\n",
       "        vertical-align: middle;\n",
       "    }\n",
       "\n",
       "    .dataframe tbody tr th {\n",
       "        vertical-align: top;\n",
       "    }\n",
       "\n",
       "    .dataframe thead th {\n",
       "        text-align: right;\n",
       "    }\n",
       "</style>\n",
       "<table border=\"1\" class=\"dataframe\">\n",
       "  <thead>\n",
       "    <tr style=\"text-align: right;\">\n",
       "      <th></th>\n",
       "      <th>pre</th>\n",
       "      <th>post</th>\n",
       "      <th>both</th>\n",
       "    </tr>\n",
       "  </thead>\n",
       "  <tbody>\n",
       "    <tr>\n",
       "      <th>1</th>\n",
       "      <td>9.4163</td>\n",
       "      <td>9.750</td>\n",
       "      <td>9.7214</td>\n",
       "    </tr>\n",
       "    <tr>\n",
       "      <th>5</th>\n",
       "      <td>9.8100</td>\n",
       "      <td>9.810</td>\n",
       "      <td>10.0600</td>\n",
       "    </tr>\n",
       "    <tr>\n",
       "      <th>10</th>\n",
       "      <td>9.8900</td>\n",
       "      <td>9.930</td>\n",
       "      <td>10.1600</td>\n",
       "    </tr>\n",
       "    <tr>\n",
       "      <th>20</th>\n",
       "      <td>9.9141</td>\n",
       "      <td>9.983</td>\n",
       "      <td>10.2755</td>\n",
       "    </tr>\n",
       "  </tbody>\n",
       "</table>\n",
       "</div>"
      ],
      "text/plain": [
       "       pre   post     both\n",
       "1   9.4163  9.750   9.7214\n",
       "5   9.8100  9.810  10.0600\n",
       "10  9.8900  9.930  10.1600\n",
       "20  9.9141  9.983  10.2755"
      ]
     },
     "execution_count": 21,
     "metadata": {},
     "output_type": "execute_result"
    }
   ],
   "source": [
    "acc = pd.DataFrame(data={'pre':c_pre.accuracy.values, 'post':c_post.accuracy.values, 'both':c_both.accuracy.values}, \n",
    "                  index=[1, 5, 10, 20])\n",
    "acc.head()"
   ]
  },
  {
   "cell_type": "code",
   "execution_count": 35,
   "metadata": {},
   "outputs": [
    {
     "data": {
      "text/plain": [
       "(0, 21)"
      ]
     },
     "execution_count": 35,
     "metadata": {},
     "output_type": "execute_result"
    },
    {
     "data": {
      "image/png": "[encoded data removed]",
      "text/plain": [
       "<matplotlib.figure.Figure at 0x11a32b908>"
      ]
     },
     "metadata": {
      "needs_background": "light"
     },
     "output_type": "display_data"
    }
   ],
   "source": [
    "acc.plot()\n",
    "plt.xlabel('Window size')\n",
    "plt.ylabel('Accuracy (%)')\n",
    "plt.xlim(0, 21)"
   ]
  },
  {
   "cell_type": "markdown",
   "metadata": {},
   "source": [
    "## Plot perplexity"
   ]
  },
  {
   "cell_type": "code",
   "execution_count": 27,
   "metadata": {},
   "outputs": [
    {
     "data": {
      "text/html": [
       "<div>\n",
       "<style scoped>\n",
       "    .dataframe tbody tr th:only-of-type {\n",
       "        vertical-align: middle;\n",
       "    }\n",
       "\n",
       "    .dataframe tbody tr th {\n",
       "        vertical-align: top;\n",
       "    }\n",
       "\n",
       "    .dataframe thead th {\n",
       "        text-align: right;\n",
       "    }\n",
       "</style>\n",
       "<table border=\"1\" class=\"dataframe\">\n",
       "  <thead>\n",
       "    <tr style=\"text-align: right;\">\n",
       "      <th></th>\n",
       "      <th>pre</th>\n",
       "      <th>post</th>\n",
       "      <th>both</th>\n",
       "    </tr>\n",
       "  </thead>\n",
       "  <tbody>\n",
       "    <tr>\n",
       "      <th>1</th>\n",
       "      <td>18.041133</td>\n",
       "      <td>18.000508</td>\n",
       "      <td>17.989137</td>\n",
       "    </tr>\n",
       "    <tr>\n",
       "      <th>5</th>\n",
       "      <td>17.910000</td>\n",
       "      <td>17.940000</td>\n",
       "      <td>17.800000</td>\n",
       "    </tr>\n",
       "    <tr>\n",
       "      <th>10</th>\n",
       "      <td>17.870000</td>\n",
       "      <td>17.890000</td>\n",
       "      <td>17.740000</td>\n",
       "    </tr>\n",
       "    <tr>\n",
       "      <th>20</th>\n",
       "      <td>17.872976</td>\n",
       "      <td>17.866107</td>\n",
       "      <td>17.729718</td>\n",
       "    </tr>\n",
       "  </tbody>\n",
       "</table>\n",
       "</div>"
      ],
      "text/plain": [
       "          pre       post       both\n",
       "1   18.041133  18.000508  17.989137\n",
       "5   17.910000  17.940000  17.800000\n",
       "10  17.870000  17.890000  17.740000\n",
       "20  17.872976  17.866107  17.729718"
      ]
     },
     "execution_count": 27,
     "metadata": {},
     "output_type": "execute_result"
    }
   ],
   "source": [
    "perp = pd.DataFrame(data={'pre':c_pre.perplexity.values, 'post':c_post.perplexity.values, 'both':c_both.perplexity.values}, \n",
    "                  index=[1, 5, 10, 20])\n",
    "perp.head()"
   ]
  },
  {
   "cell_type": "code",
   "execution_count": 31,
   "metadata": {},
   "outputs": [
    {
     "data": {
      "text/plain": [
       "(0, 21)"
      ]
     },
     "execution_count": 31,
     "metadata": {},
     "output_type": "execute_result"
    },
    {
     "data": {
      "image/png": "[encoded data removed]",
      "text/plain": [
       "<matplotlib.figure.Figure at 0x11a413080>"
      ]
     },
     "metadata": {
      "needs_background": "light"
     },
     "output_type": "display_data"
    }
   ],
   "source": [
    "perp.plot()\n",
    "plt.xlabel('Window size')\n",
    "plt.ylabel('Perplexity')\n",
    "plt.xlim(0, 21)"
   ]
  },
  {
   "cell_type": "markdown",
   "metadata": {},
   "source": [
    "## Make combined plot for acc and perp"
   ]
  },
  {
   "cell_type": "code",
   "execution_count": 102,
   "metadata": {},
   "outputs": [
    {
     "data": {
      "image/png": "[encoded data removed]",
      "text/plain": [
       "<matplotlib.figure.Figure at 0x12045b898>"
      ]
     },
     "metadata": {
      "needs_background": "light"
     },
     "output_type": "display_data"
    }
   ],
   "source": [
    "fig, (ax1, ax2) = plt.subplots(nrows=1, ncols=2, figsize=(10, 5))\n",
    "\n",
    "# ax1 is perplexity\n",
    "pre, post, both = ax1.plot(perp.index, perp.pre, 'C0', perp.index, perp.post, 'C1', perp.index, perp.both, 'C2')\n",
    "#post = ax1.plot(perp.index, perp.post, '-', color='C1', label='$p\\left(y_t|y_{t+c}\\right)$')\n",
    "#both = ax1.plot(perp.index, perp.both, '-', color='C2', label='$p\\left(y_t|y_{t-c}^{t+c}\\right)$')\n",
    "ax1.set_ylabel('Perplexity', fontsize=12)\n",
    "\n",
    "# ax2 is accuracy\n",
    "ax2.plot(perp.index, acc.pre, '-', color='C0')\n",
    "ax2.plot(perp.index, acc.post, '-', color='C1')\n",
    "ax2.plot(perp.index, acc.both, '-', color='C2')\n",
    "ax2.set_ylabel('Accuracy (%)', fontsize=12)\n",
    "\n",
    "# Overall figure settings\n",
    "fig.text(0.5, 0.04, 'Window size (c)', ha='center', fontsize=12)\n",
    "fig.legend(handles=[pre, post, both], \n",
    "           loc='upper center', labels=['$p(y_t|y_{t-c})$', '$p(y_t|y_{t+c})$', '$p(y_t|y_{t-c}^{t+c})$'], \n",
    "           ncol=3, fontsize=12)\n",
    "#          labels=['$p\\left(y_t|y_{t-c}\\right)$', '$p\\left(y_t|y_{t+c}\\right)$', '$p\\left(y_t|y_{t-c}^{t+c}\\right)$'])\n",
    "#labels=['$p\\left(y_t|y_{t-c}\\right)$', '$p\\left(y_t|y_{t+c}\\right)$', '$p\\left(y_t|y_{t-c}^{t+c}\\right)$']\n",
    "plt.savefig(wkdir+'performances.pdf', dpi=1000)"
   ]
  },
  {
   "cell_type": "code",
   "execution_count": null,
   "metadata": {},
   "outputs": [],
   "source": []
  }
 ],
 "metadata": {
  "kernelspec": {
   "display_name": "Python 3",
   "language": "python",
   "name": "python3"
  },
  "language_info": {
   "codemirror_mode": {
    "name": "ipython",
    "version": 3
   },
   "file_extension": ".py",
   "mimetype": "text/x-python",
   "name": "python",
   "nbconvert_exporter": "python",
   "pygments_lexer": "ipython3",
   "version": "3.6.5"
  }
 },
 "nbformat": 4,
 "nbformat_minor": 2
}
