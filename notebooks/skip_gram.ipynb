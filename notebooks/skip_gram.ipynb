{
  "nbformat": 4,
  "nbformat_minor": 0,
  "metadata": {
    "colab": {
      "name": "skip-gram3",
      "version": "0.3.2",
      "provenance": [],
      "collapsed_sections": []
    },
    "kernelspec": {
      "name": "python3",
      "display_name": "Python 3"
    },
    "accelerator": "GPU"
  },
  "cells": [
    {
      "metadata": {
        "id": "1uauwsMFR8Mu",
        "colab_type": "code",
        "colab": {
          "base_uri": "https://localhost:8080/",
          "height": 437
        },
        "outputId": "39471c05-4ae8-47c2-a261-a1b8a2a90dfe"
      },
      "cell_type": "code",
      "source": [
        "# http://pytorch.org/\n",
        "!pip3 install torch -U # --force\n",
        "!pip3 install torchvision -U  #--force\n",
        "!pip3 install https://github.com/chengs/tqdm/archive/colab.zip\n",
        "!pip3 install bokeh"
      ],
      "execution_count": 1,
      "outputs": [
        {
          "output_type": "stream",
          "text": [
            "Requirement already up-to-date: torch in /usr/local/lib/python3.6/dist-packages (0.4.1)\n",
            "Requirement already up-to-date: torchvision in /usr/local/lib/python3.6/dist-packages (0.2.1)\n",
            "Requirement already satisfied, skipping upgrade: torch in /usr/local/lib/python3.6/dist-packages (from torchvision) (0.4.1)\n",
            "Requirement already satisfied, skipping upgrade: six in /usr/local/lib/python3.6/dist-packages (from torchvision) (1.11.0)\n",
            "Requirement already satisfied, skipping upgrade: numpy in /usr/local/lib/python3.6/dist-packages (from torchvision) (1.14.6)\n",
            "Requirement already satisfied, skipping upgrade: pillow>=4.1.1 in /usr/local/lib/python3.6/dist-packages (from torchvision) (5.3.0)\n",
            "Collecting https://github.com/chengs/tqdm/archive/colab.zip\n",
            "  Downloading https://github.com/chengs/tqdm/archive/colab.zip\n",
            "\u001b[K     - 501kB 4.7MB/s\n",
            "Requirement already satisfied (use --upgrade to upgrade): tqdm==4.28.1 from https://github.com/chengs/tqdm/archive/colab.zip in /usr/local/lib/python3.6/dist-packages\n",
            "Building wheels for collected packages: tqdm\n",
            "  Running setup.py bdist_wheel for tqdm ... \u001b[?25l-\b \b\\\b \bdone\n",
            "\u001b[?25h  Stored in directory: /tmp/pip-ephem-wheel-cache-8crr4w57/wheels/41/18/ee/d5dd158441b27965855b1bbae03fa2d8a91fe645c01b419896\n",
            "Successfully built tqdm\n",
            "Requirement already satisfied: bokeh in /usr/local/lib/python3.6/dist-packages (1.0.2)\n",
            "Requirement already satisfied: python-dateutil>=2.1 in /usr/local/lib/python3.6/dist-packages (from bokeh) (2.5.3)\n",
            "Requirement already satisfied: packaging>=16.8 in /usr/local/lib/python3.6/dist-packages (from bokeh) (18.0)\n",
            "Requirement already satisfied: numpy>=1.7.1 in /usr/local/lib/python3.6/dist-packages (from bokeh) (1.14.6)\n",
            "Requirement already satisfied: PyYAML>=3.10 in /usr/local/lib/python3.6/dist-packages (from bokeh) (3.13)\n",
            "Requirement already satisfied: pillow>=4.0 in /usr/local/lib/python3.6/dist-packages (from bokeh) (5.3.0)\n",
            "Requirement already satisfied: six>=1.5.2 in /usr/local/lib/python3.6/dist-packages (from bokeh) (1.11.0)\n",
            "Requirement already satisfied: tornado>=4.3 in /usr/local/lib/python3.6/dist-packages (from bokeh) (4.5.3)\n",
            "Requirement already satisfied: Jinja2>=2.7 in /usr/local/lib/python3.6/dist-packages (from bokeh) (2.10)\n",
            "Requirement already satisfied: pyparsing>=2.0.2 in /usr/local/lib/python3.6/dist-packages (from packaging>=16.8->bokeh) (2.3.0)\n",
            "Requirement already satisfied: MarkupSafe>=0.23 in /usr/local/lib/python3.6/dist-packages (from Jinja2>=2.7->bokeh) (1.1.0)\n"
          ],
          "name": "stdout"
        }
      ]
    },
    {
      "metadata": {
        "id": "kulnHVInxbCh",
        "colab_type": "text"
      },
      "cell_type": "markdown",
      "source": [
        "https://github.com/theeluwin/pytorch-sgns"
      ]
    },
    {
      "metadata": {
        "id": "xAJpSxXhxmg8",
        "colab_type": "code",
        "outputId": "d4bf0b85-cf5f-43d7-da3a-b781910b3a0e",
        "colab": {
          "base_uri": "https://localhost:8080/",
          "height": 47
        }
      },
      "cell_type": "code",
      "source": [
        "import pandas as pd\n",
        "import numpy as np\n",
        "\n",
        "from collections import Counter\n",
        "import operator\n",
        "import random\n",
        "\n",
        "import urllib.request\n",
        "\n",
        "import torch\n",
        "from torch.autograd import Variable\n",
        "import torch.nn as nn\n",
        "import torch.optim as optim\n",
        "import torch.utils.data as data_utils\n",
        "import torch.nn.functional as F\n",
        "\n",
        "from sklearn.manifold import TSNE\n",
        "import matplotlib.pyplot as plt\n",
        "\n",
        "from bokeh.plotting import figure\n",
        "from bokeh.models import ColumnDataSource, HoverTool\n",
        "from bokeh.io import show, output_notebook, push_notebook, export_png\n",
        "\n",
        "output_notebook()"
      ],
      "execution_count": 2,
      "outputs": [
        {
          "output_type": "display_data",
          "data": {
            "text/html": [
              "\n",
              "    <div class=\"bk-root\">\n",
              "        <a href=\"https://bokeh.pydata.org\" target=\"_blank\" class=\"bk-logo bk-logo-small bk-logo-notebook\"></a>\n",
              "        <span id=\"1001\">Loading BokehJS ...</span>\n",
              "    </div>"
            ]
          },
          "metadata": {
            "tags": []
          }
        },
        {
          "output_type": "display_data",
          "data": {
            "application/javascript": [
              "\n",
              "(function(root) {\n",
              "  function now() {\n",
              "    return new Date();\n",
              "  }\n",
              "\n",
              "  var force = true;\n",
              "\n",
              "  if (typeof (root._bokeh_onload_callbacks) === \"undefined\" || force === true) {\n",
              "    root._bokeh_onload_callbacks = [];\n",
              "    root._bokeh_is_loading = undefined;\n",
              "  }\n",
              "\n",
              "  var JS_MIME_TYPE = 'application/javascript';\n",
              "  var HTML_MIME_TYPE = 'text/html';\n",
              "  var EXEC_MIME_TYPE = 'application/vnd.bokehjs_exec.v0+json';\n",
              "  var CLASS_NAME = 'output_bokeh rendered_html';\n",
              "\n",
              "  /**\n",
              "   * Render data to the DOM node\n",
              "   */\n",
              "  function render(props, node) {\n",
              "    var script = document.createElement(\"script\");\n",
              "    node.appendChild(script);\n",
              "  }\n",
              "\n",
              "  /**\n",
              "   * Handle when an output is cleared or removed\n",
              "   */\n",
              "  function handleClearOutput(event, handle) {\n",
              "    var cell = handle.cell;\n",
              "\n",
              "    var id = cell.output_area._bokeh_element_id;\n",
              "    var server_id = cell.output_area._bokeh_server_id;\n",
              "    // Clean up Bokeh references\n",
              "    if (id != null && id in Bokeh.index) {\n",
              "      Bokeh.index[id].model.document.clear();\n",
              "      delete Bokeh.index[id];\n",
              "    }\n",
              "\n",
              "    if (server_id !== undefined) {\n",
              "      // Clean up Bokeh references\n",
              "      var cmd = \"from bokeh.io.state import curstate; print(curstate().uuid_to_server['\" + server_id + \"'].get_sessions()[0].document.roots[0]._id)\";\n",
              "      cell.notebook.kernel.execute(cmd, {\n",
              "        iopub: {\n",
              "          output: function(msg) {\n",
              "            var id = msg.content.text.trim();\n",
              "            if (id in Bokeh.index) {\n",
              "              Bokeh.index[id].model.document.clear();\n",
              "              delete Bokeh.index[id];\n",
              "            }\n",
              "          }\n",
              "        }\n",
              "      });\n",
              "      // Destroy server and session\n",
              "      var cmd = \"import bokeh.io.notebook as ion; ion.destroy_server('\" + server_id + \"')\";\n",
              "      cell.notebook.kernel.execute(cmd);\n",
              "    }\n",
              "  }\n",
              "\n",
              "  /**\n",
              "   * Handle when a new output is added\n",
              "   */\n",
              "  function handleAddOutput(event, handle) {\n",
              "    var output_area = handle.output_area;\n",
              "    var output = handle.output;\n",
              "\n",
              "    // limit handleAddOutput to display_data with EXEC_MIME_TYPE content only\n",
              "    if ((output.output_type != \"display_data\") || (!output.data.hasOwnProperty(EXEC_MIME_TYPE))) {\n",
              "      return\n",
              "    }\n",
              "\n",
              "    var toinsert = output_area.element.find(\".\" + CLASS_NAME.split(' ')[0]);\n",
              "\n",
              "    if (output.metadata[EXEC_MIME_TYPE][\"id\"] !== undefined) {\n",
              "      toinsert[toinsert.length - 1].firstChild.textContent = output.data[JS_MIME_TYPE];\n",
              "      // store reference to embed id on output_area\n",
              "      output_area._bokeh_element_id = output.metadata[EXEC_MIME_TYPE][\"id\"];\n",
              "    }\n",
              "    if (output.metadata[EXEC_MIME_TYPE][\"server_id\"] !== undefined) {\n",
              "      var bk_div = document.createElement(\"div\");\n",
              "      bk_div.innerHTML = output.data[HTML_MIME_TYPE];\n",
              "      var script_attrs = bk_div.children[0].attributes;\n",
              "      for (var i = 0; i < script_attrs.length; i++) {\n",
              "        toinsert[toinsert.length - 1].firstChild.setAttribute(script_attrs[i].name, script_attrs[i].value);\n",
              "      }\n",
              "      // store reference to server id on output_area\n",
              "      output_area._bokeh_server_id = output.metadata[EXEC_MIME_TYPE][\"server_id\"];\n",
              "    }\n",
              "  }\n",
              "\n",
              "  function register_renderer(events, OutputArea) {\n",
              "\n",
              "    function append_mime(data, metadata, element) {\n",
              "      // create a DOM node to render to\n",
              "      var toinsert = this.create_output_subarea(\n",
              "        metadata,\n",
              "        CLASS_NAME,\n",
              "        EXEC_MIME_TYPE\n",
              "      );\n",
              "      this.keyboard_manager.register_events(toinsert);\n",
              "      // Render to node\n",
              "      var props = {data: data, metadata: metadata[EXEC_MIME_TYPE]};\n",
              "      render(props, toinsert[toinsert.length - 1]);\n",
              "      element.append(toinsert);\n",
              "      return toinsert\n",
              "    }\n",
              "\n",
              "    /* Handle when an output is cleared or removed */\n",
              "    events.on('clear_output.CodeCell', handleClearOutput);\n",
              "    events.on('delete.Cell', handleClearOutput);\n",
              "\n",
              "    /* Handle when a new output is added */\n",
              "    events.on('output_added.OutputArea', handleAddOutput);\n",
              "\n",
              "    /**\n",
              "     * Register the mime type and append_mime function with output_area\n",
              "     */\n",
              "    OutputArea.prototype.register_mime_type(EXEC_MIME_TYPE, append_mime, {\n",
              "      /* Is output safe? */\n",
              "      safe: true,\n",
              "      /* Index of renderer in `output_area.display_order` */\n",
              "      index: 0\n",
              "    });\n",
              "  }\n",
              "\n",
              "  // register the mime type if in Jupyter Notebook environment and previously unregistered\n",
              "  if (root.Jupyter !== undefined) {\n",
              "    var events = require('base/js/events');\n",
              "    var OutputArea = require('notebook/js/outputarea').OutputArea;\n",
              "\n",
              "    if (OutputArea.prototype.mime_types().indexOf(EXEC_MIME_TYPE) == -1) {\n",
              "      register_renderer(events, OutputArea);\n",
              "    }\n",
              "  }\n",
              "\n",
              "  \n",
              "  if (typeof (root._bokeh_timeout) === \"undefined\" || force === true) {\n",
              "    root._bokeh_timeout = Date.now() + 5000;\n",
              "    root._bokeh_failed_load = false;\n",
              "  }\n",
              "\n",
              "  var NB_LOAD_WARNING = {'data': {'text/html':\n",
              "     \"<div style='background-color: #fdd'>\\n\"+\n",
              "     \"<p>\\n\"+\n",
              "     \"BokehJS does not appear to have successfully loaded. If loading BokehJS from CDN, this \\n\"+\n",
              "     \"may be due to a slow or bad network connection. Possible fixes:\\n\"+\n",
              "     \"</p>\\n\"+\n",
              "     \"<ul>\\n\"+\n",
              "     \"<li>re-rerun `output_notebook()` to attempt to load from CDN again, or</li>\\n\"+\n",
              "     \"<li>use INLINE resources instead, as so:</li>\\n\"+\n",
              "     \"</ul>\\n\"+\n",
              "     \"<code>\\n\"+\n",
              "     \"from bokeh.resources import INLINE\\n\"+\n",
              "     \"output_notebook(resources=INLINE)\\n\"+\n",
              "     \"</code>\\n\"+\n",
              "     \"</div>\"}};\n",
              "\n",
              "  function display_loaded() {\n",
              "    var el = document.getElementById(\"1001\");\n",
              "    if (el != null) {\n",
              "      el.textContent = \"BokehJS is loading...\";\n",
              "    }\n",
              "    if (root.Bokeh !== undefined) {\n",
              "      if (el != null) {\n",
              "        el.textContent = \"BokehJS \" + root.Bokeh.version + \" successfully loaded.\";\n",
              "      }\n",
              "    } else if (Date.now() < root._bokeh_timeout) {\n",
              "      setTimeout(display_loaded, 100)\n",
              "    }\n",
              "  }\n",
              "\n",
              "\n",
              "  function run_callbacks() {\n",
              "    try {\n",
              "      root._bokeh_onload_callbacks.forEach(function(callback) { callback() });\n",
              "    }\n",
              "    finally {\n",
              "      delete root._bokeh_onload_callbacks\n",
              "    }\n",
              "    console.info(\"Bokeh: all callbacks have finished\");\n",
              "  }\n",
              "\n",
              "  function load_libs(js_urls, callback) {\n",
              "    root._bokeh_onload_callbacks.push(callback);\n",
              "    if (root._bokeh_is_loading > 0) {\n",
              "      console.log(\"Bokeh: BokehJS is being loaded, scheduling callback at\", now());\n",
              "      return null;\n",
              "    }\n",
              "    if (js_urls == null || js_urls.length === 0) {\n",
              "      run_callbacks();\n",
              "      return null;\n",
              "    }\n",
              "    console.log(\"Bokeh: BokehJS not loaded, scheduling load and callback at\", now());\n",
              "    root._bokeh_is_loading = js_urls.length;\n",
              "    for (var i = 0; i < js_urls.length; i++) {\n",
              "      var url = js_urls[i];\n",
              "      var s = document.createElement('script');\n",
              "      s.src = url;\n",
              "      s.async = false;\n",
              "      s.onreadystatechange = s.onload = function() {\n",
              "        root._bokeh_is_loading--;\n",
              "        if (root._bokeh_is_loading === 0) {\n",
              "          console.log(\"Bokeh: all BokehJS libraries loaded\");\n",
              "          run_callbacks()\n",
              "        }\n",
              "      };\n",
              "      s.onerror = function() {\n",
              "        console.warn(\"failed to load library \" + url);\n",
              "      };\n",
              "      console.log(\"Bokeh: injecting script tag for BokehJS library: \", url);\n",
              "      document.getElementsByTagName(\"head\")[0].appendChild(s);\n",
              "    }\n",
              "  };var element = document.getElementById(\"1001\");\n",
              "  if (element == null) {\n",
              "    console.log(\"Bokeh: ERROR: autoload.js configured with elementid '1001' but no matching script tag was found. \")\n",
              "    return false;\n",
              "  }\n",
              "\n",
              "  var js_urls = [\"https://cdn.pydata.org/bokeh/release/bokeh-1.0.2.min.js\", \"https://cdn.pydata.org/bokeh/release/bokeh-widgets-1.0.2.min.js\", \"https://cdn.pydata.org/bokeh/release/bokeh-tables-1.0.2.min.js\", \"https://cdn.pydata.org/bokeh/release/bokeh-gl-1.0.2.min.js\"];\n",
              "\n",
              "  var inline_js = [\n",
              "    function(Bokeh) {\n",
              "      Bokeh.set_log_level(\"info\");\n",
              "    },\n",
              "    \n",
              "    function(Bokeh) {\n",
              "      \n",
              "    },\n",
              "    function(Bokeh) {\n",
              "      console.log(\"Bokeh: injecting CSS: https://cdn.pydata.org/bokeh/release/bokeh-1.0.2.min.css\");\n",
              "      Bokeh.embed.inject_css(\"https://cdn.pydata.org/bokeh/release/bokeh-1.0.2.min.css\");\n",
              "      console.log(\"Bokeh: injecting CSS: https://cdn.pydata.org/bokeh/release/bokeh-widgets-1.0.2.min.css\");\n",
              "      Bokeh.embed.inject_css(\"https://cdn.pydata.org/bokeh/release/bokeh-widgets-1.0.2.min.css\");\n",
              "      console.log(\"Bokeh: injecting CSS: https://cdn.pydata.org/bokeh/release/bokeh-tables-1.0.2.min.css\");\n",
              "      Bokeh.embed.inject_css(\"https://cdn.pydata.org/bokeh/release/bokeh-tables-1.0.2.min.css\");\n",
              "    }\n",
              "  ];\n",
              "\n",
              "  function run_inline_js() {\n",
              "    \n",
              "    if ((root.Bokeh !== undefined) || (force === true)) {\n",
              "      for (var i = 0; i < inline_js.length; i++) {\n",
              "        inline_js[i].call(root, root.Bokeh);\n",
              "      }if (force === true) {\n",
              "        display_loaded();\n",
              "      }} else if (Date.now() < root._bokeh_timeout) {\n",
              "      setTimeout(run_inline_js, 100);\n",
              "    } else if (!root._bokeh_failed_load) {\n",
              "      console.log(\"Bokeh: BokehJS failed to load within specified timeout.\");\n",
              "      root._bokeh_failed_load = true;\n",
              "    } else if (force !== true) {\n",
              "      var cell = $(document.getElementById(\"1001\")).parents('.cell').data().cell;\n",
              "      cell.output_area.append_execute_result(NB_LOAD_WARNING)\n",
              "    }\n",
              "\n",
              "  }\n",
              "\n",
              "  if (root._bokeh_is_loading === 0) {\n",
              "    console.log(\"Bokeh: BokehJS loaded, going straight to plotting\");\n",
              "    run_inline_js();\n",
              "  } else {\n",
              "    load_libs(js_urls, function() {\n",
              "      console.log(\"Bokeh: BokehJS plotting callback run at\", now());\n",
              "      run_inline_js();\n",
              "    });\n",
              "  }\n",
              "}(window));"
            ],
            "application/vnd.bokehjs_load.v0+json": "\n(function(root) {\n  function now() {\n    return new Date();\n  }\n\n  var force = true;\n\n  if (typeof (root._bokeh_onload_callbacks) === \"undefined\" || force === true) {\n    root._bokeh_onload_callbacks = [];\n    root._bokeh_is_loading = undefined;\n  }\n\n  \n\n  \n  if (typeof (root._bokeh_timeout) === \"undefined\" || force === true) {\n    root._bokeh_timeout = Date.now() + 5000;\n    root._bokeh_failed_load = false;\n  }\n\n  var NB_LOAD_WARNING = {'data': {'text/html':\n     \"<div style='background-color: #fdd'>\\n\"+\n     \"<p>\\n\"+\n     \"BokehJS does not appear to have successfully loaded. If loading BokehJS from CDN, this \\n\"+\n     \"may be due to a slow or bad network connection. Possible fixes:\\n\"+\n     \"</p>\\n\"+\n     \"<ul>\\n\"+\n     \"<li>re-rerun `output_notebook()` to attempt to load from CDN again, or</li>\\n\"+\n     \"<li>use INLINE resources instead, as so:</li>\\n\"+\n     \"</ul>\\n\"+\n     \"<code>\\n\"+\n     \"from bokeh.resources import INLINE\\n\"+\n     \"output_notebook(resources=INLINE)\\n\"+\n     \"</code>\\n\"+\n     \"</div>\"}};\n\n  function display_loaded() {\n    var el = document.getElementById(\"1001\");\n    if (el != null) {\n      el.textContent = \"BokehJS is loading...\";\n    }\n    if (root.Bokeh !== undefined) {\n      if (el != null) {\n        el.textContent = \"BokehJS \" + root.Bokeh.version + \" successfully loaded.\";\n      }\n    } else if (Date.now() < root._bokeh_timeout) {\n      setTimeout(display_loaded, 100)\n    }\n  }\n\n\n  function run_callbacks() {\n    try {\n      root._bokeh_onload_callbacks.forEach(function(callback) { callback() });\n    }\n    finally {\n      delete root._bokeh_onload_callbacks\n    }\n    console.info(\"Bokeh: all callbacks have finished\");\n  }\n\n  function load_libs(js_urls, callback) {\n    root._bokeh_onload_callbacks.push(callback);\n    if (root._bokeh_is_loading > 0) {\n      console.log(\"Bokeh: BokehJS is being loaded, scheduling callback at\", now());\n      return null;\n    }\n    if (js_urls == null || js_urls.length === 0) {\n      run_callbacks();\n      return null;\n    }\n    console.log(\"Bokeh: BokehJS not loaded, scheduling load and callback at\", now());\n    root._bokeh_is_loading = js_urls.length;\n    for (var i = 0; i < js_urls.length; i++) {\n      var url = js_urls[i];\n      var s = document.createElement('script');\n      s.src = url;\n      s.async = false;\n      s.onreadystatechange = s.onload = function() {\n        root._bokeh_is_loading--;\n        if (root._bokeh_is_loading === 0) {\n          console.log(\"Bokeh: all BokehJS libraries loaded\");\n          run_callbacks()\n        }\n      };\n      s.onerror = function() {\n        console.warn(\"failed to load library \" + url);\n      };\n      console.log(\"Bokeh: injecting script tag for BokehJS library: \", url);\n      document.getElementsByTagName(\"head\")[0].appendChild(s);\n    }\n  };var element = document.getElementById(\"1001\");\n  if (element == null) {\n    console.log(\"Bokeh: ERROR: autoload.js configured with elementid '1001' but no matching script tag was found. \")\n    return false;\n  }\n\n  var js_urls = [\"https://cdn.pydata.org/bokeh/release/bokeh-1.0.2.min.js\", \"https://cdn.pydata.org/bokeh/release/bokeh-widgets-1.0.2.min.js\", \"https://cdn.pydata.org/bokeh/release/bokeh-tables-1.0.2.min.js\", \"https://cdn.pydata.org/bokeh/release/bokeh-gl-1.0.2.min.js\"];\n\n  var inline_js = [\n    function(Bokeh) {\n      Bokeh.set_log_level(\"info\");\n    },\n    \n    function(Bokeh) {\n      \n    },\n    function(Bokeh) {\n      console.log(\"Bokeh: injecting CSS: https://cdn.pydata.org/bokeh/release/bokeh-1.0.2.min.css\");\n      Bokeh.embed.inject_css(\"https://cdn.pydata.org/bokeh/release/bokeh-1.0.2.min.css\");\n      console.log(\"Bokeh: injecting CSS: https://cdn.pydata.org/bokeh/release/bokeh-widgets-1.0.2.min.css\");\n      Bokeh.embed.inject_css(\"https://cdn.pydata.org/bokeh/release/bokeh-widgets-1.0.2.min.css\");\n      console.log(\"Bokeh: injecting CSS: https://cdn.pydata.org/bokeh/release/bokeh-tables-1.0.2.min.css\");\n      Bokeh.embed.inject_css(\"https://cdn.pydata.org/bokeh/release/bokeh-tables-1.0.2.min.css\");\n    }\n  ];\n\n  function run_inline_js() {\n    \n    if ((root.Bokeh !== undefined) || (force === true)) {\n      for (var i = 0; i < inline_js.length; i++) {\n        inline_js[i].call(root, root.Bokeh);\n      }if (force === true) {\n        display_loaded();\n      }} else if (Date.now() < root._bokeh_timeout) {\n      setTimeout(run_inline_js, 100);\n    } else if (!root._bokeh_failed_load) {\n      console.log(\"Bokeh: BokehJS failed to load within specified timeout.\");\n      root._bokeh_failed_load = true;\n    } else if (force !== true) {\n      var cell = $(document.getElementById(\"1001\")).parents('.cell').data().cell;\n      cell.output_area.append_execute_result(NB_LOAD_WARNING)\n    }\n\n  }\n\n  if (root._bokeh_is_loading === 0) {\n    console.log(\"Bokeh: BokehJS loaded, going straight to plotting\");\n    run_inline_js();\n  } else {\n    load_libs(js_urls, function() {\n      console.log(\"Bokeh: BokehJS plotting callback run at\", now());\n      run_inline_js();\n    });\n  }\n}(window));"
          },
          "metadata": {
            "tags": []
          }
        }
      ]
    },
    {
      "metadata": {
        "id": "K0_jA3fNxxuw",
        "colab_type": "code",
        "colab": {}
      },
      "cell_type": "code",
      "source": [
        "class SkipGram(nn.Module):\n",
        "    \n",
        "    def __init__(self, embedding_dim, vocab_size):\n",
        "        super(SkipGram, self).__init__()\n",
        "        \n",
        "        self.embedding_dim = embedding_dim\n",
        "        self.vocab_size = vocab_size\n",
        "        \n",
        "        self.in_embedding = nn.Embedding(num_embeddings = self.vocab_size, embedding_dim = self.embedding_dim)\n",
        "        self.out_embedding = nn.Embedding(num_embeddings = self.vocab_size, embedding_dim =self.embedding_dim)\n",
        "        \n",
        "        self.in_embedding.weight = nn.Parameter(torch.cat([torch.zeros(1, self.embedding_dim), torch.FloatTensor(self.vocab_size - 1, self.embedding_dim).uniform_(-0.5 / self.embedding_dim, 0.5 / self.embedding_dim)]))\n",
        "        self.out_embedding.weight = nn.Parameter(torch.cat([torch.zeros(1, self.embedding_dim), torch.FloatTensor(self.vocab_size - 1, self.embedding_dim).uniform_(-0.5 / self.embedding_dim, 0.5 / self.embedding_dim)]))\n",
        "        \n",
        "        self.in_embedding.weight.requires_grad = True\n",
        "        self.out_embedding.weight.requires_grad = True\n",
        "        \n",
        "    def forward(self, center, context, evaluate=False):\n",
        "#         batch_size = center.size()[0]\n",
        "#         context_size = context.size()[1]        \n",
        "        center_vectors = self.in_embedding(center).unsqueeze(2)\n",
        "        context_vectors = self.out_embedding(context)\n",
        "        \n",
        "        loss = torch.bmm(context_vectors, center_vectors).squeeze().sigmoid().log().mean(1)\n",
        "        \n",
        "#         loss = torch.mean(torch.bmm(context_vectors, center_vectors) * center.shape[0])\n",
        "        \n",
        "        if evaluate:\n",
        "            output = torch.bmm(context_vectors, center_vectors).squeeze()\n",
        "            output = torch.exp(output)/torch.sum(output)\n",
        "            \n",
        "            return -loss.mean(), output\n",
        "        else:\n",
        "            return -loss.mean()\n",
        "        "
      ],
      "execution_count": 0,
      "outputs": []
    },
    {
      "metadata": {
        "id": "y5-z3ZwkyjJh",
        "colab_type": "code",
        "colab": {}
      },
      "cell_type": "code",
      "source": [
        "class Preprocess(object):\n",
        "    \n",
        "    def __init__(self, window_size, unk):\n",
        "        self.window = window_size\n",
        "        self.unk = unk\n",
        "        \n",
        "    def skipgram(self, sentence, i):\n",
        "        center = sentence[i]\n",
        "        left = sentence[max(i-self.window, 0): i]\n",
        "        right = sentence[i:i+1: i+1+self.window]\n",
        "                \n",
        "        return center, [self.unk for _ in range(self.window - len(left))] + left + right + [self.unk for _ in range(self.window - len(right))]\n",
        "    \n",
        "    def build(self, url, subsampling=True, threshold=1e-5, word2idx=None):\n",
        "        print(\"Creating vocab\")\n",
        "        \n",
        "        response = urllib.request.urlopen(url)\n",
        "        \n",
        "        self.wc = {self.unk: 1}\n",
        "        for line in response.readlines():\n",
        "            for word in line.split():\n",
        "                w = word.decode()\n",
        "                self.wc[w] = self.wc.get(w, 0) + 1\n",
        "                                \n",
        "        self.idx2word = [self.unk] + sorted(self.wc, key=self.wc.get, reverse=True)      \n",
        "        self.word2idx = {self.idx2word[idx]: idx for idx, _ in enumerate(self.idx2word)}\n",
        "        \n",
        "        if word2idx is not None:\n",
        "            self.word2idx = word2idx\n",
        "        \n",
        "        self.vocab = set([word for word in self.word2idx])\n",
        "        self.vocab_size = len(self.vocab)\n",
        "                \n",
        "        print(\"Done with building vocab\")\n",
        "        \n",
        "        if subsampling:\n",
        "            self.subsampling(self.wc, threshold)\n",
        "        \n",
        "        self.convert(url, subsampling, word2idx)\n",
        "        \n",
        "    def subsampling(self, counts, threshold):\n",
        "        \n",
        "        N = sum(counts.values())\n",
        "        \n",
        "        freqs = {w: c/N for (w,c) in counts.items()}\n",
        "        \n",
        "        discard_table = {w:1-np.sqrt(threshold/f) for (w,f) in freqs.items()}\n",
        "        \n",
        "        self.discard_table = discard_table\n",
        "        \n",
        "    def discard(self, word_id):\n",
        "        return random.random() > self.discard_table[word_id]\n",
        "        \n",
        "    def convert(self, url, subsampling, word2idx):\n",
        "        print(\"Converting corpus\")\n",
        "        data = []\n",
        "        sentences = []\n",
        "        response = urllib.request.urlopen(url)\n",
        "        \n",
        "        for line in response.readlines():\n",
        "            sent = []\n",
        "            for word in line.split():\n",
        "                w = word.decode()\n",
        "                \n",
        "                if subsampling and self.discard(w):\n",
        "                    continue\n",
        "                \n",
        "                if w in self.vocab:\n",
        "                    sent.append(w)\n",
        "                else:\n",
        "                    sent.append(self.unk)\n",
        "            for i in range(len(sent)):\n",
        "                center, contexts = self.skipgram(sent, i)\n",
        "                data.append((self.word2idx[center], np.array([self.word2idx[context] for context in contexts])))\n",
        "            \n",
        "            sentences.append(sent)\n",
        "        self.data = data\n",
        "        self.sentences = sentences\n",
        "        print(\"Done\")\n",
        "        \n",
        "                \n",
        "                \n",
        "    "
      ],
      "execution_count": 0,
      "outputs": []
    },
    {
      "metadata": {
        "id": "OxSw6GhL2YOB",
        "colab_type": "code",
        "outputId": "2fc37af4-8bb1-4421-9e51-097d8213682b",
        "colab": {
          "base_uri": "https://localhost:8080/",
          "height": 185
        }
      },
      "cell_type": "code",
      "source": [
        "window_size = 5\n",
        "unk = \"<unk>\"\n",
        "\n",
        "print(\"Train...\")\n",
        "url_train = 'https://raw.githubusercontent.com/wojzaremba/lstm/master/data/ptb.train.txt'\n",
        "preprocess_train = Preprocess(window_size=window_size, unk=unk)\n",
        "preprocess_train.build(url_train, subsampling=True)\n",
        "\n",
        "print(\"Valid...\")\n",
        "url_valid = 'https://raw.githubusercontent.com/wojzaremba/lstm/master/data/ptb.valid.txt'\n",
        "preprocess_valid = Preprocess(window_size=window_size, unk=unk)\n",
        "preprocess_valid.build(url_valid, subsampling=True, word2idx=preprocess_train.word2idx)"
      ],
      "execution_count": 5,
      "outputs": [
        {
          "output_type": "stream",
          "text": [
            "Train...\n",
            "Creating vocab\n",
            "Done with building vocab\n",
            "Converting corpus\n",
            "Done\n",
            "Valid...\n",
            "Creating vocab\n",
            "Done with building vocab\n",
            "Converting corpus\n",
            "Done\n"
          ],
          "name": "stdout"
        }
      ]
    },
    {
      "metadata": {
        "id": "9pM91AzkBcgD",
        "colab_type": "code",
        "outputId": "85e1743f-2cef-474c-f72a-8bc723089b8b",
        "colab": {
          "base_uri": "https://localhost:8080/",
          "height": 84
        }
      },
      "cell_type": "code",
      "source": [
        "net = SkipGram(vocab_size = preprocess_train.vocab_size+1, embedding_dim=50)\n",
        "print(net)"
      ],
      "execution_count": 6,
      "outputs": [
        {
          "output_type": "stream",
          "text": [
            "SkipGram(\n",
            "  (in_embedding): Embedding(10000, 50)\n",
            "  (out_embedding): Embedding(10000, 50)\n",
            ")\n"
          ],
          "name": "stdout"
        }
      ]
    },
    {
      "metadata": {
        "id": "E80HeiVlBcVP",
        "colab_type": "code",
        "colab": {}
      },
      "cell_type": "code",
      "source": [
        "optimizer = optim.Adam(net.parameters())\n",
        "# optimizer.param_groups"
      ],
      "execution_count": 0,
      "outputs": []
    },
    {
      "metadata": {
        "id": "4U6b1z01D23p",
        "colab_type": "code",
        "colab": {}
      },
      "cell_type": "code",
      "source": [
        "train_loader = data_utils.DataLoader(preprocess_train.data, batch_size=128, shuffle=True)\n",
        "valid_loader = data_utils.DataLoader(preprocess_valid.data, batch_size=128, shuffle=True)"
      ],
      "execution_count": 0,
      "outputs": []
    },
    {
      "metadata": {
        "id": "raft9l2aFuci",
        "colab_type": "code",
        "outputId": "54ba1983-be65-4978-e591-e285fbdb059f",
        "colab": {
          "base_uri": "https://localhost:8080/",
          "height": 34
        }
      },
      "cell_type": "code",
      "source": [
        "use_cuda = torch.cuda.is_available()\n",
        "\n",
        "if use_cuda:\n",
        "    print(\"Cuda available\")\n",
        "    net.cuda()"
      ],
      "execution_count": 9,
      "outputs": [
        {
          "output_type": "stream",
          "text": [
            "Cuda available\n"
          ],
          "name": "stdout"
        }
      ]
    },
    {
      "metadata": {
        "id": "sCL5vBdjBbeL",
        "colab_type": "text"
      },
      "cell_type": "markdown",
      "source": [
        ""
      ]
    },
    {
      "metadata": {
        "id": "kch5oo8d__k2",
        "colab_type": "code",
        "colab": {}
      },
      "cell_type": "code",
      "source": [
        "# center, contexts = next(iter(train_loader))\n",
        "# print(center.shape, contexts.shape)\n",
        "# torch.mean(net(center.long(), contexts.long()) * center.shape[0])"
      ],
      "execution_count": 0,
      "outputs": []
    },
    {
      "metadata": {
        "id": "5y-0bwulEQzz",
        "colab_type": "code",
        "outputId": "20e43ce1-3bac-42cc-b20e-d520e753a566",
        "colab": {
          "base_uri": "https://localhost:8080/",
          "height": 302
        }
      },
      "cell_type": "code",
      "source": [
        "from tqdm import tqdm\n",
        "from time import sleep\n",
        "\n",
        "valid_loss = []\n",
        "train_loss = []\n",
        "\n",
        "epochs = 10\n",
        "for epoch in range(epochs):\n",
        "    pbar_train = tqdm(train_loader,position=0)\n",
        "    pbar_valid = tqdm(valid_loader,position=0)\n",
        "\n",
        "    pbar_train.set_description(\"[Epoch {}, train]\".format(epoch+1))\n",
        "    pbar_valid.set_description(\"[Epoch {}, valid]\".format(epoch+1))\n",
        "    \n",
        "    running_loss, running_length = 0, 0\n",
        "    \n",
        "    net.train()\n",
        "    for center, contexts in pbar_train:\n",
        "        \n",
        "        center = center.long()\n",
        "        contexts = contexts.long()\n",
        "        \n",
        "        if use_cuda:\n",
        "            center = center.cuda()\n",
        "            contexts = contexts.cuda()\n",
        "        \n",
        "        loss = net(center, contexts)\n",
        "        optimizer.zero_grad()\n",
        "        loss.backward()\n",
        "        optimizer.step()\n",
        "        \n",
        "        running_loss += loss.item()\n",
        "        running_length += center.shape[0]\n",
        "        \n",
        "        pbar_train.set_postfix(loss=running_loss, perplexity=np.exp(running_loss))\n",
        "        \n",
        "    train_loss.append(running_loss)\n",
        "\n",
        "    net.eval()\n",
        "    running_loss, running_length = 0, 0 \n",
        "    \n",
        "    for center, context in pbar_valid:\n",
        "        center = center.long()\n",
        "        context = context.long()\n",
        "        \n",
        "        if use_cuda:\n",
        "            center = center.cuda()\n",
        "            context = context.cuda()\n",
        "        \n",
        "        loss = net(center, context)\n",
        "        \n",
        "        running_loss += loss.item()\n",
        "        running_length += center.shape[0]\n",
        "        \n",
        "        pbar_valid.set_postfix(loss=running_loss, perplexity=np.exp(running_loss))\n",
        "        \n",
        "    valid_loss.append(running_loss)\n",
        "    \n",
        "#     print(\"Epoch: {}, Train loss: {:.3f}, Perplexity: {:.3f}\".format(epoch+1, train_loss[-1], np.exp(train_loss[-1])))\n",
        "\n",
        "#     print(\"Epoch: {}, Valid loss: {:.3f}, Perplexity: {:.3f}\".format(epoch+1, valid_loss[-1], np.exp(valid_loss[-1])))"
      ],
      "execution_count": 0,
      "outputs": [
        {
          "output_type": "stream",
          "text": [
            "[Epoch 1, train]: 100%|██████████| 5619/5619 [01:02<00:00, 89.22it/s, loss=260, perplexity=1.25e+113]\n",
            "[Epoch 1, valid]: 100%|██████████| 463/463 [01:06<00:00,  6.94it/s, loss=11.5, perplexity=9.8e+4] \n",
            "[Epoch 2, train]: 100%|██████████| 5619/5619 [00:59<00:00, 94.55it/s, loss=5.56, perplexity=261]\n",
            "[Epoch 2, valid]: 100%|██████████| 463/463 [01:02<00:00,  7.37it/s, loss=9.99, perplexity=2.19e+4] \n",
            "[Epoch 3, train]: 100%|██████████| 5619/5619 [00:59<00:00, 94.45it/s, loss=0.881, perplexity=2.41]\n",
            "[Epoch 3, valid]: 100%|██████████| 463/463 [01:02<00:00,  7.36it/s, loss=9.76, perplexity=1.73e+4] \n",
            "[Epoch 4, train]: 100%|██████████| 5619/5619 [00:59<00:00, 94.48it/s, loss=0.265, perplexity=1.3]\n",
            "[Epoch 4, valid]: 100%|██████████| 463/463 [01:02<00:00,  7.40it/s, loss=9.7, perplexity=1.62e+4] \n",
            "[Epoch 5, train]: 100%|██████████| 5619/5619 [00:58<00:00, 96.15it/s, loss=0.113, perplexity=1.12]\n",
            "[Epoch 5, valid]: 100%|██████████| 463/463 [01:01<00:00,  7.51it/s, loss=9.68, perplexity=1.6e+4] \n",
            "[Epoch 6, train]: 100%|██████████| 5619/5619 [00:58<00:00, 96.13it/s, loss=0.0558, perplexity=1.06]\n",
            "[Epoch 6, valid]: 100%|██████████| 463/463 [01:01<00:00,  7.47it/s, loss=9.65, perplexity=1.56e+4] \n",
            "[Epoch 7, train]: 100%|██████████| 5619/5619 [01:01<00:00, 91.12it/s, loss=0.0283, perplexity=1.03]\n",
            "[Epoch 7, valid]: 100%|██████████| 463/463 [01:04<00:00,  7.14it/s, loss=9.66, perplexity=1.57e+4] \n",
            "[Epoch 8, train]: 100%|██████████| 5619/5619 [00:57<00:00, 97.67it/s, loss=0.0143, perplexity=1.01]\n",
            "[Epoch 8, valid]: 100%|██████████| 463/463 [01:00<00:00,  7.62it/s, loss=9.65, perplexity=1.56e+4] \n",
            "[Epoch 9, train]:  52%|█████▏    | 2902/5619 [00:30<00:28, 96.19it/s, loss=0.00412, perplexity=1]"
          ],
          "name": "stderr"
        }
      ]
    },
    {
      "metadata": {
        "id": "QEckgSVmVpFY",
        "colab_type": "code",
        "outputId": "eb66f3e9-37a3-469f-add4-0bdc223fbdc2",
        "colab": {
          "base_uri": "https://localhost:8080/",
          "height": 347
        }
      },
      "cell_type": "code",
      "source": [
        "plt.figure()\n",
        "plt.scatter(list(range(1,epochs+1)), train_loss, color='blue', alpha=0.7, label='train')\n",
        "plt.scatter(list(range(1,epochs+1)), valid_loss, color='orange', alpha=0.7, label='valid')\n",
        "plt.xlabel(\"Epoch\")\n",
        "plt.ylabel(\"Loss\")\n",
        "plt.legend()\n",
        "plt.show()"
      ],
      "execution_count": 0,
      "outputs": [
        {
          "output_type": "display_data",
          "data": {
            "image/png": "[encoded data removed]",
            "text/plain": [
              "<matplotlib.figure.Figure at 0x7f973fd0aeb8>"
            ]
          },
          "metadata": {
            "tags": []
          }
        }
      ]
    },
    {
      "metadata": {
        "id": "l1XjB90nikPq",
        "colab_type": "code",
        "outputId": "fa8027e3-6048-4501-9696-d3ea94a2da02",
        "colab": {
          "base_uri": "https://localhost:8080/",
          "height": 84
        }
      },
      "cell_type": "code",
      "source": [
        "url_train = 'https://raw.githubusercontent.com/wojzaremba/lstm/master/data/ptb.test.txt'\n",
        "preprocess_test = Preprocess(window_size=window_size, unk=unk)\n",
        "preprocess_test.build(url_train, subsampling=True, word2idx=preprocess_train.word2idx)"
      ],
      "execution_count": 0,
      "outputs": [
        {
          "output_type": "stream",
          "text": [
            "Creating vocab\n",
            "Done with building vocab\n",
            "Converting corpus\n",
            "Done\n"
          ],
          "name": "stdout"
        }
      ]
    },
    {
      "metadata": {
        "id": "R1lYU9cuhwye",
        "colab_type": "code",
        "outputId": "50058e7e-42d3-4d70-db62-feef6265fe02",
        "colab": {
          "base_uri": "https://localhost:8080/",
          "height": 815
        }
      },
      "cell_type": "code",
      "source": [
        "model = TSNE(n_components=2, perplexity=30, n_iter=5000, method='exact', verbose=1)\n",
        "\n",
        "idx2vec = net.in_embedding.weight.data.cpu().numpy()\n",
        "word2idx = preprocess_train.word2idx\n",
        "\n",
        "top_k_words = 500\n",
        "\n",
        "words_train = sorted(preprocess_train.wc, key=preprocess_train.wc.get, reverse=True)\n",
        "words_train_array = np.array(words_train)\n",
        "sampled_words_train = words_train_array[:top_k_words] #np.random.choice(words_train_array, size=1000)\n",
        "\n",
        "X_train = np.array([idx2vec[word2idx[word]] for word in sampled_words_train])\n",
        "X_train = model.fit_transform(X_train)\n",
        "\n",
        "words_test = sorted(preprocess_test.wc, key=preprocess_test.wc.get, reverse=True)\n",
        "words_test_array = np.array(words_test)\n",
        "sampled_words_test = words_test_array[:top_k_words] # np.random.choice(words_test_array, size=1000)\n",
        "\n",
        "X_test=np.array([idx2vec[word2idx[word]] for word in sampled_words_test])\n",
        "X_test=model.fit_transform(X_test)\n",
        "\n",
        "output_notebook()\n",
        "source_train = ColumnDataSource(\n",
        "    data=dict(x=X_train[:,0], y=X_train[:,1], w=sampled_words_train)\n",
        ")\n",
        "source_test = ColumnDataSource(\n",
        "    data=dict(x=X_test[:,0], y=X_test[:,1], w=sampled_words_test)\n",
        ")\n",
        "hover_tool = HoverTool(tooltips=[(\"word\", \"@w\")])\n",
        "\n",
        "p = figure(plot_width=600, plot_height=600, title=\"t-SNE, top {} words\".format(top_k_words))\n",
        "p.scatter('x', 'y', color='blue', alpha=0.7, source=source_train, name=\"train\", legend=\"train\")\n",
        "p.scatter('x', 'y', color='orange', alpha=0.7, source=source_test, name=\"test\", legend=\"test\")\n",
        "\n",
        "p.add_tools(hover_tool)\n",
        "\n",
        "show(p)"
      ],
      "execution_count": 0,
      "outputs": [
        {
          "output_type": "stream",
          "text": [
            "[t-SNE] Computing pairwise distances...\n",
            "[t-SNE] Computed conditional probabilities for sample 500 / 500\n",
            "[t-SNE] Mean sigma: 0.029444\n",
            "[t-SNE] KL divergence after 250 iterations with early exaggeration: 53.788505\n",
            "[t-SNE] Error after 5000 iterations: 0.294492\n",
            "[t-SNE] Computing pairwise distances...\n",
            "[t-SNE] Computed conditional probabilities for sample 500 / 500\n",
            "[t-SNE] Mean sigma: 0.032059\n",
            "[t-SNE] KL divergence after 250 iterations with early exaggeration: 52.802087\n",
            "[t-SNE] Error after 5000 iterations: 0.261760\n"
          ],
          "name": "stdout"
        },
        {
          "output_type": "display_data",
          "data": {
            "text/html": [
              "\n",
              "    <div class=\"bk-root\">\n",
              "        <a href=\"https://bokeh.pydata.org\" target=\"_blank\" class=\"bk-logo bk-logo-small bk-logo-notebook\"></a>\n",
              "        <span id=\"1458\">Loading BokehJS ...</span>\n",
              "    </div>"
            ]
          },
          "metadata": {
            "tags": []
          }
        },
        {
          "output_type": "display_data",
          "data": {
            "application/javascript": [
              "\n",
              "(function(root) {\n",
              "  function now() {\n",
              "    return new Date();\n",
              "  }\n",
              "\n",
              "  var force = true;\n",
              "\n",
              "  if (typeof (root._bokeh_onload_callbacks) === \"undefined\" || force === true) {\n",
              "    root._bokeh_onload_callbacks = [];\n",
              "    root._bokeh_is_loading = undefined;\n",
              "  }\n",
              "\n",
              "  var JS_MIME_TYPE = 'application/javascript';\n",
              "  var HTML_MIME_TYPE = 'text/html';\n",
              "  var EXEC_MIME_TYPE = 'application/vnd.bokehjs_exec.v0+json';\n",
              "  var CLASS_NAME = 'output_bokeh rendered_html';\n",
              "\n",
              "  /**\n",
              "   * Render data to the DOM node\n",
              "   */\n",
              "  function render(props, node) {\n",
              "    var script = document.createElement(\"script\");\n",
              "    node.appendChild(script);\n",
              "  }\n",
              "\n",
              "  /**\n",
              "   * Handle when an output is cleared or removed\n",
              "   */\n",
              "  function handleClearOutput(event, handle) {\n",
              "    var cell = handle.cell;\n",
              "\n",
              "    var id = cell.output_area._bokeh_element_id;\n",
              "    var server_id = cell.output_area._bokeh_server_id;\n",
              "    // Clean up Bokeh references\n",
              "    if (id != null && id in Bokeh.index) {\n",
              "      Bokeh.index[id].model.document.clear();\n",
              "      delete Bokeh.index[id];\n",
              "    }\n",
              "\n",
              "    if (server_id !== undefined) {\n",
              "      // Clean up Bokeh references\n",
              "      var cmd = \"from bokeh.io.state import curstate; print(curstate().uuid_to_server['\" + server_id + \"'].get_sessions()[0].document.roots[0]._id)\";\n",
              "      cell.notebook.kernel.execute(cmd, {\n",
              "        iopub: {\n",
              "          output: function(msg) {\n",
              "            var id = msg.content.text.trim();\n",
              "            if (id in Bokeh.index) {\n",
              "              Bokeh.index[id].model.document.clear();\n",
              "              delete Bokeh.index[id];\n",
              "            }\n",
              "          }\n",
              "        }\n",
              "      });\n",
              "      // Destroy server and session\n",
              "      var cmd = \"import bokeh.io.notebook as ion; ion.destroy_server('\" + server_id + \"')\";\n",
              "      cell.notebook.kernel.execute(cmd);\n",
              "    }\n",
              "  }\n",
              "\n",
              "  /**\n",
              "   * Handle when a new output is added\n",
              "   */\n",
              "  function handleAddOutput(event, handle) {\n",
              "    var output_area = handle.output_area;\n",
              "    var output = handle.output;\n",
              "\n",
              "    // limit handleAddOutput to display_data with EXEC_MIME_TYPE content only\n",
              "    if ((output.output_type != \"display_data\") || (!output.data.hasOwnProperty(EXEC_MIME_TYPE))) {\n",
              "      return\n",
              "    }\n",
              "\n",
              "    var toinsert = output_area.element.find(\".\" + CLASS_NAME.split(' ')[0]);\n",
              "\n",
              "    if (output.metadata[EXEC_MIME_TYPE][\"id\"] !== undefined) {\n",
              "      toinsert[toinsert.length - 1].firstChild.textContent = output.data[JS_MIME_TYPE];\n",
              "      // store reference to embed id on output_area\n",
              "      output_area._bokeh_element_id = output.metadata[EXEC_MIME_TYPE][\"id\"];\n",
              "    }\n",
              "    if (output.metadata[EXEC_MIME_TYPE][\"server_id\"] !== undefined) {\n",
              "      var bk_div = document.createElement(\"div\");\n",
              "      bk_div.innerHTML = output.data[HTML_MIME_TYPE];\n",
              "      var script_attrs = bk_div.children[0].attributes;\n",
              "      for (var i = 0; i < script_attrs.length; i++) {\n",
              "        toinsert[toinsert.length - 1].firstChild.setAttribute(script_attrs[i].name, script_attrs[i].value);\n",
              "      }\n",
              "      // store reference to server id on output_area\n",
              "      output_area._bokeh_server_id = output.metadata[EXEC_MIME_TYPE][\"server_id\"];\n",
              "    }\n",
              "  }\n",
              "\n",
              "  function register_renderer(events, OutputArea) {\n",
              "\n",
              "    function append_mime(data, metadata, element) {\n",
              "      // create a DOM node to render to\n",
              "      var toinsert = this.create_output_subarea(\n",
              "        metadata,\n",
              "        CLASS_NAME,\n",
              "        EXEC_MIME_TYPE\n",
              "      );\n",
              "      this.keyboard_manager.register_events(toinsert);\n",
              "      // Render to node\n",
              "      var props = {data: data, metadata: metadata[EXEC_MIME_TYPE]};\n",
              "      render(props, toinsert[toinsert.length - 1]);\n",
              "      element.append(toinsert);\n",
              "      return toinsert\n",
              "    }\n",
              "\n",
              "    /* Handle when an output is cleared or removed */\n",
              "    events.on('clear_output.CodeCell', handleClearOutput);\n",
              "    events.on('delete.Cell', handleClearOutput);\n",
              "\n",
              "    /* Handle when a new output is added */\n",
              "    events.on('output_added.OutputArea', handleAddOutput);\n",
              "\n",
              "    /**\n",
              "     * Register the mime type and append_mime function with output_area\n",
              "     */\n",
              "    OutputArea.prototype.register_mime_type(EXEC_MIME_TYPE, append_mime, {\n",
              "      /* Is output safe? */\n",
              "      safe: true,\n",
              "      /* Index of renderer in `output_area.display_order` */\n",
              "      index: 0\n",
              "    });\n",
              "  }\n",
              "\n",
              "  // register the mime type if in Jupyter Notebook environment and previously unregistered\n",
              "  if (root.Jupyter !== undefined) {\n",
              "    var events = require('base/js/events');\n",
              "    var OutputArea = require('notebook/js/outputarea').OutputArea;\n",
              "\n",
              "    if (OutputArea.prototype.mime_types().indexOf(EXEC_MIME_TYPE) == -1) {\n",
              "      register_renderer(events, OutputArea);\n",
              "    }\n",
              "  }\n",
              "\n",
              "  \n",
              "  if (typeof (root._bokeh_timeout) === \"undefined\" || force === true) {\n",
              "    root._bokeh_timeout = Date.now() + 5000;\n",
              "    root._bokeh_failed_load = false;\n",
              "  }\n",
              "\n",
              "  var NB_LOAD_WARNING = {'data': {'text/html':\n",
              "     \"<div style='background-color: #fdd'>\\n\"+\n",
              "     \"<p>\\n\"+\n",
              "     \"BokehJS does not appear to have successfully loaded. If loading BokehJS from CDN, this \\n\"+\n",
              "     \"may be due to a slow or bad network connection. Possible fixes:\\n\"+\n",
              "     \"</p>\\n\"+\n",
              "     \"<ul>\\n\"+\n",
              "     \"<li>re-rerun `output_notebook()` to attempt to load from CDN again, or</li>\\n\"+\n",
              "     \"<li>use INLINE resources instead, as so:</li>\\n\"+\n",
              "     \"</ul>\\n\"+\n",
              "     \"<code>\\n\"+\n",
              "     \"from bokeh.resources import INLINE\\n\"+\n",
              "     \"output_notebook(resources=INLINE)\\n\"+\n",
              "     \"</code>\\n\"+\n",
              "     \"</div>\"}};\n",
              "\n",
              "  function display_loaded() {\n",
              "    var el = document.getElementById(\"1458\");\n",
              "    if (el != null) {\n",
              "      el.textContent = \"BokehJS is loading...\";\n",
              "    }\n",
              "    if (root.Bokeh !== undefined) {\n",
              "      if (el != null) {\n",
              "        el.textContent = \"BokehJS \" + root.Bokeh.version + \" successfully loaded.\";\n",
              "      }\n",
              "    } else if (Date.now() < root._bokeh_timeout) {\n",
              "      setTimeout(display_loaded, 100)\n",
              "    }\n",
              "  }\n",
              "\n",
              "\n",
              "  function run_callbacks() {\n",
              "    try {\n",
              "      root._bokeh_onload_callbacks.forEach(function(callback) { callback() });\n",
              "    }\n",
              "    finally {\n",
              "      delete root._bokeh_onload_callbacks\n",
              "    }\n",
              "    console.info(\"Bokeh: all callbacks have finished\");\n",
              "  }\n",
              "\n",
              "  function load_libs(js_urls, callback) {\n",
              "    root._bokeh_onload_callbacks.push(callback);\n",
              "    if (root._bokeh_is_loading > 0) {\n",
              "      console.log(\"Bokeh: BokehJS is being loaded, scheduling callback at\", now());\n",
              "      return null;\n",
              "    }\n",
              "    if (js_urls == null || js_urls.length === 0) {\n",
              "      run_callbacks();\n",
              "      return null;\n",
              "    }\n",
              "    console.log(\"Bokeh: BokehJS not loaded, scheduling load and callback at\", now());\n",
              "    root._bokeh_is_loading = js_urls.length;\n",
              "    for (var i = 0; i < js_urls.length; i++) {\n",
              "      var url = js_urls[i];\n",
              "      var s = document.createElement('script');\n",
              "      s.src = url;\n",
              "      s.async = false;\n",
              "      s.onreadystatechange = s.onload = function() {\n",
              "        root._bokeh_is_loading--;\n",
              "        if (root._bokeh_is_loading === 0) {\n",
              "          console.log(\"Bokeh: all BokehJS libraries loaded\");\n",
              "          run_callbacks()\n",
              "        }\n",
              "      };\n",
              "      s.onerror = function() {\n",
              "        console.warn(\"failed to load library \" + url);\n",
              "      };\n",
              "      console.log(\"Bokeh: injecting script tag for BokehJS library: \", url);\n",
              "      document.getElementsByTagName(\"head\")[0].appendChild(s);\n",
              "    }\n",
              "  };var element = document.getElementById(\"1458\");\n",
              "  if (element == null) {\n",
              "    console.log(\"Bokeh: ERROR: autoload.js configured with elementid '1458' but no matching script tag was found. \")\n",
              "    return false;\n",
              "  }\n",
              "\n",
              "  var js_urls = [\"https://cdn.pydata.org/bokeh/release/bokeh-1.0.2.min.js\", \"https://cdn.pydata.org/bokeh/release/bokeh-widgets-1.0.2.min.js\", \"https://cdn.pydata.org/bokeh/release/bokeh-tables-1.0.2.min.js\", \"https://cdn.pydata.org/bokeh/release/bokeh-gl-1.0.2.min.js\"];\n",
              "\n",
              "  var inline_js = [\n",
              "    function(Bokeh) {\n",
              "      Bokeh.set_log_level(\"info\");\n",
              "    },\n",
              "    \n",
              "    function(Bokeh) {\n",
              "      \n",
              "    },\n",
              "    function(Bokeh) {\n",
              "      console.log(\"Bokeh: injecting CSS: https://cdn.pydata.org/bokeh/release/bokeh-1.0.2.min.css\");\n",
              "      Bokeh.embed.inject_css(\"https://cdn.pydata.org/bokeh/release/bokeh-1.0.2.min.css\");\n",
              "      console.log(\"Bokeh: injecting CSS: https://cdn.pydata.org/bokeh/release/bokeh-widgets-1.0.2.min.css\");\n",
              "      Bokeh.embed.inject_css(\"https://cdn.pydata.org/bokeh/release/bokeh-widgets-1.0.2.min.css\");\n",
              "      console.log(\"Bokeh: injecting CSS: https://cdn.pydata.org/bokeh/release/bokeh-tables-1.0.2.min.css\");\n",
              "      Bokeh.embed.inject_css(\"https://cdn.pydata.org/bokeh/release/bokeh-tables-1.0.2.min.css\");\n",
              "    }\n",
              "  ];\n",
              "\n",
              "  function run_inline_js() {\n",
              "    \n",
              "    if ((root.Bokeh !== undefined) || (force === true)) {\n",
              "      for (var i = 0; i < inline_js.length; i++) {\n",
              "        inline_js[i].call(root, root.Bokeh);\n",
              "      }if (force === true) {\n",
              "        display_loaded();\n",
              "      }} else if (Date.now() < root._bokeh_timeout) {\n",
              "      setTimeout(run_inline_js, 100);\n",
              "    } else if (!root._bokeh_failed_load) {\n",
              "      console.log(\"Bokeh: BokehJS failed to load within specified timeout.\");\n",
              "      root._bokeh_failed_load = true;\n",
              "    } else if (force !== true) {\n",
              "      var cell = $(document.getElementById(\"1458\")).parents('.cell').data().cell;\n",
              "      cell.output_area.append_execute_result(NB_LOAD_WARNING)\n",
              "    }\n",
              "\n",
              "  }\n",
              "\n",
              "  if (root._bokeh_is_loading === 0) {\n",
              "    console.log(\"Bokeh: BokehJS loaded, going straight to plotting\");\n",
              "    run_inline_js();\n",
              "  } else {\n",
              "    load_libs(js_urls, function() {\n",
              "      console.log(\"Bokeh: BokehJS plotting callback run at\", now());\n",
              "      run_inline_js();\n",
              "    });\n",
              "  }\n",
              "}(window));"
            ],
            "application/vnd.bokehjs_load.v0+json": "\n(function(root) {\n  function now() {\n    return new Date();\n  }\n\n  var force = true;\n\n  if (typeof (root._bokeh_onload_callbacks) === \"undefined\" || force === true) {\n    root._bokeh_onload_callbacks = [];\n    root._bokeh_is_loading = undefined;\n  }\n\n  \n\n  \n  if (typeof (root._bokeh_timeout) === \"undefined\" || force === true) {\n    root._bokeh_timeout = Date.now() + 5000;\n    root._bokeh_failed_load = false;\n  }\n\n  var NB_LOAD_WARNING = {'data': {'text/html':\n     \"<div style='background-color: #fdd'>\\n\"+\n     \"<p>\\n\"+\n     \"BokehJS does not appear to have successfully loaded. If loading BokehJS from CDN, this \\n\"+\n     \"may be due to a slow or bad network connection. Possible fixes:\\n\"+\n     \"</p>\\n\"+\n     \"<ul>\\n\"+\n     \"<li>re-rerun `output_notebook()` to attempt to load from CDN again, or</li>\\n\"+\n     \"<li>use INLINE resources instead, as so:</li>\\n\"+\n     \"</ul>\\n\"+\n     \"<code>\\n\"+\n     \"from bokeh.resources import INLINE\\n\"+\n     \"output_notebook(resources=INLINE)\\n\"+\n     \"</code>\\n\"+\n     \"</div>\"}};\n\n  function display_loaded() {\n    var el = document.getElementById(\"1458\");\n    if (el != null) {\n      el.textContent = \"BokehJS is loading...\";\n    }\n    if (root.Bokeh !== undefined) {\n      if (el != null) {\n        el.textContent = \"BokehJS \" + root.Bokeh.version + \" successfully loaded.\";\n      }\n    } else if (Date.now() < root._bokeh_timeout) {\n      setTimeout(display_loaded, 100)\n    }\n  }\n\n\n  function run_callbacks() {\n    try {\n      root._bokeh_onload_callbacks.forEach(function(callback) { callback() });\n    }\n    finally {\n      delete root._bokeh_onload_callbacks\n    }\n    console.info(\"Bokeh: all callbacks have finished\");\n  }\n\n  function load_libs(js_urls, callback) {\n    root._bokeh_onload_callbacks.push(callback);\n    if (root._bokeh_is_loading > 0) {\n      console.log(\"Bokeh: BokehJS is being loaded, scheduling callback at\", now());\n      return null;\n    }\n    if (js_urls == null || js_urls.length === 0) {\n      run_callbacks();\n      return null;\n    }\n    console.log(\"Bokeh: BokehJS not loaded, scheduling load and callback at\", now());\n    root._bokeh_is_loading = js_urls.length;\n    for (var i = 0; i < js_urls.length; i++) {\n      var url = js_urls[i];\n      var s = document.createElement('script');\n      s.src = url;\n      s.async = false;\n      s.onreadystatechange = s.onload = function() {\n        root._bokeh_is_loading--;\n        if (root._bokeh_is_loading === 0) {\n          console.log(\"Bokeh: all BokehJS libraries loaded\");\n          run_callbacks()\n        }\n      };\n      s.onerror = function() {\n        console.warn(\"failed to load library \" + url);\n      };\n      console.log(\"Bokeh: injecting script tag for BokehJS library: \", url);\n      document.getElementsByTagName(\"head\")[0].appendChild(s);\n    }\n  };var element = document.getElementById(\"1458\");\n  if (element == null) {\n    console.log(\"Bokeh: ERROR: autoload.js configured with elementid '1458' but no matching script tag was found. \")\n    return false;\n  }\n\n  var js_urls = [\"https://cdn.pydata.org/bokeh/release/bokeh-1.0.2.min.js\", \"https://cdn.pydata.org/bokeh/release/bokeh-widgets-1.0.2.min.js\", \"https://cdn.pydata.org/bokeh/release/bokeh-tables-1.0.2.min.js\", \"https://cdn.pydata.org/bokeh/release/bokeh-gl-1.0.2.min.js\"];\n\n  var inline_js = [\n    function(Bokeh) {\n      Bokeh.set_log_level(\"info\");\n    },\n    \n    function(Bokeh) {\n      \n    },\n    function(Bokeh) {\n      console.log(\"Bokeh: injecting CSS: https://cdn.pydata.org/bokeh/release/bokeh-1.0.2.min.css\");\n      Bokeh.embed.inject_css(\"https://cdn.pydata.org/bokeh/release/bokeh-1.0.2.min.css\");\n      console.log(\"Bokeh: injecting CSS: https://cdn.pydata.org/bokeh/release/bokeh-widgets-1.0.2.min.css\");\n      Bokeh.embed.inject_css(\"https://cdn.pydata.org/bokeh/release/bokeh-widgets-1.0.2.min.css\");\n      console.log(\"Bokeh: injecting CSS: https://cdn.pydata.org/bokeh/release/bokeh-tables-1.0.2.min.css\");\n      Bokeh.embed.inject_css(\"https://cdn.pydata.org/bokeh/release/bokeh-tables-1.0.2.min.css\");\n    }\n  ];\n\n  function run_inline_js() {\n    \n    if ((root.Bokeh !== undefined) || (force === true)) {\n      for (var i = 0; i < inline_js.length; i++) {\n        inline_js[i].call(root, root.Bokeh);\n      }if (force === true) {\n        display_loaded();\n      }} else if (Date.now() < root._bokeh_timeout) {\n      setTimeout(run_inline_js, 100);\n    } else if (!root._bokeh_failed_load) {\n      console.log(\"Bokeh: BokehJS failed to load within specified timeout.\");\n      root._bokeh_failed_load = true;\n    } else if (force !== true) {\n      var cell = $(document.getElementById(\"1458\")).parents('.cell').data().cell;\n      cell.output_area.append_execute_result(NB_LOAD_WARNING)\n    }\n\n  }\n\n  if (root._bokeh_is_loading === 0) {\n    console.log(\"Bokeh: BokehJS loaded, going straight to plotting\");\n    run_inline_js();\n  } else {\n    load_libs(js_urls, function() {\n      console.log(\"Bokeh: BokehJS plotting callback run at\", now());\n      run_inline_js();\n    });\n  }\n}(window));"
          },
          "metadata": {
            "tags": []
          }
        },
        {
          "output_type": "display_data",
          "data": {
            "text/html": [
              "\n",
              "\n",
              "\n",
              "\n",
              "\n",
              "\n",
              "  <div class=\"bk-root\" id=\"4cd9b5ab-a901-4213-b5f6-4321c169d589\"></div>\n"
            ]
          },
          "metadata": {
            "tags": []
          }
        },
        {
          "output_type": "display_data",
          "data": {
            "application/javascript": [
              "(function(root) {\n",
              "  function embed_document(root) {\n",
              "    \n",
              "  var docs_json = {\"4a40162f-85d6-4d5a-872c-109b39195d78\":{\"roots\":{\"references\":[{\"attributes\":{\"below\":[{\"id\":\"1473\",\"type\":\"LinearAxis\"}],\"left\":[{\"id\":\"1478\",\"type\":\"LinearAxis\"}],\"renderers\":[{\"id\":\"1473\",\"type\":\"LinearAxis\"},{\"id\":\"1477\",\"type\":\"Grid\"},{\"id\":\"1478\",\"type\":\"LinearAxis\"},{\"id\":\"1482\",\"type\":\"Grid\"},{\"id\":\"1491\",\"type\":\"BoxAnnotation\"},{\"id\":\"1509\",\"type\":\"Legend\"},{\"id\":\"1501\",\"type\":\"GlyphRenderer\"},{\"id\":\"1514\",\"type\":\"GlyphRenderer\"}],\"title\":{\"id\":\"1462\",\"type\":\"Title\"},\"toolbar\":{\"id\":\"1489\",\"type\":\"Toolbar\"},\"x_range\":{\"id\":\"1465\",\"type\":\"DataRange1d\"},\"x_scale\":{\"id\":\"1469\",\"type\":\"LinearScale\"},\"y_range\":{\"id\":\"1467\",\"type\":\"DataRange1d\"},\"y_scale\":{\"id\":\"1471\",\"type\":\"LinearScale\"}},\"id\":\"1463\",\"subtype\":\"Figure\",\"type\":\"Plot\"},{\"attributes\":{\"active_drag\":\"auto\",\"active_inspect\":\"auto\",\"active_multi\":null,\"active_scroll\":\"auto\",\"active_tap\":\"auto\",\"tools\":[{\"id\":\"1483\",\"type\":\"PanTool\"},{\"id\":\"1484\",\"type\":\"WheelZoomTool\"},{\"id\":\"1485\",\"type\":\"BoxZoomTool\"},{\"id\":\"1486\",\"type\":\"SaveTool\"},{\"id\":\"1487\",\"type\":\"ResetTool\"},{\"id\":\"1488\",\"type\":\"HelpTool\"},{\"id\":\"1461\",\"type\":\"HoverTool\"}]},\"id\":\"1489\",\"type\":\"Toolbar\"},{\"attributes\":{},\"id\":\"1483\",\"type\":\"PanTool\"},{\"attributes\":{\"source\":{\"id\":\"1460\",\"type\":\"ColumnDataSource\"}},\"id\":\"1515\",\"type\":\"CDSView\"},{\"attributes\":{},\"id\":\"1484\",\"type\":\"WheelZoomTool\"},{\"attributes\":{},\"id\":\"1521\",\"type\":\"Selection\"},{\"attributes\":{\"overlay\":{\"id\":\"1491\",\"type\":\"BoxAnnotation\"}},\"id\":\"1485\",\"type\":\"BoxZoomTool\"},{\"attributes\":{\"fill_alpha\":{\"value\":0.1},\"fill_color\":{\"value\":\"#1f77b4\"},\"line_alpha\":{\"value\":0.1},\"line_color\":{\"value\":\"#1f77b4\"},\"x\":{\"field\":\"x\"},\"y\":{\"field\":\"y\"}},\"id\":\"1500\",\"type\":\"Scatter\"},{\"attributes\":{},\"id\":\"1522\",\"type\":\"UnionRenderers\"},{\"attributes\":{},\"id\":\"1486\",\"type\":\"SaveTool\"},{\"attributes\":{\"label\":{\"value\":\"test\"},\"renderers\":[{\"id\":\"1514\",\"type\":\"GlyphRenderer\"}]},\"id\":\"1524\",\"type\":\"LegendItem\"},{\"attributes\":{\"callback\":null,\"tooltips\":[[\"word\",\"@w\"]]},\"id\":\"1461\",\"type\":\"HoverTool\"},{\"attributes\":{},\"id\":\"1487\",\"type\":\"ResetTool\"},{\"attributes\":{\"plot\":null,\"text\":\"t-SNE, top 500 words\"},\"id\":\"1462\",\"type\":\"Title\"},{\"attributes\":{},\"id\":\"1543\",\"type\":\"Selection\"},{\"attributes\":{},\"id\":\"1488\",\"type\":\"HelpTool\"},{\"attributes\":{\"callback\":null},\"id\":\"1465\",\"type\":\"DataRange1d\"},{\"attributes\":{},\"id\":\"1544\",\"type\":\"UnionRenderers\"},{\"attributes\":{\"callback\":null},\"id\":\"1467\",\"type\":\"DataRange1d\"},{\"attributes\":{\"bottom_units\":\"screen\",\"fill_alpha\":{\"value\":0.5},\"fill_color\":{\"value\":\"lightgrey\"},\"left_units\":\"screen\",\"level\":\"overlay\",\"line_alpha\":{\"value\":1.0},\"line_color\":{\"value\":\"black\"},\"line_dash\":[4,4],\"line_width\":{\"value\":2},\"plot\":null,\"render_mode\":\"css\",\"right_units\":\"screen\",\"top_units\":\"screen\"},\"id\":\"1491\",\"type\":\"BoxAnnotation\"},{\"attributes\":{},\"id\":\"1469\",\"type\":\"LinearScale\"},{\"attributes\":{\"data_source\":{\"id\":\"1459\",\"type\":\"ColumnDataSource\"},\"glyph\":{\"id\":\"1499\",\"type\":\"Scatter\"},\"hover_glyph\":null,\"muted_glyph\":null,\"name\":\"train\",\"nonselection_glyph\":{\"id\":\"1500\",\"type\":\"Scatter\"},\"selection_glyph\":null,\"view\":{\"id\":\"1502\",\"type\":\"CDSView\"}},\"id\":\"1501\",\"type\":\"GlyphRenderer\"},{\"attributes\":{},\"id\":\"1471\",\"type\":\"LinearScale\"},{\"attributes\":{\"source\":{\"id\":\"1459\",\"type\":\"ColumnDataSource\"}},\"id\":\"1502\",\"type\":\"CDSView\"},{\"attributes\":{\"callback\":null,\"data\":{\"w\":[\"<unk>\",\"the\",\"N\",\"of\",\"to\",\"a\",\"in\",\"and\",\"'s\",\"that\",\"for\",\"is\",\"said\",\"$\",\"it\",\"on\",\"as\",\"by\",\"at\",\"with\",\"its\",\"was\",\"be\",\"are\",\"from\",\"million\",\"n't\",\"but\",\"mr.\",\"have\",\"he\",\"market\",\"has\",\"will\",\"an\",\"about\",\"this\",\"company\",\"or\",\"they\",\"new\",\"year\",\"were\",\"which\",\"more\",\"would\",\"u.s.\",\"stock\",\"had\",\"than\",\"friday\",\"their\",\"been\",\"says\",\"one\",\"not\",\"up\",\"corp.\",\"some\",\"we\",\"billion\",\"his\",\"also\",\"prices\",\"when\",\"i\",\"share\",\"last\",\"inc.\",\"other\",\"who\",\"&\",\"all\",\"sales\",\"because\",\"if\",\"after\",\"president\",\"co.\",\"most\",\"there\",\"do\",\"could\",\"any\",\"two\",\"years\",\"first\",\"time\",\"investors\",\"out\",\"group\",\"trading\",\"may\",\"quarter\",\"down\",\"big\",\"many\",\"now\",\"federal\",\"shares\",\"into\",\"stocks\",\"only\",\"can\",\"government\",\"over\",\"companies\",\"no\",\"so\",\"what\",\"such\",\"financial\",\"much\",\"business\",\"securities\",\"cents\",\"service\",\"price\",\"york\",\"week\",\"even\",\"news\",\"expected\",\"months\",\"bonds\",\"still\",\"people\",\"national\",\"court\",\"say\",\"just\",\"'\",\"between\",\"those\",\"did\",\"before\",\"analysts\",\"industry\",\"since\",\"under\",\"off\",\"officials\",\"markets\",\"next\",\"major\",\"executive\",\"money\",\"american\",\"chief\",\"earnings\",\"investment\",\"you\",\"sell\",\"through\",\"bank\",\"ago\",\"buy\",\"while\",\"these\",\"well\",\"like\",\"three\",\"month\",\"crash\",\"chairman\",\"trade\",\"net\",\"them\",\"third\",\"get\",\"should\",\"computer\",\"back\",\"firm\",\"economy\",\"futures\",\"however\",\"program\",\"she\",\"junk\",\"both\",\"capital\",\"today\",\"report\",\"make\",\"own\",\"does\",\"another\",\"exchange\",\"unit\",\"take\",\"rate\",\"days\",\"drop\",\"recent\",\"points\",\"selling\",\"board\",\"close\",\"made\",\"against\",\"among\",\"revenue\",\"sony\",\"dow\",\"then\",\"several\",\"system\",\"few\",\"products\",\"very\",\"increase\",\"british\",\"bill\",\"tax\",\"vice\",\"cash\",\"international\",\"during\",\"part\",\"interest\",\"expects\",\"spokesman\",\"think\",\"administration\",\"general\",\"average\",\"day\",\"where\",\"less\",\"sold\",\"income\",\"show\",\"agreement\",\"see\",\"being\",\"plans\",\"'re\",\"senate\",\"early\",\"programs\",\"too\",\"plan\",\"profit\",\"house\",\"fell\",\"bid\",\"including\",\"around\",\"officer\",\"office\",\"september\",\"cut\",\"index\",\"loss\",\"good\",\"treasury\",\"four\",\"period\",\"going\",\"assets\",\"until\",\"strong\",\"august\",\"called\",\"way\",\"her\",\"buying\",\"takeover\",\"without\",\"line\",\"earlier\",\"real\",\"fund\",\"added\",\"results\",\"same\",\"case\",\"foreign\",\"common\",\"washington\",\"traders\",\"dollar\",\"decline\",\"oct.\",\"began\",\"funds\",\"debt\",\"wo\",\"west\",\"oil\",\"dropped\",\"five\",\"far\",\"senior\",\"plunge\",\"airlines\",\"john\",\"whether\",\"former\",\"canada\",\"higher\",\"retail\",\"quantum\",\"network\",\"steel\",\"japan\",\"high\",\"europe\",\"economic\",\"thrift\",\"regulators\",\"chicago\",\"lower\",\"small\",\"according\",\"inc\",\"series\",\"rates\",\"growth\",\"though\",\"analyst\",\"world\",\"product\",\"past\",\"each\",\"makers\",\"sen.\",\"black\",\"october\",\"air\",\"rather\",\"costs\",\"services\",\"bush\",\"bond\",\"fall\",\"already\",\"end\",\"point\",\"concern\",\"right\",\"used\",\"commercial\",\"management\",\"put\",\"whose\",\"further\",\"might\",\"plant\",\"rose\",\"annual\",\"how\",\"pay\",\"issues\",\"via\",\"banks\",\"street\",\"sale\",\"level\",\"offer\",\"addition\",\"production\",\"late\",\"offering\",\"likely\",\"union\",\"work\",\"public\",\"corporate\",\"state\",\"others\",\"little\",\"shows\",\"anc\",\"director\",\"want\",\"based\",\"become\",\"canadian\",\"ended\",\"least\",\"reported\",\"compared\",\"television\",\"networks\",\"comment\",\"give\",\"keep\",\"association\",\"budget\",\"buyers\",\"machines\",\"result\",\"look\",\"current\",\"set\",\"our\",\"fed\",\"total\",\"force\",\"china\",\"stake\",\"savings\",\"advertising\",\"radio\",\"here\",\"free\",\"continue\",\"gm\",\"monday\",\"support\",\"second\",\"trying\",\"my\",\"number\",\"real-estate\",\"committee\",\"received\",\"calls\",\"half\",\"place\",\"move\",\"local\",\"go\",\"suit\",\"although\",\"executives\",\"issue\",\"hong\",\"kong\",\"him\",\"jones\",\"firms\",\"ual\",\"contract\",\"value\",\"problems\",\"robert\",\"latest\",\"maker\",\"texas\",\"fifth\",\"finance\",\"venture\",\"declined\",\"ad\",\"action\",\"systems\",\"saatchi\",\"magazine\",\"loans\",\"congress\",\"inflation\",\"again\",\"s&p\",\"continued\",\"come\",\"sept.\",\"announced\",\"boeing\",\"agency\",\"home\",\"got\",\"expect\",\"employees\",\"workers\",\"times\",\"recently\",\"six\",\"change\",\"previous\",\"rules\",\"party\",\"especially\",\"industrial\",\"james\",\"large\",\"weeks\",\"example\",\"nation\",\"operations\",\"country\",\"increased\",\"agreed\",\"june\",\"purchase\",\"japanese\",\"need\",\"filed\",\"crude\",\"personal\",\"decision\",\"paid\",\"car\",\"following\",\"law\",\"compaq\",\"justin\",\"never\"],\"x\":{\"__ndarray__\":\"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\",\"dtype\":\"float32\",\"shape\":[500]},\"y\":{\"__ndarray__\":\"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\",\"dtype\":\"float32\",\"shape\":[500]}},\"selected\":{\"id\":\"1543\",\"type\":\"Selection\"},\"selection_policy\":{\"id\":\"1544\",\"type\":\"UnionRenderers\"}},\"id\":\"1460\",\"type\":\"ColumnDataSource\"},{\"attributes\":{\"callback\":null,\"data\":{\"w\":[\"the\",\"<unk>\",\"N\",\"of\",\"to\",\"a\",\"in\",\"and\",\"'s\",\"that\",\"for\",\"$\",\"is\",\"it\",\"said\",\"on\",\"by\",\"at\",\"as\",\"from\",\"million\",\"with\",\"mr.\",\"was\",\"be\",\"are\",\"its\",\"he\",\"but\",\"has\",\"an\",\"n't\",\"will\",\"have\",\"new\",\"or\",\"company\",\"they\",\"this\",\"year\",\"which\",\"would\",\"about\",\"says\",\"more\",\"were\",\"market\",\"billion\",\"his\",\"had\",\"their\",\"up\",\"u.s.\",\"one\",\"than\",\"who\",\"some\",\"been\",\"also\",\"stock\",\"other\",\"share\",\"not\",\"we\",\"corp.\",\"if\",\"when\",\"i\",\"last\",\"president\",\"shares\",\"years\",\"all\",\"first\",\"two\",\"because\",\"trading\",\"after\",\"could\",\"inc.\",\"sales\",\"&\",\"there\",\"out\",\"business\",\"only\",\"do\",\"such\",\"can\",\"most\",\"into\",\"york\",\"may\",\"over\",\"co.\",\"group\",\"many\",\"government\",\"now\",\"federal\",\"companies\",\"no\",\"time\",\"bank\",\"so\",\"any\",\"cents\",\"people\",\"quarter\",\"you\",\"exchange\",\"prices\",\"even\",\"what\",\"price\",\"investors\",\"say\",\"down\",\"rose\",\"while\",\"much\",\"yesterday\",\"week\",\"under\",\"securities\",\"months\",\"them\",\"bonds\",\"big\",\"next\",\"interest\",\"three\",\"earlier\",\"'\",\"net\",\"earnings\",\"make\",\"major\",\"state\",\"american\",\"chairman\",\"financial\",\"did\",\"these\",\"investment\",\"board\",\"still\",\"through\",\"stocks\",\"those\",\"chief\",\"just\",\"industry\",\"executive\",\"since\",\"program\",\"before\",\"rate\",\"made\",\"officials\",\"money\",\"national\",\"she\",\"house\",\"analysts\",\"like\",\"unit\",\"month\",\"expected\",\"off\",\"days\",\"rates\",\"japanese\",\"against\",\"does\",\"plan\",\"profit\",\"between\",\"both\",\"capital\",\"recent\",\"sell\",\"buy\",\"income\",\"issue\",\"revenue\",\"general\",\"get\",\"products\",\"markets\",\"firm\",\"back\",\"funds\",\"own\",\"ago\",\"average\",\"international\",\"during\",\"well\",\"her\",\"part\",\"fell\",\"japan\",\"should\",\"another\",\"higher\",\"debt\",\"offer\",\"take\",\"including\",\"among\",\"court\",\"being\",\"according\",\"each\",\"index\",\"tax\",\"trade\",\"world\",\"reported\",\"work\",\"operations\",\"then\",\"past\",\"computer\",\"sale\",\"our\",\"however\",\"way\",\"lower\",\"vice\",\"plans\",\"economic\",\"yield\",\"end\",\"department\",\"report\",\"sold\",\"insurance\",\"high\",\"growth\",\"how\",\"increase\",\"foreign\",\"less\",\"common\",\"closed\",\"several\",\"banks\",\"issues\",\"where\",\"very\",\"loss\",\"pay\",\"yen\",\"bush\",\"bid\",\"five\",\"due\",\"few\",\"bill\",\"used\",\"good\",\"current\",\"management\",\"early\",\"cash\",\"use\",\"oil\",\"costs\",\"bond\",\"day\",\"system\",\"public\",\"director\",\"'re\",\"third\",\"might\",\"law\",\"traders\",\"treasury\",\"friday\",\"added\",\"office\",\"city\",\"congress\",\"concern\",\"futures\",\"far\",\"officer\",\"late\",\"fund\",\"already\",\"number\",\"assets\",\"least\",\"california\",\"operating\",\"spokesman\",\"him\",\"small\",\"agency\",\"british\",\"based\",\"too\",\"san\",\"case\",\"real\",\"news\",\"value\",\"september\",\"same\",\"oct.\",\"until\",\"contract\",\"think\",\"research\",\"close\",\"street\",\"home\",\"stake\",\"union\",\"services\",\"going\",\"today\",\"little\",\"ended\",\"though\",\"move\",\"wall\",\"agreement\",\"dollar\",\"help\",\"second\",\"put\",\"service\",\"former\",\"power\",\"maker\",\"period\",\"called\",\"results\",\"total\",\"agreed\",\"administration\",\"four\",\"here\",\"third-quarter\",\"without\",\"long\",\"control\",\"corporate\",\"economy\",\"credit\",\"problems\",\"offering\",\"country\",\"want\",\"production\",\"cost\",\"buying\",\"loans\",\"six\",\"analyst\",\"firms\",\"although\",\"annual\",\"whether\",\"increased\",\"likely\",\"compared\",\"recently\",\"point\",\"committee\",\"policy\",\"notes\",\"cut\",\"see\",\"west\",\"large\",\"monday\",\"right\",\"soviet\",\"continue\",\"go\",\"around\",\"set\",\"half\",\"political\",\"life\",\"further\",\"losses\",\"old\",\"points\",\"volume\",\"yet\",\"august\",\"paper\",\"selling\",\"john\",\"plant\",\"judge\",\"strong\",\"must\",\"expects\",\"my\",\"nov.\",\"ual\",\"london\",\"result\",\"announced\",\"largest\",\"declined\",\"support\",\"held\",\"fiscal\",\"systems\",\"wo\",\"francisco\",\"times\",\"weeks\",\"takeover\",\"making\",\"priced\",\"certain\",\"earthquake\",\"workers\",\"become\",\"composite\",\"change\",\"gain\",\"problem\",\"come\",\"businesses\",\"south\",\"demand\",\"industrial\",\"give\",\"record\",\"nearly\",\"senior\",\"association\",\"development\",\"white\",\"series\",\"inc\",\"dow\",\"area\",\"members\",\"took\",\"estimated\",\"data\",\"air\",\"official\",\"orders\",\"employees\",\"trust\",\"estate\",\"jones\",\"decline\",\"level\",\"show\",\"senate\",\"line\",\"later\",\"latest\",\"health\",\"example\",\"acquisition\",\"drop\",\"comment\",\"junk\",\"tuesday\",\"meeting\",\"commission\",\"holding\",\"commercial\",\"know\",\"need\",\"ford\",\"texas\",\"building\",\"your\",\"chicago\",\"despite\",\"ms.\",\"currently\",\"addition\",\"paid\",\"proposal\",\"executives\",\"offered\",\"possible\",\"others\",\"once\",\"proposed\",\"purchase\",\"rise\",\"deal\",\"better\"],\"x\":{\"__ndarray__\":\"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\",\"dtype\":\"float32\",\"shape\":[500]},\"y\":{\"__ndarray__\":\"k+ZQwtT3U8IXXU3CENRQwk+STcKhoU/C0thOwpZoUMJTck/CAKBIwtY2S8LX7EXCLZdDwqo6QcJ1H0PC6ahFwsAXRMIw0kbCXfVIwjq5ScIJdS3CusdLwo69M8KxsjPCn2A3wmBZQMLttEDC7hAzwiClKcI7pzTCYYs/wkkaL8J64TfCZRo6wlcQNcIhAzfCzwcswkYPFMLtxgrCXsMlwstwNsK2bjnCTiokwu9GLsLkRTvCIZEmwuPsEcKSNRnC3Ws5wrGGJMJ9TznCamk8wlx4JcLV1TrCaL0dwhUlI8K/l6fBzSkvws2nAsJ9kw3CfQgYwn1IA0EDgRTCLtZcwQ+CEcKdqZ3BjbnvwZ2ewcA7zNPBIs0pwlUX3MHgshXCPs4Kwn2KDcJvWyHCg3wpwopF6MG2dNHBMfmxwZ+CIcKVMdHBvsQZwohJA8JWzqrBydXGwTKXlcFDFmLBEJYiwt0exsEQ3dLAwlsSwiRPDUE3gqLBZHLpwSo96sHdFAPCrUcOwUvT9MGndHzAJCOswUXTpsHnJc8+MmsnQPIRFMIV4ZbB7U2AwQukWkFgtd/BXxzWQRoZhUBQ6DfBNaQcwquDxMF+7bHBfKcQwkUtzMFvsmxAhvsJwd9TcUGjh7fAWYvzwRI0H8KftRVBD4XMwemlxcFAtpvBx6Yawoum6MAkB1tApH/dwXd1V8HtQFjB9MxKv5P2AcKV4cbBVlngwZJjnME2pL3BxsCgwT6kK8E4v/nBkR7ZwB9Fj0DAC7PAFAIfwp4ukj/iAtLAETDiwbdhFMFtvOnBuBDFwAQfjsC+apPBWG5xwfOulMDtiOXB4eDKwJ6IiEHrk+/B/phwwTVGi8FBwATABWi/wY0l3MAk3x9CnRVQwGz6hMGbEZhADf6gQWEaY8GrzInBZYxRv9C5FMBa7ALCaYk6QG5LBcL/k4ZBGS6swb1CcUEQTp7B7mSRQRl66UBqjs9AMvAHwkeUnMEIp7xBLHzJQAV/mMAwmPLAVvAHwjfzpMAwP2pAtowVQeIELUB7dOdBFZBjQWmi6MH5fOjArffIwCKlUMDnq1jBroakQSz4lz7wazDBNvQwwVMu+EFH99PBVfcxQPyDecEFLW/BYalVwYKVGUBvOgdBm90HwVMlrEGM1upBqhAWwNzKv0FG2wrC5E3eQXWEhcHOK0q/mhkGwkVQ08Bb2UdBpM27QWuDwUDMvCBC3hCWQWkOk0Ede2HBTOF3wZj8s8EGKu7AyYaWQUCUqEGuRbJATKzZQYHJ9UDqWnXBTZmPwc6+kj9XqsNB5N/sv55uCEGpNYJBOc7ywAZ1o0Ekh15BzX4CwQYCYUDchJfBuFYRQnB580EmmtZB0YG4QQTb00Bq4t1BJA0rQeyR2cGhAyBB7oKxv2PruUHybqVB4P63wVHet0H4rd1B4L26wB7/gkEvpzDAmxwQQs2beUAoN/ZAaTtRQVOCSEF16DFBwxwKQl/E3kHBUHhBVREtQqN2GUIiFwxCpDTvQUHfmUBErAzCJEy8Qey6D8FSiNtBaFUJQepTJEJ0KSXBzxLWQYhMgEFgoQFCmeG9wYT+5T8Fg0TBoh2xQQW31EHCsA5BicJRQXTxb0FC7QdCiJMEwgQk/EE1G2E8GV2KQXY77UGyVKU/fMb8QTnl50FDIh1CVjpEwdYdH0GZUBxBchILQst9oEHQnCNCnyy4P5sOksE8KUBBrYmKwQveusF5fsA/7JYPwkSKt0FpfQlCv/y1QUFqDUKEmyJCy9hfQTZuF0HcAGpBrh4HQgFiYkElxO/A+6yFwT4048GEH61BaSX6Qcnb9cDC+YBBUy4lQoWwgMHYYSZCV9MPQu15lsFh4pdAqfejQWas/UGPXgbCKuIQQjqSKkGzyQRCUsEzQf+CzMFyylZBQNEyQiJ2zEFQxPFATe0iQs2k5EHW5ypCcEY8QYANIEKYHDBClMaXQSF5wkF9HSNCGCGAwJwPFkJu2VRBlUspQhxchsGqvDnBSvwfQl9cuMHBG9RA6XaevwZx1EHfgPvBqGXhQHFeD0A5gilCSA8xQnuvhcF0Ub5BeArYQQGYc0F5oRnBpSAdQUpsW0Gt+QBCNT8QQm0HCUIVGAVCDamwQaE8CULVwy1C5wMVQjFRkkF58CZCUSNLQf2jrUG8ER1CG7UNQuVRi0Eq9ZhB/tQAwWqdMUKOExNCQU/0QW2x7MBMveBB+QQjQtfFK0IJxIFB2pDQQYY7ykHvoiVC+I4wQgnYG0GgFgZCvrwEQnn1BEJx/xJCtCvsQFMjCEIEyzhC6bseQL+OdkFfw5w/C+ILQv3+B0I21IpBBamqQTEHzUEd5i5CkPMpQkw9zUF92itCggocQp7iFkESQS5Bbg2tQWmlIsIOlylC/DkXQohmaUGQ9iVBxdcDQgWamEE+mh1CXVQzQXuIHUJiRKdB2R8rQmCOnkF0FwtCh27zQbbAGEJmy+lB8FvaQVB3J0LXExNCE0c3QjWekkHMHjZCUk8aQnRRM0IW9wFBMYECQgpooUGlnaJB7YwaQoRcsUFEKzxB7+k1Qs3ly0EDpEY/FcO9QJfSJUJn6tFBFHizQaXyM0L3TTRCiFYfQmUAOUIQ6rVBNvoDQZDIMUJN4wxCIG4aQsRjKEJjquhBB6PLQd5B9kF9WSFCpMcoQggKMEI=\",\"dtype\":\"float32\",\"shape\":[500]}},\"selected\":{\"id\":\"1521\",\"type\":\"Selection\"},\"selection_policy\":{\"id\":\"1522\",\"type\":\"UnionRenderers\"}},\"id\":\"1459\",\"type\":\"ColumnDataSource\"},{\"attributes\":{\"formatter\":{\"id\":\"1504\",\"type\":\"BasicTickFormatter\"},\"plot\":{\"id\":\"1463\",\"subtype\":\"Figure\",\"type\":\"Plot\"},\"ticker\":{\"id\":\"1474\",\"type\":\"BasicTicker\"}},\"id\":\"1473\",\"type\":\"LinearAxis\"},{\"attributes\":{},\"id\":\"1504\",\"type\":\"BasicTickFormatter\"},{\"attributes\":{},\"id\":\"1474\",\"type\":\"BasicTicker\"},{\"attributes\":{},\"id\":\"1506\",\"type\":\"BasicTickFormatter\"},{\"attributes\":{\"plot\":{\"id\":\"1463\",\"subtype\":\"Figure\",\"type\":\"Plot\"},\"ticker\":{\"id\":\"1474\",\"type\":\"BasicTicker\"}},\"id\":\"1477\",\"type\":\"Grid\"},{\"attributes\":{\"items\":[{\"id\":\"1510\",\"type\":\"LegendItem\"},{\"id\":\"1524\",\"type\":\"LegendItem\"}],\"plot\":{\"id\":\"1463\",\"subtype\":\"Figure\",\"type\":\"Plot\"}},\"id\":\"1509\",\"type\":\"Legend\"},{\"attributes\":{\"formatter\":{\"id\":\"1506\",\"type\":\"BasicTickFormatter\"},\"plot\":{\"id\":\"1463\",\"subtype\":\"Figure\",\"type\":\"Plot\"},\"ticker\":{\"id\":\"1479\",\"type\":\"BasicTicker\"}},\"id\":\"1478\",\"type\":\"LinearAxis\"},{\"attributes\":{\"label\":{\"value\":\"train\"},\"renderers\":[{\"id\":\"1501\",\"type\":\"GlyphRenderer\"}]},\"id\":\"1510\",\"type\":\"LegendItem\"},{\"attributes\":{},\"id\":\"1479\",\"type\":\"BasicTicker\"},{\"attributes\":{\"dimension\":1,\"plot\":{\"id\":\"1463\",\"subtype\":\"Figure\",\"type\":\"Plot\"},\"ticker\":{\"id\":\"1479\",\"type\":\"BasicTicker\"}},\"id\":\"1482\",\"type\":\"Grid\"},{\"attributes\":{\"fill_alpha\":{\"value\":0.7},\"fill_color\":{\"value\":\"orange\"},\"line_alpha\":{\"value\":0.7},\"line_color\":{\"value\":\"orange\"},\"x\":{\"field\":\"x\"},\"y\":{\"field\":\"y\"}},\"id\":\"1512\",\"type\":\"Scatter\"},{\"attributes\":{\"fill_alpha\":{\"value\":0.1},\"fill_color\":{\"value\":\"#1f77b4\"},\"line_alpha\":{\"value\":0.1},\"line_color\":{\"value\":\"#1f77b4\"},\"x\":{\"field\":\"x\"},\"y\":{\"field\":\"y\"}},\"id\":\"1513\",\"type\":\"Scatter\"},{\"attributes\":{\"fill_alpha\":{\"value\":0.7},\"fill_color\":{\"value\":\"blue\"},\"line_alpha\":{\"value\":0.7},\"line_color\":{\"value\":\"blue\"},\"x\":{\"field\":\"x\"},\"y\":{\"field\":\"y\"}},\"id\":\"1499\",\"type\":\"Scatter\"},{\"attributes\":{\"data_source\":{\"id\":\"1460\",\"type\":\"ColumnDataSource\"},\"glyph\":{\"id\":\"1512\",\"type\":\"Scatter\"},\"hover_glyph\":null,\"muted_glyph\":null,\"name\":\"test\",\"nonselection_glyph\":{\"id\":\"1513\",\"type\":\"Scatter\"},\"selection_glyph\":null,\"view\":{\"id\":\"1515\",\"type\":\"CDSView\"}},\"id\":\"1514\",\"type\":\"GlyphRenderer\"}],\"root_ids\":[\"1463\"]},\"title\":\"Bokeh Application\",\"version\":\"1.0.2\"}};\n",
              "  var render_items = [{\"docid\":\"4a40162f-85d6-4d5a-872c-109b39195d78\",\"roots\":{\"1463\":\"4cd9b5ab-a901-4213-b5f6-4321c169d589\"}}];\n",
              "  root.Bokeh.embed.embed_items_notebook(docs_json, render_items);\n",
              "\n",
              "  }\n",
              "  if (root.Bokeh !== undefined) {\n",
              "    embed_document(root);\n",
              "  } else {\n",
              "    var attempts = 0;\n",
              "    var timer = setInterval(function(root) {\n",
              "      if (root.Bokeh !== undefined) {\n",
              "        embed_document(root);\n",
              "        clearInterval(timer);\n",
              "      }\n",
              "      attempts++;\n",
              "      if (attempts > 100) {\n",
              "        console.log(\"Bokeh: ERROR: Unable to run BokehJS code because BokehJS library is missing\");\n",
              "        clearInterval(timer);\n",
              "      }\n",
              "    }, 10, root)\n",
              "  }\n",
              "})(window);"
            ],
            "application/vnd.bokehjs_exec.v0+json": ""
          },
          "metadata": {
            "tags": [],
            "application/vnd.bokehjs_exec.v0+json": {
              "id": "1463"
            }
          }
        }
      ]
    },
    {
      "metadata": {
        "id": "6o6SaoI9hSq4",
        "colab_type": "code",
        "colab": {}
      },
      "cell_type": "code",
      "source": [
        ""
      ],
      "execution_count": 0,
      "outputs": []
    },
    {
      "metadata": {
        "id": "tv3eFEge-6Xq",
        "colab_type": "code",
        "outputId": "aaba470a-6c3d-4282-9aae-b63a51493bdc",
        "colab": {
          "base_uri": "https://localhost:8080/",
          "height": 50
        }
      },
      "cell_type": "code",
      "source": [
        "# pick random sentence and convert it to idx\n",
        "idx2word = preprocess_train.idx2word\n",
        "random_sentence = np.random.choice(np.array(preprocess_test.sentences), size=1)[0]\n",
        "print(\" \".join(random_sentence))\n",
        "random_sentence = [preprocess_train.word2idx[w] for w in random_sentence]\n",
        "\n",
        "# get network to predict context from a center\n",
        "\n",
        "random_center = np.random.randint(low=0, high=len(random_sentence), size=1)[0]\n",
        "print(\"Random center at {} being the word '{}'\".format(random_center, idx2word[random_sentence[random_center]]))\n",
        "\n"
      ],
      "execution_count": 0,
      "outputs": [
        {
          "output_type": "stream",
          "text": [
            "gm said it still is talking with jaguar about acquiring a minority\n",
            "Random center at 11 being the word 'minority'\n"
          ],
          "name": "stdout"
        }
      ]
    },
    {
      "metadata": {
        "id": "TzLqOMJ-h7qS",
        "colab_type": "code",
        "colab": {}
      },
      "cell_type": "code",
      "source": [
        "data = preprocess_train.skipgram(sentence=random_sentence, i=random_center)"
      ],
      "execution_count": 0,
      "outputs": []
    },
    {
      "metadata": {
        "id": "Zr52BFlWLSr1",
        "colab_type": "code",
        "outputId": "ae772dbe-cad1-4eb3-eb5f-1d80284f31c1",
        "colab": {
          "base_uri": "https://localhost:8080/",
          "height": 50
        }
      },
      "cell_type": "code",
      "source": [
        "torch.LongTensor(data[0])"
      ],
      "execution_count": 0,
      "outputs": [
        {
          "output_type": "execute_result",
          "data": {
            "text/plain": [
              "tensor([      171360256,               0,        10910368,  ...,\n",
              "        140287360429448, 140289211779368, 140287360431536])"
            ]
          },
          "metadata": {
            "tags": []
          },
          "execution_count": 61
        }
      ]
    },
    {
      "metadata": {
        "id": "LuVKCRcGjA-K",
        "colab_type": "code",
        "colab": {}
      },
      "cell_type": "code",
      "source": [
        " center, contexts = preprocess_train.skipgram(sentence=random_sentence, i=random_center)\n",
        "# (word2idx[center], np.array([word2idx[context] for context in contexts]))\n",
        "contexts = np.array([word2idx[context] if isinstance(context, str) else context for context in contexts])\n",
        "\n",
        "center = torch.tensor(center).long().cuda()\n",
        "contexts = torch.tensor(contexts).long().cuda()\n",
        "\n",
        "center_vec = net.in_embedding(center)\n",
        "contexts_vec = net.out_embedding(contexts)\n"
      ],
      "execution_count": 0,
      "outputs": []
    },
    {
      "metadata": {
        "id": "HXtZZQP3jCOp",
        "colab_type": "code",
        "outputId": "82f190de-3a21-4fed-d567-7f364b38ca76",
        "colab": {
          "base_uri": "https://localhost:8080/",
          "height": 178
        }
      },
      "cell_type": "code",
      "source": [
        "# output = torch.bmm(context_vectors, center_vectors).squeeze()\n",
        "# output = torch.exp(output)/torch.sum(output\n",
        "\n",
        "torch.bmm(contexts_vec, center_vec.unsqueeze(1))"
      ],
      "execution_count": 0,
      "outputs": [
        {
          "output_type": "error",
          "ename": "RuntimeError",
          "evalue": "ignored",
          "traceback": [
            "\u001b[0;31m---------------------------------------------------------------------------\u001b[0m",
            "\u001b[0;31mRuntimeError\u001b[0m                              Traceback (most recent call last)",
            "\u001b[0;32m<ipython-input-100-ffe49623014b>\u001b[0m in \u001b[0;36m<module>\u001b[0;34m()\u001b[0m\n\u001b[1;32m      1\u001b[0m \u001b[0;34m\u001b[0m\u001b[0m\n\u001b[0;32m----> 2\u001b[0;31m \u001b[0mtorch\u001b[0m\u001b[0;34m.\u001b[0m\u001b[0mbmm\u001b[0m\u001b[0;34m(\u001b[0m\u001b[0mcontexts_vec\u001b[0m\u001b[0;34m,\u001b[0m \u001b[0mcenter_vec\u001b[0m\u001b[0;34m.\u001b[0m\u001b[0munsqueeze\u001b[0m\u001b[0;34m(\u001b[0m\u001b[0;36m1\u001b[0m\u001b[0;34m)\u001b[0m\u001b[0;34m)\u001b[0m\u001b[0;34m\u001b[0m\u001b[0;34m\u001b[0m\u001b[0m\n\u001b[0m",
            "\u001b[0;31mRuntimeError\u001b[0m: Dimension out of range (expected to be in range of [-2, 1], but got 2)"
          ]
        }
      ]
    }
  ]
}