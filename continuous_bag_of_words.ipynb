{
 "cells": [
  {
   "cell_type": "code",
   "execution_count": 1,
   "metadata": {},
   "outputs": [],
   "source": [
    "seed = 42\n",
    "import numpy as np\n",
    "np.random.seed(seed)\n",
    "import torch\n",
    "import torch.nn as nn\n",
    "import torch.nn.functional as F\n",
    "import torch.optim as optim\n",
    "torch.manual_seed(seed)\n",
    "from sklearn.metrics import accuracy_score\n",
    "import matplotlib.pyplot as plt"
   ]
  },
  {
   "cell_type": "markdown",
   "metadata": {},
   "source": [
    "# Data loading\n",
    "The Penn Treebank datafiles are given in the urls below, where we have three different datasets: train, validation and test. Data was downloaded from [train](https://raw.githubusercontent.com/wojzaremba/lstm/master/data/ptb.train.txt), [validation](https://raw.githubusercontent.com/wojzaremba/lstm/master/data/ptb.valid.txt) and [test](https://raw.githubusercontent.com/wojzaremba/lstm/master/data/ptb.test.txt). "
   ]
  },
  {
   "cell_type": "code",
   "execution_count": 2,
   "metadata": {
    "collapsed": true
   },
   "outputs": [],
   "source": [
    "def load_corpus(path): \n",
    "    corpus = []\n",
    "    with open(path, 'r') as infile: \n",
    "        for line in infile: \n",
    "            line = line[:-1].split()\n",
    "            corpus.append(line)\n",
    "    return corpus"
   ]
  },
  {
   "cell_type": "code",
   "execution_count": 3,
   "metadata": {
    "collapsed": true
   },
   "outputs": [],
   "source": [
    "# Make corpus\n",
    "def corpus_counts(path, verbose=False): \n",
    "    # Open training file \n",
    "    corpus = load_corpus(path=path)\n",
    "\n",
    "    # Count occurrences\n",
    "    unique, counts = np.unique(np.array([item for sublist in corpus for item in sublist]), return_counts=True)\n",
    "    corpus_counts = dict(zip(unique, counts))\n",
    "    \n",
    "    if verbose: \n",
    "        for v, k in sorted(zip(counts, unique), reverse=True): \n",
    "            print('Key is \"{0}\" with count {1}'.format(k, v))\n",
    "    \n",
    "    # Build vocabulary\n",
    "    vocab_size = len(corpus_counts)\n",
    "    word_to_idx = {word: i+1 for i, word in enumerate(corpus_counts.keys())}\n",
    "    word_to_idx['padding'] = 0\n",
    "    \n",
    "    return corpus, corpus_counts, word_to_idx"
   ]
  },
  {
   "cell_type": "markdown",
   "metadata": {
    "collapsed": true
   },
   "source": [
    "## Data loader"
   ]
  },
  {
   "cell_type": "code",
   "execution_count": 4,
   "metadata": {
    "collapsed": true
   },
   "outputs": [],
   "source": [
    "# Function to make context pairs\n",
    "def make_context_pairs(data, word_to_idx, window_size=2): \n",
    "    # Run through each sample\n",
    "    word_data = []\n",
    "    for line in data: \n",
    "        # Add padding corresponding to the size of the window on either side\n",
    "        padding = ['padding']*window_size\n",
    "        line = padding+line+padding\n",
    "        \n",
    "        # Make contexts\n",
    "        for i in range(window_size, len(line) - window_size):\n",
    "            context, c = [], -window_size\n",
    "            while c <= window_size:\n",
    "                if c != 0: \n",
    "                    context.append(line[i+c])\n",
    "                c += 1\n",
    "            word_data.append((context, line[i]))\n",
    "    \n",
    "    return word_data"
   ]
  },
  {
   "cell_type": "markdown",
   "metadata": {},
   "source": [
    "## Load data"
   ]
  },
  {
   "cell_type": "code",
   "execution_count": 5,
   "metadata": {
    "collapsed": true
   },
   "outputs": [],
   "source": [
    "# Make corpus\n",
    "train, train_counts, word_to_idx = corpus_counts(path='data/ptb.train.txt', verbose=False)"
   ]
  },
  {
   "cell_type": "code",
   "execution_count": 6,
   "metadata": {
    "collapsed": true
   },
   "outputs": [],
   "source": [
    "# Set window size \n",
    "ws = 2"
   ]
  },
  {
   "cell_type": "code",
   "execution_count": 7,
   "metadata": {
    "collapsed": true
   },
   "outputs": [],
   "source": [
    "# Load training data\n",
    "#words, word_to_idx = data_loader(path='data/ptb.train.txt', window_size=2)\n",
    "train_words = make_context_pairs(data=train, word_to_idx=word_to_idx, window_size=ws)"
   ]
  },
  {
   "cell_type": "code",
   "execution_count": 8,
   "metadata": {},
   "outputs": [
    {
     "name": "stdout",
     "output_type": "stream",
     "text": [
      "887521\n",
      "['padding', 'padding', 'banknote', 'berlitz'] aer\n",
      "['padding', 'aer', 'berlitz', 'calloway'] banknote\n",
      "['aer', 'banknote', 'calloway', 'centrust'] berlitz\n",
      "['banknote', 'berlitz', 'centrust', 'cluett'] calloway\n",
      "['berlitz', 'calloway', 'cluett', 'fromstein'] centrust\n",
      "['calloway', 'centrust', 'fromstein', 'gitano'] cluett\n",
      "['centrust', 'cluett', 'gitano', 'guterman'] fromstein\n",
      "['cluett', 'fromstein', 'guterman', 'hydro-quebec'] gitano\n",
      "['fromstein', 'gitano', 'hydro-quebec', 'ipo'] guterman\n",
      "['gitano', 'guterman', 'ipo', 'kia'] hydro-quebec\n"
     ]
    }
   ],
   "source": [
    "# Check word contexts\n",
    "word_sum = len(train_words)\n",
    "print(word_sum)\n",
    "for context, word in train_words[:10]: \n",
    "    #s, t = context_pair\n",
    "    #print(s, t)\n",
    "    print(context, word)"
   ]
  },
  {
   "cell_type": "code",
   "execution_count": 9,
   "metadata": {
    "collapsed": true
   },
   "outputs": [],
   "source": [
    "# Load validation data\n",
    "valid = load_corpus(path='data/ptb.valid.txt')\n",
    "valid_words = make_context_pairs(data=valid, word_to_idx=word_to_idx, window_size=ws)"
   ]
  },
  {
   "cell_type": "markdown",
   "metadata": {},
   "source": [
    "After data has been loaded it is good to check what is looks like. "
   ]
  },
  {
   "cell_type": "code",
   "execution_count": 10,
   "metadata": {},
   "outputs": [
    {
     "name": "stdout",
     "output_type": "stream",
     "text": [
      "Number of training samples:\t 887521\n",
      "Number of validation samples:\t 70390\n"
     ]
    }
   ],
   "source": [
    "print('Number of training samples:\\t', len(train_words))\n",
    "print('Number of validation samples:\\t', len(valid_words))"
   ]
  },
  {
   "cell_type": "markdown",
   "metadata": {
    "collapsed": true
   },
   "source": [
    "# CBOW class"
   ]
  },
  {
   "cell_type": "code",
   "execution_count": 11,
   "metadata": {
    "collapsed": true
   },
   "outputs": [],
   "source": [
    "class cbow(nn.Module):\n",
    "\n",
    "    def __init__(self, vocab_size, embedding_dim, window_size):\n",
    "        super(cbow, self).__init__()\n",
    "        # num_embeddings is the number of words in your train, val and test set\n",
    "        # embedding_dim is the dimension of the word vectors you are using\n",
    "        self.embeddings = nn.Embedding(num_embeddings=vocab_size, embedding_dim=embedding_dim, \n",
    "                                      padding_idx=0)\n",
    "        self.linear1 = nn.Linear(in_features=window_size * embedding_dim, out_features=128, bias=True)\n",
    "        self.linear2 = nn.Linear(in_features=128, out_features=vocab_size, bias=False)\n",
    "\n",
    "    def forward(self, inputs):\n",
    "        embeds = self.embeddings(inputs)#.view((1, -1))\n",
    "        #print(embeds.shape, embeds.view((-1, 4)).shape)\n",
    "        out = F.relu(self.linear1(embeds.view((-1, 4))))\n",
    "        out = self.linear2(out)\n",
    "        probs = F.softmax(out, dim=1)\n",
    "        return probs"
   ]
  },
  {
   "cell_type": "markdown",
   "metadata": {
    "collapsed": true
   },
   "source": [
    "# Model training"
   ]
  },
  {
   "cell_type": "code",
   "execution_count": 12,
   "metadata": {},
   "outputs": [],
   "source": [
    "# Set loss, model and optimizer\n",
    "loss_function = nn.CrossEntropyLoss()\n",
    "model = cbow(vocab_size=len(train_counts), embedding_dim=1, window_size=ws*2)\n",
    "optimizer = optim.Adam(model.parameters(), lr=0.01)"
   ]
  },
  {
   "cell_type": "code",
   "execution_count": 13,
   "metadata": {},
   "outputs": [
    {
     "data": {
      "text/plain": [
       "cbow(\n",
       "  (embeddings): Embedding(9999, 1, padding_idx=0)\n",
       "  (linear1): Linear(in_features=4, out_features=128, bias=True)\n",
       "  (linear2): Linear(in_features=128, out_features=9999, bias=False)\n",
       ")"
      ]
     },
     "execution_count": 13,
     "metadata": {},
     "output_type": "execute_result"
    }
   ],
   "source": [
    "# Look at loaded model\n",
    "model"
   ]
  },
  {
   "cell_type": "code",
   "execution_count": 14,
   "metadata": {
    "collapsed": true
   },
   "outputs": [],
   "source": [
    "# Get batch slice\n",
    "def get_batch(batch_size, i):\n",
    "    start_idx = i*batch_size\n",
    "    end_idx = (i+1)*batch_size\n",
    "    return start_idx, end_idx\n",
    "\n",
    "def batch_to_context(batch, word_to_idx): \n",
    "    x_batch, y_batch =  [], []\n",
    "    \n",
    "    # Run through samples\n",
    "    for context, target in batch: \n",
    "        x = [word_to_idx[w] for w in context]\n",
    "        y = word_to_idx[target]\n",
    "        \n",
    "        # Append idx words to batch\n",
    "        x_batch.append(x)\n",
    "        y_batch.append(y)\n",
    "    \n",
    "    # Make tensors\n",
    "    x_batch = torch.tensor(x_batch, dtype=torch.long)\n",
    "    y_batch = torch.tensor(y_batch, dtype=torch.long)\n",
    "    return x_batch, y_batch"
   ]
  },
  {
   "cell_type": "code",
   "execution_count": 15,
   "metadata": {
    "scrolled": false
   },
   "outputs": [
    {
     "name": "stdout",
     "output_type": "stream",
     "text": [
      "100 10\n",
      "# Epoch 1/100\n",
      "Epoch  1 : Train Loss 915.467948 , Train acc 0.084800, Valid acc 0.062000\n",
      "\n",
      "# Epoch 2/100\n",
      "# Epoch 3/100\n",
      "# Epoch 4/100\n",
      "# Epoch 5/100\n",
      "# Epoch 6/100\n",
      "# Epoch 7/100\n",
      "# Epoch 8/100\n",
      "# Epoch 9/100\n",
      "# Epoch 10/100\n",
      "# Epoch 11/100\n",
      "Epoch 11 : Train Loss 909.889378 , Train acc 0.111400, Valid acc 0.068000\n",
      "\n",
      "# Epoch 12/100\n",
      "# Epoch 13/100\n",
      "# Epoch 14/100\n",
      "# Epoch 15/100\n",
      "# Epoch 16/100\n",
      "# Epoch 17/100\n",
      "# Epoch 18/100\n",
      "# Epoch 19/100\n",
      "# Epoch 20/100\n",
      "# Epoch 21/100\n",
      "Epoch 21 : Train Loss 909.470689 , Train acc 0.116500, Valid acc 0.072000\n",
      "\n",
      "# Epoch 22/100\n",
      "# Epoch 23/100\n",
      "# Epoch 24/100\n",
      "# Epoch 25/100\n",
      "# Epoch 26/100\n",
      "# Epoch 27/100\n",
      "# Epoch 28/100\n",
      "# Epoch 29/100\n",
      "# Epoch 30/100\n",
      "# Epoch 31/100\n",
      "Epoch 31 : Train Loss 909.270439 , Train acc 0.119400, Valid acc 0.069000\n",
      "\n",
      "# Epoch 32/100\n",
      "# Epoch 33/100\n",
      "# Epoch 34/100\n",
      "# Epoch 35/100\n",
      "# Epoch 36/100\n",
      "# Epoch 37/100\n",
      "# Epoch 38/100\n",
      "# Epoch 39/100\n",
      "# Epoch 40/100\n",
      "# Epoch 41/100\n",
      "Epoch 41 : Train Loss 908.999794 , Train acc 0.120900, Valid acc 0.072000\n",
      "\n",
      "# Epoch 42/100\n",
      "# Epoch 43/100\n",
      "# Epoch 44/100\n",
      "# Epoch 45/100\n",
      "# Epoch 46/100\n",
      "# Epoch 47/100\n",
      "# Epoch 48/100\n",
      "# Epoch 49/100\n",
      "# Epoch 50/100\n",
      "# Epoch 51/100\n",
      "Epoch 51 : Train Loss 909.199734 , Train acc 0.119400, Valid acc 0.070000\n",
      "\n",
      "# Epoch 52/100\n",
      "# Epoch 53/100\n",
      "# Epoch 54/100\n",
      "# Epoch 55/100\n",
      "# Epoch 56/100\n",
      "# Epoch 57/100\n",
      "# Epoch 58/100\n",
      "# Epoch 59/100\n",
      "# Epoch 60/100\n",
      "# Epoch 61/100\n",
      "Epoch 61 : Train Loss 908.851683 , Train acc 0.122000, Valid acc 0.077000\n",
      "\n",
      "# Epoch 62/100\n",
      "# Epoch 63/100\n",
      "# Epoch 64/100\n",
      "# Epoch 65/100\n",
      "# Epoch 66/100\n",
      "# Epoch 67/100\n",
      "# Epoch 68/100\n",
      "# Epoch 69/100\n",
      "# Epoch 70/100\n",
      "# Epoch 71/100\n",
      "Epoch 71 : Train Loss 908.832984 , Train acc 0.122100, Valid acc 0.074000\n",
      "\n",
      "# Epoch 72/100\n",
      "# Epoch 73/100\n",
      "# Epoch 74/100\n",
      "# Epoch 75/100\n",
      "# Epoch 76/100\n",
      "# Epoch 77/100\n",
      "# Epoch 78/100\n",
      "# Epoch 79/100\n",
      "# Epoch 80/100\n",
      "# Epoch 81/100\n",
      "Epoch 81 : Train Loss 908.832984 , Train acc 0.122100, Valid acc 0.074000\n",
      "\n",
      "# Epoch 82/100\n",
      "# Epoch 83/100\n",
      "# Epoch 84/100\n",
      "# Epoch 85/100\n",
      "# Epoch 86/100\n",
      "# Epoch 87/100\n",
      "# Epoch 88/100\n",
      "# Epoch 89/100\n",
      "# Epoch 90/100\n",
      "# Epoch 91/100\n",
      "Epoch 91 : Train Loss 909.071807 , Train acc 0.120700, Valid acc 0.074000\n",
      "\n",
      "# Epoch 92/100\n",
      "# Epoch 93/100\n",
      "# Epoch 94/100\n",
      "# Epoch 95/100\n",
      "# Epoch 96/100\n",
      "# Epoch 97/100\n",
      "# Epoch 98/100\n",
      "# Epoch 99/100\n",
      "# Epoch 100/100\n"
     ]
    }
   ],
   "source": [
    "losses = []\n",
    "train_acc, train_loss = [], []\n",
    "valid_acc, valid_loss = [], []\n",
    "\n",
    "max_epochs = 100\n",
    "batch_size = 100\n",
    "train_sample = train_words[:10000]\n",
    "valid_sample = valid_words[:1000]\n",
    "\n",
    "#n_train_batches = len(train_words) // batch_size\n",
    "n_train_batches = len(train_sample) // batch_size\n",
    "#n_valid_batches = len(valid_words) // batch_size\n",
    "n_valid_batches = len(valid_sample) // batch_size\n",
    "print(n_train_batches, n_valid_batches)\n",
    "\n",
    "# Run through epochs\n",
    "for epoch in range(max_epochs):\n",
    "    print('# Epoch {0}/{1}'.format(epoch+1, max_epochs))\n",
    "    \n",
    "    ### Train ###\n",
    "    # Shuffle training data\n",
    "    #shuffled = train_words.copy()\n",
    "    shuffled = train_sample.copy()\n",
    "    np.random.RandomState(seed=seed).shuffle(shuffled)\n",
    "    \n",
    "    # Iterate mini batches\n",
    "    current_loss = 0\n",
    "    model.train()\n",
    "    for i in range(n_train_batches): \n",
    "        start_idx, end_idx = get_batch(batch_size=batch_size, i=i)\n",
    "        batch = shuffled[start_idx:end_idx]\n",
    "        \n",
    "        # Step 1. Turn words to indices and wrap in tensors\n",
    "        x_batch, y_batch = batch_to_context(batch=batch, word_to_idx=word_to_idx)\n",
    "\n",
    "        # Step 2. Recall that torch *accumulates* gradients. Before passing in a\n",
    "        # new instance, you need to zero out the gradients from the old instance\n",
    "        model.zero_grad()\n",
    "\n",
    "        # Step 3. Run the forward pass, getting probabilities over next words\n",
    "        probs = model(x_batch)\n",
    "\n",
    "        # Step 4. Compute your loss function.\n",
    "        loss = loss_function(probs, y_batch)\n",
    "\n",
    "        # Step 5. Do the backward pass and update the gradient\n",
    "        loss.backward()\n",
    "        optimizer.step()\n",
    "\n",
    "        # Get the Python number from a 1-element Tensor by calling tensor.item()\n",
    "        current_loss += loss.item()  \n",
    "    losses.append(current_loss)\n",
    "\n",
    "    \n",
    "    ### Evaluate training ###\n",
    "    model.eval()\n",
    "    train_preds, train_targs = [], []\n",
    "    for i in range(n_train_batches):\n",
    "        # Make batch\n",
    "        start_idx, end_idx = get_batch(batch_size=batch_size, i=i)\n",
    "        batch = shuffled[start_idx:end_idx]\n",
    "        x_batch, y_batch = batch_to_context(batch=batch, word_to_idx=word_to_idx)\n",
    "        \n",
    "        # Get predictions\n",
    "        output = model(x_batch)\n",
    "        preds = torch.max(output, 1)[1]\n",
    "        \n",
    "        train_targs += list(y_batch)\n",
    "        train_preds += list(preds.data.numpy())\n",
    "    \n",
    "    ### Evaluate validation ###\n",
    "    val_preds, val_targs = [], []\n",
    "    for i in range(n_valid_batches):\n",
    "        start_idx, end_idx = get_batch(batch_size=batch_size, i=i)\n",
    "        batch = valid_words[start_idx:end_idx]\n",
    "        x_batch, y_batch = batch_to_context(batch=batch, word_to_idx=word_to_idx)\n",
    "        \n",
    "        output = model(x_batch)\n",
    "        preds = torch.max(output, 1)[1]\n",
    "        val_preds += list(preds.data.numpy())\n",
    "        val_targs += list(y_batch)\n",
    "\n",
    "    train_acc_cur = accuracy_score(train_targs, train_preds)\n",
    "    valid_acc_cur = accuracy_score(val_targs, val_preds)\n",
    "    \n",
    "    train_acc.append(train_acc_cur)\n",
    "    valid_acc.append(valid_acc_cur)\n",
    "    \n",
    "    if epoch % 10 == 0:\n",
    "        print(\"Epoch %2i : Train Loss %f , Train acc %f, Valid acc %f\\n\" % (\n",
    "                epoch+1, losses[-1], train_acc_cur, valid_acc_cur))"
   ]
  },
  {
   "cell_type": "code",
   "execution_count": 16,
   "metadata": {},
   "outputs": [
    {
     "name": "stdout",
     "output_type": "stream",
     "text": [
      "[915.4679479598999, 912.7532720565796, 912.0352764129639, 911.3845415115356, 910.8033285140991, 910.5577421188354, 910.3872222900391, 910.1096391677856, 910.1094408035278, 910.2263984680176, 909.8893775939941, 909.9443321228027, 909.8281593322754, 909.7513284683228, 909.696795463562, 909.7926692962646, 909.6222457885742, 909.5670309066772, 909.5550012588501, 909.4972829818726, 909.4706888198853, 909.4804677963257, 909.4514970779419, 909.3448333740234, 909.3507413864136, 909.3246726989746, 909.2935771942139, 909.2784843444824, 909.352388381958, 909.2795963287354, 909.2704391479492, 909.1460161209106, 909.0623331069946, 909.0295972824097, 909.0131397247314, 908.9833288192749, 908.9727935791016, 908.9798183441162, 908.9626922607422, 909.0728406906128, 908.9997940063477, 908.9591073989868, 908.9660768508911, 908.9627199172974, 908.9525566101074, 908.9544820785522, 908.9513959884644, 908.9519052505493, 909.065770149231, 909.06471824646, 909.1997337341309, 909.128026008606, 909.1141929626465, 908.9996500015259, 908.9829273223877, 908.9590253829956, 909.0215091705322, 908.9782648086548, 908.9038105010986, 908.9283618927002, 908.8516826629639, 908.8949737548828, 908.8711023330688, 908.8647365570068, 908.8336915969849, 908.8329935073853, 908.8329839706421, 908.8329744338989, 908.8329858779907, 908.8329801559448, 908.8329839706421, 908.8329725265503, 908.8329830169678, 908.8329906463623, 908.832971572876, 908.8329820632935, 908.8329706192017, 908.8329782485962, 908.8329763412476, 908.8329706192017, 908.8329839706421, 908.8329553604126, 908.8414154052734, 908.882513999939, 908.8953380584717, 908.8723859786987, 908.8884582519531, 908.941014289856, 909.3404054641724, 909.1370801925659, 909.0718069076538, 908.9800701141357, 909.1012001037598, 908.9399738311768, 908.9494752883911, 908.9281005859375, 908.9956655502319, 908.933521270752, 908.8334465026855, 908.8320865631104]\n"
     ]
    }
   ],
   "source": [
    "print(losses)  # The loss does not decrease that much..."
   ]
  },
  {
   "cell_type": "code",
   "execution_count": 17,
   "metadata": {},
   "outputs": [
    {
     "data": {
      "image/png": "[encoded data removed]",
      "text/plain": [
       "<matplotlib.figure.Figure at 0x13684bf98>"
      ]
     },
     "metadata": {},
     "output_type": "display_data"
    }
   ],
   "source": [
    "# Plot training and validation performances\n",
    "epoch = np.arange(max_epochs)\n",
    "plt.figure()\n",
    "plt.plot(epoch, train_acc, 'r', epoch, valid_acc, 'b')\n",
    "plt.legend(['Train Acc', 'Val Acc'])\n",
    "plt.xlabel('Epochs')\n",
    "plt.ylabel('Acc')\n",
    "plt.show()"
   ]
  },
  {
   "cell_type": "code",
   "execution_count": 18,
   "metadata": {
    "collapsed": true
   },
   "outputs": [],
   "source": [
    "### Evaluate test set\n",
    "#x_batch = Variable(torch.from_numpy(x_test))\n",
    "#output = net(x_batch)\n",
    "#preds = torch.max(output, 1)[1]\n",
    "#print(\"\\nTest set Acc:  %f\" % (accuracy_score(list(targets_test), list(preds.data.numpy()))))"
   ]
  },
  {
   "cell_type": "code",
   "execution_count": null,
   "metadata": {
    "collapsed": true
   },
   "outputs": [],
   "source": []
  },
  {
   "cell_type": "code",
   "execution_count": null,
   "metadata": {
    "collapsed": true
   },
   "outputs": [],
   "source": []
  },
  {
   "cell_type": "code",
   "execution_count": null,
   "metadata": {
    "collapsed": true
   },
   "outputs": [],
   "source": []
  },
  {
   "cell_type": "markdown",
   "metadata": {
    "collapsed": true
   },
   "source": [
    "# Notes "
   ]
  },
  {
   "cell_type": "markdown",
   "metadata": {},
   "source": []
  }
 ],
 "metadata": {
  "kernelspec": {
   "display_name": "Python 3",
   "language": "python",
   "name": "python3"
  },
  "language_info": {
   "codemirror_mode": {
    "name": "ipython",
    "version": 3
   },
   "file_extension": ".py",
   "mimetype": "text/x-python",
   "name": "python",
   "nbconvert_exporter": "python",
   "pygments_lexer": "ipython3",
   "version": "3.6.2"
  }
 },
 "nbformat": 4,
 "nbformat_minor": 2
}
