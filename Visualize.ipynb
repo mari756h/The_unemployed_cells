{
 "cells": [
  {
   "cell_type": "code",
   "execution_count": 1,
   "metadata": {},
   "outputs": [],
   "source": [
    "# Import packages\n",
    "import matplotlib.pyplot as plt\n",
    "import numpy as np\n",
    "import sys\n",
    "import os"
   ]
  },
  {
   "cell_type": "markdown",
   "metadata": {},
   "source": [
    "# Get sequence lengths"
   ]
  },
  {
   "cell_type": "code",
   "execution_count": 11,
   "metadata": {},
   "outputs": [
    {
     "name": "stdout",
     "output_type": "stream",
     "text": [
      "# TRAINING SET\n",
      "Minimum: 21\n",
      "Maximum: 71981\n",
      "Mean: 1005.1242793485548\n",
      "Median: 693.0\n"
     ]
    }
   ],
   "source": [
    "# Training \n",
    "train = []\n",
    "with open('data/proteins.train.txt', 'r') as f: \n",
    "    for line in f: \n",
    "        train.append(len(line[:-1]))\n",
    "\n",
    "# Print stats \n",
    "print('# TRAINING SET')\n",
    "print('Minimum:', min(train))\n",
    "print('Maximum:', max(train))\n",
    "print('Mean:', np.mean(train))\n",
    "print('Median:', np.median(train))\n",
    "#print('Percentiles:', np.percentile(train, [0, 25, 50, 75, 100]))"
   ]
  },
  {
   "cell_type": "code",
   "execution_count": 13,
   "metadata": {},
   "outputs": [
    {
     "name": "stdout",
     "output_type": "stream",
     "text": [
      "# VALIDATION SET\n",
      "Minimum: 21\n",
      "Maximum: 58303\n",
      "Mean: 963.4025790852307\n",
      "Median: 663.0\n"
     ]
    }
   ],
   "source": [
    "# Validation\n",
    "valid = []\n",
    "with open('data/proteins.val.txt', 'r') as f: \n",
    "    for line in f: \n",
    "        valid.append(len(line[:-1]))\n",
    "\n",
    "# Print stats \n",
    "print('# VALIDATION SET')\n",
    "print('Minimum:', min(valid))\n",
    "print('Maximum:', max(valid))\n",
    "print('Mean:', np.mean(valid))\n",
    "print('Median:', np.median(valid))"
   ]
  },
  {
   "cell_type": "code",
   "execution_count": 14,
   "metadata": {},
   "outputs": [
    {
     "name": "stdout",
     "output_type": "stream",
     "text": [
      "# TEST SET\n",
      "Minimum: 21\n",
      "Maximum: 29013\n",
      "Mean: 963.9613078744521\n",
      "Median: 671.0\n"
     ]
    }
   ],
   "source": [
    "# Test\n",
    "test = []\n",
    "with open('data/proteins.test.txt', 'r') as f: \n",
    "    for line in f: \n",
    "        test.append(len(line[:-1]))\n",
    "\n",
    "# Print stats \n",
    "print('# TEST SET')\n",
    "print('Minimum:', min(test))\n",
    "print('Maximum:', max(test))\n",
    "print('Mean:', np.mean(test))\n",
    "print('Median:', np.median(test))"
   ]
  },
  {
   "cell_type": "code",
   "execution_count": null,
   "metadata": {},
   "outputs": [],
   "source": [
    "# The median and mean of all sets are below 1000 and close to 1000, respectively. \n",
    "# Therefore, only those with length 1000 and below are plotted. \n",
    "\n",
    "\n"
   ]
  },
  {
   "cell_type": "markdown",
   "metadata": {},
   "source": [
    "# Plot sequence lengths"
   ]
  },
  {
   "cell_type": "code",
   "execution_count": 31,
   "metadata": {},
   "outputs": [
    {
     "data": {
      "text/plain": [
       "([array([1.26159e+05, 5.52000e+02, 6.50000e+01, 7.00000e+00, 2.00000e+00,\n",
       "         2.00000e+00, 1.00000e+00, 2.00000e+00, 0.00000e+00, 5.00000e+00]),\n",
       "  array([1.9757e+04, 8.9000e+01, 4.0000e+00, 0.0000e+00, 0.0000e+00,\n",
       "         0.0000e+00, 0.0000e+00, 1.0000e+00, 1.0000e+00, 0.0000e+00]),\n",
       "  array([3.9501e+04, 1.8200e+02, 1.1000e+01, 3.0000e+00, 1.0000e+00,\n",
       "         0.0000e+00, 0.0000e+00, 0.0000e+00, 0.0000e+00, 0.0000e+00])],\n",
       " array([2.1000e+01, 7.2170e+03, 1.4413e+04, 2.1609e+04, 2.8805e+04,\n",
       "        3.6001e+04, 4.3197e+04, 5.0393e+04, 5.7589e+04, 6.4785e+04,\n",
       "        7.1981e+04]),\n",
       " <a list of 3 Lists of Patches objects>)"
      ]
     },
     "execution_count": 31,
     "metadata": {},
     "output_type": "execute_result"
    },
    {
     "data": {
      "image/png": "[encoded data removed]",
      "text/plain": [
       "<matplotlib.figure.Figure at 0x11bc4ddd8>"
      ]
     },
     "metadata": {
      "needs_background": "light"
     },
     "output_type": "display_data"
    }
   ],
   "source": [
    "# Set up figure\n",
    "fig = plt.figure()\n",
    "plt.xlabel('Sequence length')\n",
    "plt.ylabel('Count')\n",
    "plt.hist([train, valid, test])"
   ]
  },
  {
   "cell_type": "code",
   "execution_count": null,
   "metadata": {},
   "outputs": [],
   "source": []
  }
 ],
 "metadata": {
  "kernelspec": {
   "display_name": "Python 3",
   "language": "python",
   "name": "python3"
  },
  "language_info": {
   "codemirror_mode": {
    "name": "ipython",
    "version": 3
   },
   "file_extension": ".py",
   "mimetype": "text/x-python",
   "name": "python",
   "nbconvert_exporter": "python",
   "pygments_lexer": "ipython3",
   "version": "3.6.5"
  }
 },
 "nbformat": 4,
 "nbformat_minor": 2
}
