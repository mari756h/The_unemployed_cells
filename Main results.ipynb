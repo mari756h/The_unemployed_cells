{
 "cells": [
  {
   "cell_type": "markdown",
   "metadata": {},
   "source": [
    "# Predicting the language of life\n",
    "Created by Hannah-Marie Martiny and Marianne Helenius as part of the course 02456 Deep Learning at the Technical University of Denmark.\n",
    "\n",
    "The goal is to predict amino acids in a sequence at specific locations either by using the **Continuous Bag-of-Words model** or the **Skip-gram model**. "
   ]
  },
  {
   "cell_type": "markdown",
   "metadata": {},
   "source": [
    "# Continuous Bag-of-Words\n",
    "Written by: Marianne Helenius"
   ]
  },
  {
   "cell_type": "markdown",
   "metadata": {},
   "source": [
    "## Training CBoW\n",
    "The CBoW model has been implemented to run through command line with the following flags used in the run below: \n",
    "* `-train` and `-val` is the path to the training and validation data, respectively. \n",
    "* `-d` needs a string denoting the direction of the text window, which can be 'before', 'after' or 'both' for the models $p\\left(y_t|y_{t-c}\\right)$, $p\\left(y_t|y_{t+c}\\right)$ and $p\\left(y_t|y_{t-c}^{t+c}\\right)$, respectively. \n",
    "* `-pad` will store True and enable padding to be used in the model. \n",
    "* `-ws` is an integer and sets the window size, $c$. \n",
    "* `-embed` is an integer that sets the number of embedding dimensions. \n",
    "* `-b` is an integer that sets the batch size. \n",
    "* `-lr` needs a float and sets the learning rate for the model. \n",
    "* `-e` is an integer and sets the number of iterations or epochs for the model to run. \n",
    "* `-f` requires a string that will be used as postfix for all output files. \n",
    "\n",
    "Additional option flags include: \n",
    "* `-r` is the path to a saved checkpoint of the model, which enables resuming training. "
   ]
  },
  {
   "cell_type": "code",
   "execution_count": 1,
   "metadata": {},
   "outputs": [],
   "source": [
    "# Set flags and parameters\n",
    "tr = 'data/proteins.train.txt'\n",
    "v = 'data/proteins.val.txt'\n",
    "ws = 5\n",
    "d_ws = 'both'\n",
    "bs = 256\n",
    "emb = 2\n",
    "post_fix = '_{0}_{1}_lr001_em{2}'.format(d_ws, ws, emb)\n",
    "\n",
    "# Working directory, where output files will be saved\n",
    "wkdir = 'data/results/'"
   ]
  },
  {
   "cell_type": "code",
   "execution_count": null,
   "metadata": {},
   "outputs": [],
   "source": [
    "# Run CBoW model through command line\n",
    "!python CBoWscripts/main_CBoW_aa.py -train $tr -val $v -d $d_ws -pad -ws $ws -b $bs -f $post_fix -lr 0.001 -e 50 -embed $emb -wd $wkdir"
   ]
  },
  {
   "cell_type": "markdown",
   "metadata": {},
   "source": [
    "The program above will output the following files: \n",
    "* Checkpoints containing model details that can be loaded for testing or if training is resmed with *-r*. These are stored as .pt files. \n",
    "* Log files with epoch, loss, perplexity and accuracy. \n",
    "* The performance plot for the current number of epochs if traning is not interrupted prematurely."
   ]
  },
  {
   "cell_type": "markdown",
   "metadata": {},
   "source": [
    "## Testing best model"
   ]
  },
  {
   "cell_type": "code",
   "execution_count": 2,
   "metadata": {},
   "outputs": [],
   "source": [
    "# Import packages\n",
    "import CBoW_scripts.functions as f\n",
    "import torch\n",
    "import torch.utils.data as data_utils\n",
    "import torch.nn as nn\n",
    "import sys\n",
    "import os\n",
    "from tqdm import tqdm\n",
    "import numpy as np\n",
    "\n",
    "# Set best epoch\n",
    "check = 50"
   ]
  },
  {
   "cell_type": "markdown",
   "metadata": {},
   "source": [
    "### Load data"
   ]
  },
  {
   "cell_type": "code",
   "execution_count": 3,
   "metadata": {},
   "outputs": [
    {
     "name": "stdout",
     "output_type": "stream",
     "text": [
      "{'A': 1, 'C': 2, 'D': 3, 'E': 4, 'F': 5, 'G': 6, 'H': 7, 'I': 8, 'K': 9, 'L': 10, 'M': 11, 'N': 12, 'P': 13, 'Q': 14, 'R': 15, 'S': 16, 'T': 17, 'V': 18, 'W': 19, 'Y': 20, 'padding': 0}\n"
     ]
    }
   ],
   "source": [
    "# Load word2idx (was created during training)\n",
    "word2idx = torch.load('data/word2idx.pt')\n",
    "print(word2idx)"
   ]
  },
  {
   "cell_type": "code",
   "execution_count": 4,
   "metadata": {},
   "outputs": [
    {
     "name": "stdout",
     "output_type": "stream",
     "text": [
      "# Loading corpus...\n",
      "\tDone\n",
      "\n",
      "# Making context pairs...\n",
      "\tDone\n",
      "\n",
      "# Converting words to indices...\n",
      "(19153517, 10)\n",
      "\tDone\n",
      "\n",
      "Number of test samples:\t (19153517, 10)\n"
     ]
    }
   ],
   "source": [
    "# Load test data\n",
    "test_data = f.DataLoader()\n",
    "test_data.load_corpus(path='data/proteins.test.txt')\n",
    "\n",
    "# Make context pairs for validation data\n",
    "test_data.make_context_pairs(window_size=ws, padding=True, direction=d_ws)\n",
    "\n",
    "# Convert to numpy\n",
    "test_data.words_to_index(word2idx=word2idx)\n",
    "\n",
    "# After data has been loaded it is good to check what is looks like. \n",
    "print('Number of test samples:\\t', test_data.context_array[0].shape)"
   ]
  },
  {
   "cell_type": "code",
   "execution_count": 5,
   "metadata": {},
   "outputs": [],
   "source": [
    "# Make batches\n",
    "test = data_utils.TensorDataset(torch.from_numpy(test_data.context_array[0]), \n",
    "                                torch.from_numpy(test_data.context_array[1]))\n",
    "load_test = data_utils.DataLoader(test, batch_size=bs, shuffle=True)"
   ]
  },
  {
   "cell_type": "markdown",
   "metadata": {},
   "source": [
    "### Load model to test"
   ]
  },
  {
   "cell_type": "code",
   "execution_count": 6,
   "metadata": {},
   "outputs": [
    {
     "data": {
      "text/plain": [
       "False"
      ]
     },
     "execution_count": 6,
     "metadata": {},
     "output_type": "execute_result"
    }
   ],
   "source": [
    "# Set up to use GPU if available\n",
    "use_cuda = torch.cuda.is_available()\n",
    "use_cuda"
   ]
  },
  {
   "cell_type": "code",
   "execution_count": 7,
   "metadata": {},
   "outputs": [
    {
     "name": "stdout",
     "output_type": "stream",
     "text": [
      "cbow(\n",
      "  (embeddings): Embedding(21, 2, padding_idx=0)\n",
      "  (linear_out): Linear(in_features=2, out_features=21, bias=False)\n",
      ")\n"
     ]
    }
   ],
   "source": [
    "# Load net class\n",
    "net = f.cbow(vocab_size=len(word2idx), embedding_dim=emb, padding=True)\n",
    "\n",
    "# If GPU is available\n",
    "if use_cuda:\n",
    "    print('# Converting network to cuda-enabled')\n",
    "    net.cuda()\n",
    "    loc_map = None\n",
    "else: \n",
    "    loc_map='cpu'\n",
    "print(net)"
   ]
  },
  {
   "cell_type": "code",
   "execution_count": 8,
   "metadata": {},
   "outputs": [],
   "source": [
    "# Set up neural net\n",
    "net_path = wkdir+'check' + str(check) + post_fix + '.pt'\n",
    "check = torch.load(net_path, map_location=loc_map)\n",
    "net.load_state_dict(check['model_state_dict'])\n",
    "epoch = check['epoch']\n",
    "\n",
    "# Set criterion \n",
    "criterion = nn.CrossEntropyLoss()"
   ]
  },
  {
   "cell_type": "markdown",
   "metadata": {},
   "source": [
    "### Run test"
   ]
  },
  {
   "cell_type": "code",
   "execution_count": 9,
   "metadata": {},
   "outputs": [
    {
     "name": "stderr",
     "output_type": "stream",
     "text": [
      "[Epoch 50, test]: 100%|██████████| 74819/74819 [09:01<00:00, 138.07it/s, acc=0.101, loss=2.88, perp=17.8]"
     ]
    },
    {
     "name": "stdout",
     "output_type": "stream",
     "text": [
      "\n",
      "### Test completed!\n"
     ]
    },
    {
     "name": "stderr",
     "output_type": "stream",
     "text": [
      "\n"
     ]
    }
   ],
   "source": [
    "# Run model on test set\n",
    "test_acc, test_loss = [], []\n",
    "\n",
    "### Evaluation ###\n",
    "net.eval()\n",
    "\n",
    "test_preds, test_targs = [], []\n",
    "test_losses, test_accs, test_lengths = 0, 0, 0\n",
    "examples, n_examples = [], 5\n",
    "\n",
    "# Print running \n",
    "pbar_test = tqdm(load_test, position=0)\n",
    "pbar_test.set_description(\"[Epoch {}, test]\".format(epoch+1))\n",
    "\n",
    "for i, (inputs, labels) in enumerate(pbar_test):\n",
    "    #print('Batch {0}/{1}'.format(i+1, len(load_test)))\n",
    "    n_samples = inputs.shape[0]\n",
    "\n",
    "    # Convert targets and input to cuda if available\n",
    "    if use_cuda: \n",
    "        inputs = inputs.cuda()\n",
    "        labels = labels.cuda()\n",
    "\n",
    "    # Get predictions\n",
    "    output = net(inputs)\n",
    "    preds = torch.max(input=output, dim=1)[1]\n",
    "\n",
    "    if use_cuda: \n",
    "        preds = preds.data.cpu().numpy()\n",
    "    else: \n",
    "        preds = preds.data.numpy()\n",
    "\n",
    "    # Calculate validation loss\n",
    "    test_losses += criterion(output, labels).item() * n_samples\n",
    "    test_accs += f.accuracy(y_true=labels, y_pred=output) * n_samples\n",
    "    test_lengths += n_samples\n",
    "\n",
    "    # Save predictions and labels\n",
    "    test_preds += preds.tolist()\n",
    "    test_targs += labels.tolist()\n",
    "\n",
    "    # Save example inputs\n",
    "    if len(examples) < n_examples: \n",
    "        for n in range(n_examples):\n",
    "            examples.append([inputs[n], labels[n].item(), preds[n].item()])\n",
    "    \n",
    "    # Print percentage run\n",
    "    pbar_test.set_postfix(loss=test_losses/test_lengths, perp=np.exp(test_losses/test_lengths), acc=test_accs/test_lengths)\n",
    "print('\\n### Test completed!')"
   ]
  },
  {
   "cell_type": "code",
   "execution_count": 10,
   "metadata": {},
   "outputs": [
    {
     "name": "stdout",
     "output_type": "stream",
     "text": [
      "# Epoch 50, TEST: loss=2.879267, perp=17.801223, acc=0.100562\n",
      "\n"
     ]
    }
   ],
   "source": [
    "# Show results of evaluation\n",
    "print('# Epoch %2i, TEST: loss=%f, perp=%f, acc=%f\\n' % (epoch+1, test_losses/test_lengths, \n",
    "                                                         np.exp(test_losses/test_lengths), \n",
    "                                                         test_accs/test_lengths))"
   ]
  },
  {
   "cell_type": "code",
   "execution_count": 18,
   "metadata": {},
   "outputs": [
    {
     "name": "stdout",
     "output_type": "stream",
     "text": [
      "{1: 'A', 2: 'C', 3: 'D', 4: 'E', 5: 'F', 6: 'G', 7: 'H', 8: 'I', 9: 'K', 10: 'L', 11: 'M', 12: 'N', 13: 'P', 14: 'Q', 15: 'R', 16: 'S', 17: 'T', 18: 'V', 19: 'W', 20: 'Y', 0: 'padding'}\n"
     ]
    }
   ],
   "source": [
    "# Create idx2word\n",
    "idx2word = {value: key for key, value in word2idx.items()}\n",
    "print(idx2word)"
   ]
  },
  {
   "cell_type": "code",
   "execution_count": 24,
   "metadata": {},
   "outputs": [
    {
     "name": "stdout",
     "output_type": "stream",
     "text": [
      "# Input | Label | Prediction\n",
      "\n",
      "SSGTDTTEDS | S | S\n",
      "AGVKKPPTPQ | P | S\n",
      "AGKKYTDAYW | A | L\n",
      "VLNVENFISP | T | L\n",
      "ALRKKADEEG | I | L\n"
     ]
    }
   ],
   "source": [
    "# Show examples of predictions\n",
    "print('# Input | Label | Prediction\\n')\n",
    "for ex in examples: \n",
    "    i, l, p = ex\n",
    "    i = [idx2word[idx.item()] for idx in i]\n",
    "    print(''.join(i) + ' | ' + idx2word[l] + ' | ' + idx2word[p])"
   ]
  },
  {
   "cell_type": "markdown",
   "metadata": {},
   "source": [
    "# Skip-gram\n",
    "Written by: Hannah-Marie Martiny"
   ]
  },
  {
   "cell_type": "code",
   "execution_count": 2,
   "metadata": {},
   "outputs": [],
   "source": [
    "import torch\n",
    "import torch.optim as optim\n",
    "import torch.utils.data as data_utils\n",
    "import torch.nn as nn\n",
    "\n",
    "import numpy as np\n",
    "\n",
    "from utils.data_process import Preprocess\n",
    "from model.skipgram import SkipGram\n",
    "from utils.funcs import plot_tSNE"
   ]
  },
  {
   "cell_type": "markdown",
   "metadata": {},
   "source": [
    "## Training the Skip-gram model\n",
    "This training is also implemented as a command line program and can be run with the following arguments:\n",
    "- `--datadir DATADIR`: data directory\n",
    "- `--traindata TRAINDATA`: name for training data file\n",
    "- `--testdata TESTDATA`: name for test data file\n",
    "- `--validdata VALIDDATA`: name for validation data file\n",
    "- `--window WINDOW`: number of surrounding words (context size)\n",
    "- `--direction {forward,backward,both}`: specifies whether the words forward, backward or both\n",
    "- `--embeddingdim EMBEDDINGDIM`: number of embedding dimensions\n",
    "- `-lr LR`: learning rate\n",
    "- `--batchsize BATCHSIZE`: size of batches\n",
    "- `--epochs EPOCHS`: how many iterations the network should be trained in\n",
    "- `--subsampling`: whether or not the data should be subsampled\n",
    "- `--logevery LOGEVERY`: how often during training should results be printed out\n",
    "- `--optimizer {Adam,SGD}`: which optimizer should be used: Adam or Stochastic Graident Descent (SGD)\n",
    "- `--testnetwork`: boolean, should the network be tested on the training data?\n",
    "- `--tSNE`: boolean, should tSNE plot be created?\n",
    "- `--save`: boolean, save model each epoch\n",
    "\n",
    "An example of traing a model:\n",
    "\n",
    "`python main_sg.py --window 5 --direction forward --epochs 50 --optimizer SGD --embeddingdim 2 -lr 1e-2`"
   ]
  },
  {
   "cell_type": "markdown",
   "metadata": {},
   "source": [
    "## Testing a network\n",
    "This is the network that gave the best results when we evaluated the embeddings later on.\n",
    "\n",
    "This code also exists as a command line program (`python test_network_sg.py`), but here we show the whole code."
   ]
  },
  {
   "cell_type": "code",
   "execution_count": 3,
   "metadata": {},
   "outputs": [],
   "source": [
    "# Model parameters\n",
    "window = 5\n",
    "direction = 'forward'\n",
    "optim_func = 'SGD'\n",
    "lr = 1e-2\n",
    "embedding_dim = 2"
   ]
  },
  {
   "cell_type": "code",
   "execution_count": 4,
   "metadata": {},
   "outputs": [
    {
     "name": "stdout",
     "output_type": "stream",
     "text": [
      "{'_': 21, 'L': 1, 'S': 2, 'E': 3, 'A': 4, 'G': 5, 'V': 6, 'K': 7, 'P': 8, 'T': 9, 'R': 10, 'D': 11, 'Q': 12, 'I': 13, 'N': 14, 'F': 15, 'Y': 16, 'H': 17, 'M': 18, 'C': 19, 'W': 20}\n"
     ]
    }
   ],
   "source": [
    "# Load word2idx\n",
    "with open('data/sg_word2idx.txt') as f:\n",
    "    word2idx = eval(f.readline())\n",
    "\n",
    "print(word2idx)"
   ]
  },
  {
   "cell_type": "code",
   "execution_count": 5,
   "metadata": {},
   "outputs": [
    {
     "name": "stdout",
     "output_type": "stream",
     "text": [
      "Creating vocab\n",
      "Done with building vocab\n",
      "Converting corpus..\n",
      "Done\n"
     ]
    }
   ],
   "source": [
    "# Load the data\n",
    "f = open('data/proteins.test.txt', 'r')\n",
    "preprocess_test = Preprocess(window_size=window, unk='_')\n",
    "preprocess_test.build(file=f, word2idx=word2idx, direction=direction)\n",
    "f.close()"
   ]
  },
  {
   "cell_type": "code",
   "execution_count": 6,
   "metadata": {},
   "outputs": [],
   "source": [
    "# setup the network\n",
    "net = SkipGram(embedding_dim=2, vocab_size=preprocess_test.vocab_size+1)"
   ]
  },
  {
   "cell_type": "code",
   "execution_count": 7,
   "metadata": {},
   "outputs": [],
   "source": [
    "# create iterator for batches\n",
    "test_loader = data_utils.DataLoader(preprocess_test.data, batch_size=256, shuffle=True, num_workers=0)"
   ]
  },
  {
   "cell_type": "code",
   "execution_count": 8,
   "metadata": {},
   "outputs": [],
   "source": [
    "# check if cuda is available\n",
    "use_cuda = torch.cuda.is_available()    \n",
    "\n",
    "# read in the model file\n",
    "model_name = 'data/window_5_epoch_50_forward_SGD_lr0.01_emb2_model.pkl'\n",
    "if use_cuda:\n",
    "    checkpoint = torch.load(model_name)\n",
    "else:\n",
    "    checkpoint = torch.load(model_name, map_location='cpu')\n",
    "    \n",
    "# load previously trained weights\n",
    "net.load_state_dict(checkpoint['model_state_dict'])"
   ]
  },
  {
   "cell_type": "code",
   "execution_count": 9,
   "metadata": {},
   "outputs": [
    {
     "name": "stdout",
     "output_type": "stream",
     "text": [
      "Evaluating the model on the test data\n",
      "Test loss: 1.609, Test perplexity: 5.000\n"
     ]
    }
   ],
   "source": [
    "test_loss, test_length = 0, 0\n",
    "\n",
    "N = len(test_loader)\n",
    "print(\"Evaluating the model on the test data\")\n",
    "# test loop\n",
    "for i, (center, contexts) in enumerate(test_loader):\n",
    "    print(\"{0}/{1}\".format(i+1, N), end='\\r')\n",
    "    center = center.long()\n",
    "    contexts = contexts.long()\n",
    "\n",
    "    if use_cuda:\n",
    "        center = center.cuda()\n",
    "        contexts = contexts.cuda()\n",
    "\n",
    "    output = net(center, contexts)\n",
    "\n",
    "    loss = -output.mean(1).mean()\n",
    "\n",
    "    test_loss += loss.item() * center.shape[0]\n",
    "    test_length += center.shape[0]\n",
    "    \n",
    "test_loss /= test_length\n",
    "\n",
    "print(\"Test loss: {:.3f}, Test perplexity: {:.3f}\".format(test_loss, np.exp(test_loss)))"
   ]
  },
  {
   "cell_type": "code",
   "execution_count": 11,
   "metadata": {},
   "outputs": [
    {
     "name": "stdout",
     "output_type": "stream",
     "text": [
      "[t-SNE] Computing pairwise distances...\n",
      "[t-SNE] Computed conditional probabilities for sample 21 / 21\n",
      "[t-SNE] Mean sigma: 0.096975\n",
      "[t-SNE] KL divergence after 250 iterations with early exaggeration: 36.935554\n",
      "[t-SNE] KL divergence after 450 iterations: 0.077003\n"
     ]
    },
    {
     "data": {
      "image/png": "[encoded data removed]",
      "text/plain": [
       "<Figure size 1440x1440 with 1 Axes>"
      ]
     },
     "metadata": {
      "needs_background": "light"
     },
     "output_type": "display_data"
    }
   ],
   "source": [
    "%matplotlib inline\n",
    "# tSNE plot\n",
    "# get words / amino acids that are unique\n",
    "words = sorted(preprocess_test.wc, key=preprocess_test.wc.get, reverse=True)\n",
    "words_array = np.array(words)\n",
    "\n",
    "idx2vec = net.in_embedding.weight.data.cpu().numpy()\n",
    "\n",
    "plot_name = \"_\".join(model_name.split('_')[:-1]) + '_tSNE.png'\n",
    "plot_tSNE(idx2vec=idx2vec, word2idx=preprocess_test.word2idx, words=words_array, filename=plot_name)"
   ]
  },
  {
   "cell_type": "markdown",
   "metadata": {},
   "source": [
    "# Evaluating the embeddings from the two networks"
   ]
  },
  {
   "cell_type": "code",
   "execution_count": 12,
   "metadata": {},
   "outputs": [],
   "source": [
    "from analogical_reasoning import *"
   ]
  },
  {
   "cell_type": "markdown",
   "metadata": {},
   "source": [
    "## CBOW"
   ]
  },
  {
   "cell_type": "code",
   "execution_count": null,
   "metadata": {},
   "outputs": [],
   "source": []
  },
  {
   "cell_type": "markdown",
   "metadata": {},
   "source": [
    "## Skip-gram"
   ]
  },
  {
   "cell_type": "code",
   "execution_count": 13,
   "metadata": {},
   "outputs": [],
   "source": [
    "# load in idx2word\n",
    "with open('data/sg_idx2word.txt', 'r') as f:\n",
    "    idx2word = eval(f.readline())"
   ]
  },
  {
   "cell_type": "code",
   "execution_count": 16,
   "metadata": {},
   "outputs": [],
   "source": [
    "# embedding matrix\n",
    "idx2vec = net.in_embedding.weight.data.cpu()"
   ]
  },
  {
   "cell_type": "code",
   "execution_count": 23,
   "metadata": {
    "scrolled": false
   },
   "outputs": [
    {
     "name": "stdout",
     "output_type": "stream",
     "text": [
      "\n",
      "Top 3 closest words to L\n",
      "Blosum62 score for ('L', 'Q'): -2\n",
      "Blosum62 score for ('L', 'I'): 2\n",
      "Blosum62 score for ('L', 'L'): 4\n",
      "Top 3 blosum62 scores with L\n",
      "('L', 'L'): 4\n",
      "('M', 'L'): 2\n",
      "('L', 'I'): 2\n",
      "\n",
      "Top 3 closest words to S\n",
      "Blosum62 score for ('S', 'Q'): 0\n",
      "Blosum62 score for ('S', 'M'): -1\n",
      "Top 3 blosum62 scores with S\n",
      "('S', 'S'): 4\n",
      "('S', 'N'): 1\n",
      "('S', 'A'): 1\n",
      "\n",
      "Top 3 closest words to E\n",
      "Blosum62 score for ('E', 'Q'): 2\n",
      "Blosum62 score for ('I', 'E'): -3\n",
      "Blosum62 score for ('L', 'E'): -3\n",
      "Top 3 blosum62 scores with E\n",
      "('E', 'E'): 5\n",
      "('Z', 'E'): 4\n",
      "('E', 'D'): 2\n",
      "\n",
      "Top 3 closest words to A\n",
      "Blosum62 score for ('P', 'A'): -1\n",
      "Blosum62 score for ('H', 'A'): -2\n",
      "Blosum62 score for ('A', 'A'): 4\n",
      "Top 3 blosum62 scores with A\n",
      "('A', 'A'): 4\n",
      "('S', 'A'): 1\n",
      "('V', 'A'): 0\n",
      "\n",
      "Top 3 closest words to G\n",
      "Blosum62 score for ('M', 'G'): -3\n",
      "Blosum62 score for ('F', 'G'): -3\n",
      "Top 3 blosum62 scores with G\n",
      "('G', 'G'): 6\n",
      "('G', 'N'): 0\n",
      "('S', 'G'): 0\n",
      "\n",
      "Top 3 closest words to V\n",
      "Blosum62 score for ('V', 'Q'): -2\n",
      "Blosum62 score for ('V', 'I'): 3\n",
      "Blosum62 score for ('V', 'L'): 1\n",
      "Top 3 blosum62 scores with V\n",
      "('V', 'V'): 4\n",
      "('V', 'I'): 3\n",
      "('V', 'M'): 1\n",
      "\n",
      "Top 3 closest words to K\n",
      "Blosum62 score for ('K', 'Q'): 1\n",
      "Blosum62 score for ('K', 'I'): -3\n",
      "Blosum62 score for ('K', 'L'): -2\n",
      "Top 3 blosum62 scores with K\n",
      "('K', 'K'): 5\n",
      "('K', 'R'): 2\n",
      "('Z', 'K'): 1\n",
      "\n",
      "Top 3 closest words to P\n",
      "Blosum62 score for ('P', 'P'): 7\n",
      "Blosum62 score for ('P', 'H'): -2\n",
      "Blosum62 score for ('P', 'A'): -1\n",
      "Top 3 blosum62 scores with P\n",
      "('P', 'P'): 7\n",
      "('S', 'P'): -1\n",
      "('Z', 'P'): -1\n",
      "\n",
      "Top 3 closest words to T\n",
      "Blosum62 score for ('T', 'P'): -1\n",
      "Blosum62 score for ('T', 'H'): -2\n",
      "Blosum62 score for ('T', 'A'): 0\n",
      "Top 3 blosum62 scores with T\n",
      "('T', 'T'): 5\n",
      "('T', 'S'): 1\n",
      "('V', 'T'): 0\n",
      "\n",
      "Top 3 closest words to R\n",
      "Blosum62 score for ('W', 'R'): -3\n",
      "Blosum62 score for ('Q', 'R'): 1\n",
      "Blosum62 score for ('Y', 'R'): -2\n",
      "Top 3 blosum62 scores with R\n",
      "('R', 'R'): 5\n",
      "('K', 'R'): 2\n",
      "('Q', 'R'): 1\n",
      "\n",
      "Top 3 closest words to D\n",
      "Blosum62 score for ('P', 'D'): -1\n",
      "Blosum62 score for ('H', 'D'): -1\n",
      "Blosum62 score for ('C', 'D'): -3\n",
      "Top 3 blosum62 scores with D\n",
      "('D', 'D'): 6\n",
      "('B', 'D'): 4\n",
      "('E', 'D'): 2\n",
      "\n",
      "Top 3 closest words to Q\n",
      "Blosum62 score for ('Q', 'Q'): 5\n",
      "Blosum62 score for ('I', 'Q'): -3\n",
      "Blosum62 score for ('L', 'Q'): -2\n",
      "Top 3 blosum62 scores with Q\n",
      "('Q', 'Q'): 5\n",
      "('Z', 'Q'): 3\n",
      "('E', 'Q'): 2\n",
      "\n",
      "Top 3 closest words to I\n",
      "Blosum62 score for ('I', 'Q'): -3\n",
      "Blosum62 score for ('I', 'I'): 4\n",
      "Blosum62 score for ('L', 'I'): 2\n",
      "Top 3 blosum62 scores with I\n",
      "('I', 'I'): 4\n",
      "('V', 'I'): 3\n",
      "('L', 'I'): 2\n",
      "\n",
      "Top 3 closest words to N\n",
      "Blosum62 score for ('Q', 'N'): 0\n",
      "Blosum62 score for ('I', 'N'): -3\n",
      "Top 3 blosum62 scores with N\n",
      "('N', 'N'): 6\n",
      "('B', 'N'): 3\n",
      "('D', 'N'): 1\n",
      "\n",
      "Top 3 closest words to F\n",
      "Blosum62 score for ('P', 'F'): -4\n",
      "Blosum62 score for ('F', 'H'): -1\n",
      "Top 3 blosum62 scores with F\n",
      "('F', 'F'): 6\n",
      "('Y', 'F'): 3\n",
      "('W', 'F'): 1\n",
      "\n",
      "Top 3 closest words to Y\n",
      "Blosum62 score for ('Y', 'W'): 2\n",
      "Blosum62 score for ('Y', 'Q'): -1\n",
      "Blosum62 score for ('Y', 'Y'): 7\n",
      "Top 3 blosum62 scores with Y\n",
      "('Y', 'Y'): 7\n",
      "('Y', 'F'): 3\n",
      "('Y', 'W'): 2\n",
      "\n",
      "Top 3 closest words to H\n",
      "Blosum62 score for ('P', 'H'): -2\n",
      "Blosum62 score for ('H', 'H'): 8\n",
      "Blosum62 score for ('H', 'A'): -2\n",
      "Top 3 blosum62 scores with H\n",
      "('H', 'H'): 8\n",
      "('Y', 'H'): 2\n",
      "('H', 'N'): 1\n",
      "\n",
      "Top 3 closest words to M\n",
      "Blosum62 score for ('M', 'Q'): 0\n",
      "Blosum62 score for ('M', 'M'): 5\n",
      "Top 3 blosum62 scores with M\n",
      "('M', 'M'): 5\n",
      "('M', 'L'): 2\n",
      "('V', 'M'): 1\n",
      "\n",
      "Top 3 closest words to C\n",
      "Blosum62 score for ('H', 'C'): -3\n",
      "Blosum62 score for ('P', 'C'): -3\n",
      "Blosum62 score for ('C', 'C'): 9\n",
      "Top 3 blosum62 scores with C\n",
      "('C', 'C'): 9\n",
      "('C', 'A'): 0\n",
      "('S', 'C'): -1\n",
      "\n",
      "Top 3 closest words to W\n",
      "Blosum62 score for ('W', 'W'): 11\n",
      "Blosum62 score for ('W', 'Q'): -2\n",
      "Blosum62 score for ('W', 'I'): -3\n",
      "Top 3 blosum62 scores with W\n",
      "('W', 'W'): 11\n",
      "('Y', 'W'): 2\n",
      "('W', 'F'): 1\n",
      "\n",
      "Top 3 closest words to _\n",
      "Top 3 blosum62 scores with _\n",
      "Blosum62 comparison with k nearest neighbors to each amino acid\n",
      "Accuracy: 0.3\n"
     ]
    }
   ],
   "source": [
    "correct_blosum62, n = 0, 0\n",
    "for aa in range(1, len(idx2word)):\n",
    "    score, ns = compare_blosum62(idx2vec, idx2word, aa, k=3, verbose=True)\n",
    "    if isinstance(score, int):\n",
    "        correct_blosum62 += score\n",
    "        n += ns\n",
    "\n",
    "print(\"Blosum62 comparison with k nearest neighbors to each amino acid\\nAccuracy:\", correct_blosum62/n)"
   ]
  },
  {
   "cell_type": "code",
   "execution_count": 19,
   "metadata": {},
   "outputs": [
    {
     "name": "stdout",
     "output_type": "stream",
     "text": [
      "Most similar word to L: Q with probability 0.034\n",
      "Most similar word to S: _ with probability 0.005\n",
      "Most similar word to E: Q with probability 0.018\n",
      "Most similar word to A: P with probability 0.028\n",
      "Most similar word to G: _ with probability 0.005\n",
      "Most similar word to V: Q with probability 0.030\n",
      "Most similar word to K: Q with probability 0.023\n",
      "Most similar word to P: P with probability 0.066\n",
      "Most similar word to T: P with probability 0.018\n",
      "Most similar word to R: W with probability 0.006\n",
      "Most similar word to D: P with probability 0.024\n",
      "Most similar word to Q: Q with probability 0.058\n",
      "Most similar word to I: Q with probability 0.040\n",
      "Most similar word to N: _ with probability 0.012\n",
      "Most similar word to F: P with probability 0.009\n",
      "Most similar word to Y: W with probability 0.019\n",
      "Most similar word to H: P with probability 0.060\n",
      "Most similar word to M: _ with probability 0.034\n",
      "Most similar word to C: H with probability 0.026\n",
      "Most similar word to W: W with probability 0.030\n",
      "Most similar word to _: _ with probability 0.083\n"
     ]
    }
   ],
   "source": [
    "for aa in range(1, len(idx2word)):\n",
    "    most_similar(idx2vec, idx2word, aa)"
   ]
  },
  {
   "cell_type": "code",
   "execution_count": 21,
   "metadata": {},
   "outputs": [
    {
     "name": "stdout",
     "output_type": "stream",
     "text": [
      "Predicted analogy:\n",
      "D is to E, as Q is to Q\n",
      "Expected analogy:\n",
      "D is to E, as Q is to N\n",
      "\n",
      "Predicted analogy:\n",
      "D is to E, as S is to Q\n",
      "Expected analogy:\n",
      "D is to E, as S is to T\n",
      "\n",
      "Predicted analogy:\n",
      "R is to K, as N is to Q\n",
      "Expected analogy:\n",
      "R is to K, as N is to Q\n",
      "\n",
      "Predicted analogy:\n",
      "M is to L, as V is to Q\n",
      "Expected analogy:\n",
      "M is to L, as V is to I\n",
      "\n",
      "Predicted analogy:\n",
      "K is to R, as S is to P\n",
      "Expected analogy:\n",
      "K is to R, as S is to T\n",
      "\n",
      "Predicted analogy:\n",
      "E is to D, as M is to P\n",
      "Expected analogy:\n",
      "E is to D, as M is to L\n",
      "\n",
      "Predicted analogy:\n",
      "S is to T, as G is to P\n",
      "Expected analogy:\n",
      "S is to T, as G is to P\n",
      "\n",
      "Accuracy for analogical reasoning: 0.286\n"
     ]
    }
   ],
   "source": [
    "with open('data/analogical_reasoning.txt', 'r') as f:\n",
    "    n = 0\n",
    "    correct = 0\n",
    "    for line in f.readlines():\n",
    "\n",
    "        # skip comment lines\n",
    "        if line[0] != '#':\n",
    "            n += 1\n",
    "            w1, w2, w3, w4 = line.strip('\\n').split(' ')\n",
    "            correct += eval_analogies(idx2vec, idx2word, word2idx[w1], word2idx[w2], word2idx[w3], word2idx[w4], verbose=True)\n",
    "\n",
    "    print(\"Accuracy for analogical reasoning: {:.3f}\".format(correct/n))"
   ]
  }
 ],
 "metadata": {
  "kernelspec": {
   "display_name": "Python 3",
   "language": "python",
   "name": "python3"
  },
  "language_info": {
   "codemirror_mode": {
    "name": "ipython",
    "version": 3
   },
   "file_extension": ".py",
   "mimetype": "text/x-python",
   "name": "python",
   "nbconvert_exporter": "python",
   "pygments_lexer": "ipython3",
   "version": "3.6.7"
  }
 },
 "nbformat": 4,
 "nbformat_minor": 2
}
