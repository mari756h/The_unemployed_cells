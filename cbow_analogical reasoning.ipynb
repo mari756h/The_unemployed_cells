{
 "cells": [
  {
   "cell_type": "markdown",
   "metadata": {},
   "source": [
    "# Analogical reasoning"
   ]
  },
  {
   "cell_type": "code",
   "execution_count": 1,
   "metadata": {},
   "outputs": [],
   "source": [
    "import torch\n",
    "\n",
    "wkdir = '/Users/Marianne/Dropbox (Personlig)/DTU/9. semester/02456_Deep_learning/project/results/'"
   ]
  },
  {
   "cell_type": "code",
   "execution_count": 4,
   "metadata": {},
   "outputs": [
    {
     "name": "stdout",
     "output_type": "stream",
     "text": [
      "{'A': 1, 'C': 2, 'D': 3, 'E': 4, 'F': 5, 'G': 6, 'H': 7, 'I': 8, 'K': 9, 'L': 10, 'M': 11, 'N': 12, 'P': 13, 'Q': 14, 'R': 15, 'S': 16, 'T': 17, 'V': 18, 'W': 19, 'Y': 20, 'padding': 0} 21\n",
      "{1: 'A', 2: 'C', 3: 'D', 4: 'E', 5: 'F', 6: 'G', 7: 'H', 8: 'I', 9: 'K', 10: 'L', 11: 'M', 12: 'N', 13: 'P', 14: 'Q', 15: 'R', 16: 'S', 17: 'T', 18: 'V', 19: 'W', 20: 'Y', 0: 'padding'} 21\n"
     ]
    }
   ],
   "source": [
    "# Load word2idx and idx2word\n",
    "word2idx = torch.load('data/word2idx.pt')\n",
    "print(word2idx, len(word2idx))\n",
    "idx2word = torch.load('data/idx2word.pt')\n",
    "print(idx2word, len(idx2word))"
   ]
  },
  {
   "cell_type": "code",
   "execution_count": 7,
   "metadata": {},
   "outputs": [
    {
     "name": "stdout",
     "output_type": "stream",
     "text": [
      "['padding', 'A', 'C', 'D', 'E', 'F', 'G', 'H', 'I', 'K', 'L', 'M', 'N', 'P', 'Q', 'R', 'S', 'T', 'V', 'W', 'Y']\n"
     ]
    }
   ],
   "source": [
    "# Save to files\n",
    "with open('data/w2i.txt', 'w') as outfile: \n",
    "    outfile.write(str(word2idx))\n",
    "with open('data/i2w.txt', 'w') as outfile:\n",
    "    id_list = [idx2word[key] for key in sorted(idx2word)]\n",
    "    print(id_list)\n",
    "    outfile.write(str(id_list))"
   ]
  },
  {
   "cell_type": "markdown",
   "metadata": {},
   "source": [
    "The analogical reasoning script is run through command line. "
   ]
  },
  {
   "cell_type": "code",
   "execution_count": 9,
   "metadata": {},
   "outputs": [
    {
     "name": "stdout",
     "output_type": "stream",
     "text": [
      "Most similar word to padding: padding with probability 0.000\r\n",
      "Most similar word to A: S with probability 8.534\r\n",
      "Most similar word to C: P with probability 1.144\r\n",
      "Most similar word to D: E with probability 4.943\r\n",
      "Most similar word to E: E with probability 10.011\r\n",
      "Most similar word to F: A with probability 1.556\r\n",
      "Most similar word to G: P with probability 7.859\r\n",
      "Most similar word to H: S with probability 1.278\r\n",
      "Most similar word to I: E with probability 3.573\r\n",
      "Most similar word to K: E with probability 8.100\r\n",
      "Most similar word to L: E with probability 5.572\r\n",
      "Most similar word to M: E with probability 3.892\r\n",
      "Most similar word to N: E with probability 2.523\r\n",
      "Most similar word to P: P with probability 11.712\r\n",
      "Most similar word to Q: E with probability 5.366\r\n",
      "Most similar word to R: E with probability 5.246\r\n",
      "Most similar word to S: P with probability 9.840\r\n",
      "Most similar word to T: S with probability 6.412\r\n",
      "Most similar word to V: S with probability 4.605\r\n",
      "Most similar word to W: W with probability 0.188\r\n",
      "Most similar word to Y: E with probability 0.393\r\n",
      "\r\n",
      "Predicted analogy:\r\n",
      "D is to E, as Q is to E\r\n",
      "Expected analogy:\r\n",
      "D is to E, as Q is to N\r\n",
      "\r\n",
      "Predicted analogy:\r\n",
      "D is to E, as S is to A\r\n",
      "Expected analogy:\r\n",
      "D is to E, as S is to T\r\n",
      "\r\n",
      "Predicted analogy:\r\n",
      "R is to K, as N is to E\r\n",
      "Expected analogy:\r\n",
      "R is to K, as N is to Q\r\n",
      "\r\n",
      "Predicted analogy:\r\n",
      "M is to L, as V is to S\r\n",
      "Expected analogy:\r\n",
      "M is to L, as V is to I\r\n",
      "\r\n",
      "Predicted analogy:\r\n",
      "K is to R, as S is to P\r\n",
      "Expected analogy:\r\n",
      "K is to R, as S is to T\r\n",
      "\r\n",
      "Predicted analogy:\r\n",
      "E is to D, as M is to P\r\n",
      "Expected analogy:\r\n",
      "E is to D, as M is to L\r\n",
      "\r\n",
      "Predicted analogy:\r\n",
      "S is to T, as G is to P\r\n",
      "Expected analogy:\r\n",
      "S is to T, as G is to P\r\n",
      "\r\n",
      "Accuracy: 0.143\r\n"
     ]
    }
   ],
   "source": [
    "!python analogical_reasoning.py --idx2word 'data/i2w.txt' --word2idx 'data/w2i.txt' --file 'data/analogical_reasoning.txt' --model_type 'CBOW' --model 'data/check50_both_5_lr001_em2.pt' --emb_dim 2 --vocab_size 21 --verbose\n",
    "\n"
   ]
  },
  {
   "cell_type": "code",
   "execution_count": null,
   "metadata": {},
   "outputs": [],
   "source": []
  },
  {
   "cell_type": "code",
   "execution_count": null,
   "metadata": {},
   "outputs": [],
   "source": []
  }
 ],
 "metadata": {
  "kernelspec": {
   "display_name": "Python 3",
   "language": "python",
   "name": "python3"
  },
  "language_info": {
   "codemirror_mode": {
    "name": "ipython",
    "version": 3
   },
   "file_extension": ".py",
   "mimetype": "text/x-python",
   "name": "python",
   "nbconvert_exporter": "python",
   "pygments_lexer": "ipython3",
   "version": "3.6.5"
  }
 },
 "nbformat": 4,
 "nbformat_minor": 2
}
