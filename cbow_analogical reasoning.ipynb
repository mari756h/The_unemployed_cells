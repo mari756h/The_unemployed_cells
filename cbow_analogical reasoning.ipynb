{
 "cells": [
  {
   "cell_type": "markdown",
   "metadata": {},
   "source": [
    "# Analogical reasoning & blosum62"
   ]
  },
  {
   "cell_type": "code",
   "execution_count": null,
   "metadata": {},
   "outputs": [],
   "source": [
    "import torch\n",
    "wkdir = 'data/results'"
   ]
  },
  {
   "cell_type": "code",
   "execution_count": null,
   "metadata": {},
   "outputs": [],
   "source": [
    "# Load word2idx and idx2word\n",
    "word2idx = torch.load('data/word2idx.pt')\n",
    "print(word2idx, len(word2idx))\n",
    "idx2word = torch.load('data/idx2word.pt')\n",
    "print(idx2word, len(idx2word))"
   ]
  },
  {
   "cell_type": "code",
   "execution_count": null,
   "metadata": {},
   "outputs": [],
   "source": [
    "# Replace key/value 'padding' with '_'\n",
    "word2idx['_'] = word2idx.pop('padding')\n",
    "idx2word[0] = '_'"
   ]
  },
  {
   "cell_type": "code",
   "execution_count": null,
   "metadata": {},
   "outputs": [],
   "source": [
    "# Save to files\n",
    "with open('data/w2i.txt', 'w') as outfile: \n",
    "    outfile.write(str(word2idx))\n",
    "with open('data/i2w.txt', 'w') as outfile:\n",
    "    id_list = [idx2word[key] for key in sorted(idx2word)]\n",
    "    outfile.write(str(id_list))"
   ]
  },
  {
   "cell_type": "markdown",
   "metadata": {},
   "source": [
    "The analogical reasoning script is run through command line. "
   ]
  },
  {
   "cell_type": "code",
   "execution_count": null,
   "metadata": {},
   "outputs": [],
   "source": [
    "model_paths = ['data/results/check20_both_1_lr001_em2.pt', \n",
    "               'data/results/check50_both_5_lr001_em2.pt',\n",
    "               'data/results/check46_both_10_lr001_em2.pt',\n",
    "               'data/results/check20_both_20_lr001_em2.pt',\n",
    "               'data/results/check20_before_1_lr001_em2.pt',\n",
    "               'data/results/check48_before_5_lr001_em2.pt',\n",
    "               'data/results/check50_before_10_lr001_em2.pt', \n",
    "               'data/results/check20_before_20_lr001_em2.pt',\n",
    "               'data/results/check20_after_1_lr001_em2.pt',\n",
    "               'data/results/check50_after_5_lr001_em2.pt',\n",
    "               'data/results/check50_after_10_lr001_em2.pt', \n",
    "               'data/results/check20_after_20_lr001_em2.pt']"
   ]
  },
  {
   "cell_type": "code",
   "execution_count": null,
   "metadata": {
    "scrolled": false
   },
   "outputs": [],
   "source": [
    "for model in model_paths: \n",
    "    print('\\n###', model.split(sep='/')[-1])\n",
    "    !python analogical_reasoning.py --idx2word 'data/i2w.txt' --word2idx 'data/w2i.txt' --file 'data/analogical_reasoning.txt' --model_type 'CBOW' --model $model --emb_dim 2 --vocab_size 21 --blosum62\n",
    "    "
   ]
  }
 ],
 "metadata": {
  "kernelspec": {
   "display_name": "Python 3",
   "language": "python",
   "name": "python3"
  },
  "language_info": {
   "codemirror_mode": {
    "name": "ipython",
    "version": 3
   },
   "file_extension": ".py",
   "mimetype": "text/x-python",
   "name": "python",
   "nbconvert_exporter": "python",
   "pygments_lexer": "ipython3",
   "version": "3.6.5"
  }
 },
 "nbformat": 4,
 "nbformat_minor": 2
}
