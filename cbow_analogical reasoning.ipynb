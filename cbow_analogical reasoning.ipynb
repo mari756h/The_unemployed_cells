{
 "cells": [
  {
   "cell_type": "markdown",
   "metadata": {},
   "source": [
    "# Analogical reasoning"
   ]
  },
  {
   "cell_type": "code",
   "execution_count": 7,
   "metadata": {},
   "outputs": [],
   "source": [
    "import torch\n",
    "wkdir = 'data/results'"
   ]
  },
  {
   "cell_type": "code",
   "execution_count": 8,
   "metadata": {},
   "outputs": [
    {
     "name": "stdout",
     "output_type": "stream",
     "text": [
      "{'A': 1, 'C': 2, 'D': 3, 'E': 4, 'F': 5, 'G': 6, 'H': 7, 'I': 8, 'K': 9, 'L': 10, 'M': 11, 'N': 12, 'P': 13, 'Q': 14, 'R': 15, 'S': 16, 'T': 17, 'V': 18, 'W': 19, 'Y': 20, 'padding': 0} 21\n",
      "{1: 'A', 2: 'C', 3: 'D', 4: 'E', 5: 'F', 6: 'G', 7: 'H', 8: 'I', 9: 'K', 10: 'L', 11: 'M', 12: 'N', 13: 'P', 14: 'Q', 15: 'R', 16: 'S', 17: 'T', 18: 'V', 19: 'W', 20: 'Y', 0: 'padding'} 21\n"
     ]
    }
   ],
   "source": [
    "# Load word2idx and idx2word\n",
    "word2idx = torch.load('data/word2idx.pt')\n",
    "print(word2idx, len(word2idx))\n",
    "idx2word = torch.load('data/idx2word.pt')\n",
    "print(idx2word, len(idx2word))"
   ]
  },
  {
   "cell_type": "code",
   "execution_count": 9,
   "metadata": {},
   "outputs": [],
   "source": [
    "# Replace key/value 'padding' with '_'\n",
    "word2idx['_'] = word2idx.pop('padding')\n",
    "idx2word[0] = '_'"
   ]
  },
  {
   "cell_type": "code",
   "execution_count": 10,
   "metadata": {},
   "outputs": [],
   "source": [
    "# Save to files\n",
    "with open('data/w2i.txt', 'w') as outfile: \n",
    "    outfile.write(str(word2idx))\n",
    "with open('data/i2w.txt', 'w') as outfile:\n",
    "    id_list = [idx2word[key] for key in sorted(idx2word)]\n",
    "    outfile.write(str(id_list))"
   ]
  },
  {
   "cell_type": "markdown",
   "metadata": {},
   "source": [
    "The analogical reasoning script is run through command line. "
   ]
  },
  {
   "cell_type": "code",
   "execution_count": null,
   "metadata": {},
   "outputs": [],
   "source": [
    "model_paths = ['data/results/check50_both_5_lr001_em2.pt']"
   ]
  },
  {
   "cell_type": "code",
   "execution_count": 13,
   "metadata": {
    "scrolled": false
   },
   "outputs": [
    {
     "name": "stdout",
     "output_type": "stream",
     "text": [
      "Blosum62 comparison with k nearest neighbors to each amino acid\r\n",
      "Accuracy: 0.15\r\n",
      "\r\n",
      "Accuracy for analogical reasoning: 0.143\r\n"
     ]
    }
   ],
   "source": [
    "for model in model_list: \n",
    "    !python analogical_reasoning.py --idx2word 'data/i2w.txt' --word2idx 'data/w2i.txt' --file 'data/analogical_reasoning.txt' --model_type 'CBOW' --model $model --emb_dim 2 --vocab_size 21 --blosum62\n",
    "\n"
   ]
  },
  {
   "cell_type": "code",
   "execution_count": null,
   "metadata": {},
   "outputs": [],
   "source": []
  },
  {
   "cell_type": "code",
   "execution_count": null,
   "metadata": {},
   "outputs": [],
   "source": []
  }
 ],
 "metadata": {
  "kernelspec": {
   "display_name": "Python 3",
   "language": "python",
   "name": "python3"
  },
  "language_info": {
   "codemirror_mode": {
    "name": "ipython",
    "version": 3
   },
   "file_extension": ".py",
   "mimetype": "text/x-python",
   "name": "python",
   "nbconvert_exporter": "python",
   "pygments_lexer": "ipython3",
   "version": "3.6.5"
  }
 },
 "nbformat": 4,
 "nbformat_minor": 2
}
